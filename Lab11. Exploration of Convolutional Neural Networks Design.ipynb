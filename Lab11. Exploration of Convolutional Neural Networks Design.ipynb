{
 "cells": [
  {
   "cell_type": "markdown",
   "id": "37f2da28",
   "metadata": {},
   "source": [
    "### PRAGADEESH M\n",
    "## 225229126"
   ]
  },
  {
   "cell_type": "code",
   "execution_count": 1,
   "id": "5831c0a6-a4d0-4326-8419-7cbf415189dd",
   "metadata": {},
   "outputs": [],
   "source": [
    "import numpy as np\n",
    "import pandas as pd\n",
    "import matplotlib.pyplot as plt\n",
    "from keras.models import Sequential \n",
    "from keras import regularizers\n",
    "from keras.layers import Dense, Activation, Dropout, Flatten, Dense, Dropout, Activation, Flatten, Conv2D, MaxPooling2D\n",
    "from keras import backend as K\n",
    "import tensorflow as tf\n",
    "import keras"
   ]
  },
  {
   "cell_type": "code",
   "execution_count": 40,
   "id": "5cd8047b-ad2b-4853-a092-6a14a33ac22a",
   "metadata": {},
   "outputs": [],
   "source": [
    "from keras.datasets import mnist\n",
    "(x_train, y_train),(x_test, y_test) = mnist.load_data()"
   ]
  },
  {
   "cell_type": "code",
   "execution_count": 41,
   "id": "7e2fe537-cb7c-41db-8dcf-28adc6f9b9ec",
   "metadata": {},
   "outputs": [],
   "source": [
    "x_train = x_train.astype('float32') \n",
    "x_test = x_test.astype('float32') \n",
    "x_train /= 255 \n",
    "x_test /= 255 \n",
    "\n",
    "y_train = keras.utils.to_categorical(y_train, 10) \n",
    "y_test = keras.utils.to_categorical(y_test, 10)"
   ]
  },
  {
   "cell_type": "markdown",
   "id": "1b0f644a-0203-4631-8ea7-7c097ebdb0e9",
   "metadata": {},
   "source": [
    "### 1. Number of filters"
   ]
  },
  {
   "cell_type": "code",
   "execution_count": 24,
   "id": "df86a23c-c936-4812-85ee-fbe793a3f34b",
   "metadata": {},
   "outputs": [],
   "source": [
    "def model(filter,layers,act='relu',kernel=3):\n",
    "    model = Sequential()\n",
    "    for i in range(layers):\n",
    "        model.add(Conv2D(filter,(kernel, kernel), activation=act, input_shape=(28,28,1)))\n",
    "        model.add(Flatten())\n",
    "        model.add(Dense(10,activation = 'softmax'))\n",
    "        model.compile(optimizer='adam', loss='categorical_crossentropy', metrics=['accuracy'])\n",
    "        model.fit(x_train,y_train,epochs=1)\n",
    "        model.evaluate(x_test, y_test)\n",
    "        return model"
   ]
  },
  {
   "cell_type": "code",
   "execution_count": 5,
   "id": "be6d3b50-9590-48b1-9d2d-f50b9c560823",
   "metadata": {},
   "outputs": [
    {
     "name": "stdout",
     "output_type": "stream",
     "text": [
      "Epoch 1/5\n",
      "1875/1875 [==============================] - 34s 17ms/step - loss: 0.1855 - accuracy: 0.9468\n",
      "Epoch 2/5\n",
      "1875/1875 [==============================] - 35s 19ms/step - loss: 0.0709 - accuracy: 0.9791\n",
      "Epoch 3/5\n",
      "1875/1875 [==============================] - 35s 19ms/step - loss: 0.0495 - accuracy: 0.9850\n",
      "Epoch 4/5\n",
      "1875/1875 [==============================] - 38s 20ms/step - loss: 0.0369 - accuracy: 0.9883\n",
      "Epoch 5/5\n",
      "1875/1875 [==============================] - 34s 18ms/step - loss: 0.0285 - accuracy: 0.9913\n",
      "313/313 [==============================] - 3s 8ms/step - loss: 0.0605 - accuracy: 0.9814\n"
     ]
    },
    {
     "data": {
      "text/plain": [
       "<keras.src.engine.sequential.Sequential at 0x2402fbda890>"
      ]
     },
     "execution_count": 5,
     "metadata": {},
     "output_type": "execute_result"
    }
   ],
   "source": [
    "model(32,1)"
   ]
  },
  {
   "cell_type": "code",
   "execution_count": 6,
   "id": "66303123-7fab-422c-8a72-123c305a05c4",
   "metadata": {},
   "outputs": [
    {
     "name": "stdout",
     "output_type": "stream",
     "text": [
      "Epoch 1/5\n",
      "1875/1875 [==============================] - 19s 9ms/step - loss: 0.3216 - accuracy: 0.9084\n",
      "Epoch 2/5\n",
      "1875/1875 [==============================] - 20s 10ms/step - loss: 0.1682 - accuracy: 0.9521\n",
      "Epoch 3/5\n",
      "1875/1875 [==============================] - 22s 11ms/step - loss: 0.1231 - accuracy: 0.9641\n",
      "Epoch 4/5\n",
      "1875/1875 [==============================] - 20s 11ms/step - loss: 0.1019 - accuracy: 0.9692\n",
      "Epoch 5/5\n",
      "1875/1875 [==============================] - 19s 10ms/step - loss: 0.0888 - accuracy: 0.9731\n",
      "313/313 [==============================] - 3s 7ms/step - loss: 0.0970 - accuracy: 0.9696\n"
     ]
    },
    {
     "data": {
      "text/plain": [
       "<keras.src.engine.sequential.Sequential at 0x24057e5d3d0>"
      ]
     },
     "execution_count": 6,
     "metadata": {},
     "output_type": "execute_result"
    }
   ],
   "source": [
    "model(4,1)"
   ]
  },
  {
   "cell_type": "code",
   "execution_count": 7,
   "id": "a408e849-068b-4418-bd60-afd1ce99d6a0",
   "metadata": {},
   "outputs": [
    {
     "name": "stdout",
     "output_type": "stream",
     "text": [
      "Epoch 1/5\n",
      "1875/1875 [==============================] - 4776s 3s/step - loss: 0.1408 - accuracy: 0.9580\n",
      "Epoch 2/5\n",
      "1875/1875 [==============================] - 73s 39ms/step - loss: 0.0556 - accuracy: 0.9830\n",
      "Epoch 3/5\n",
      "1875/1875 [==============================] - 82s 44ms/step - loss: 0.0377 - accuracy: 0.9881\n",
      "Epoch 4/5\n",
      "1875/1875 [==============================] - 87s 46ms/step - loss: 0.0246 - accuracy: 0.9920\n",
      "Epoch 5/5\n",
      "1875/1875 [==============================] - 85s 46ms/step - loss: 0.0171 - accuracy: 0.9947\n",
      "313/313 [==============================] - 5s 15ms/step - loss: 0.0654 - accuracy: 0.9817\n"
     ]
    },
    {
     "data": {
      "text/plain": [
       "<keras.src.engine.sequential.Sequential at 0x240663b02d0>"
      ]
     },
     "execution_count": 7,
     "metadata": {},
     "output_type": "execute_result"
    }
   ],
   "source": [
    "model(128,1)"
   ]
  },
  {
   "cell_type": "code",
   "execution_count": 8,
   "id": "527c2a94-03d5-4e5e-9eb9-c483d4fef93c",
   "metadata": {},
   "outputs": [
    {
     "name": "stdout",
     "output_type": "stream",
     "text": [
      "Epoch 1/5\n",
      "1875/1875 [==============================] - 267s 142ms/step - loss: 0.1290 - accuracy: 0.9607\n",
      "Epoch 2/5\n",
      "1875/1875 [==============================] - 268s 143ms/step - loss: 0.0527 - accuracy: 0.9837\n",
      "Epoch 3/5\n",
      "1875/1875 [==============================] - 727s 388ms/step - loss: 0.0323 - accuracy: 0.9896\n",
      "Epoch 4/5\n",
      "1875/1875 [==============================] - 280s 149ms/step - loss: 0.0180 - accuracy: 0.9941\n",
      "Epoch 5/5\n",
      "1875/1875 [==============================] - 275s 147ms/step - loss: 0.0139 - accuracy: 0.9951\n",
      "313/313 [==============================] - 12s 38ms/step - loss: 0.0722 - accuracy: 0.9815\n"
     ]
    },
    {
     "data": {
      "text/plain": [
       "<keras.src.engine.sequential.Sequential at 0x2406683a890>"
      ]
     },
     "execution_count": 8,
     "metadata": {},
     "output_type": "execute_result"
    }
   ],
   "source": [
    "model(512,1)"
   ]
  },
  {
   "cell_type": "code",
   "execution_count": 11,
   "id": "97749bdd-14ee-4de6-a438-b0616c4cdfb3",
   "metadata": {
    "scrolled": true
   },
   "outputs": [
    {
     "name": "stdout",
     "output_type": "stream",
     "text": [
      "1875/1875 [==============================] - 1051s 560ms/step - loss: 0.1315 - accuracy: 0.9606\n",
      "313/313 [==============================] - 50s 159ms/step - loss: 0.0679 - accuracy: 0.9797\n"
     ]
    },
    {
     "data": {
      "text/plain": [
       "<keras.src.engine.sequential.Sequential at 0x24066835350>"
      ]
     },
     "execution_count": 11,
     "metadata": {},
     "output_type": "execute_result"
    }
   ],
   "source": [
    "model(2056,1)"
   ]
  },
  {
   "cell_type": "markdown",
   "id": "46bb38a8-f3d5-4d8a-b65e-c8e75cb1c43b",
   "metadata": {},
   "source": [
    "### 2. Number of layers"
   ]
  },
  {
   "cell_type": "code",
   "execution_count": 12,
   "id": "069b7f1a-be85-40b8-bdaa-3af5aef0cd5a",
   "metadata": {},
   "outputs": [
    {
     "name": "stdout",
     "output_type": "stream",
     "text": [
      "1875/1875 [==============================] - 31s 16ms/step - loss: 0.1796 - accuracy: 0.9479\n",
      "313/313 [==============================] - 2s 7ms/step - loss: 0.0861 - accuracy: 0.9744\n"
     ]
    },
    {
     "data": {
      "text/plain": [
       "<keras.src.engine.sequential.Sequential at 0x2405111f5d0>"
      ]
     },
     "execution_count": 12,
     "metadata": {},
     "output_type": "execute_result"
    }
   ],
   "source": [
    "model(32,2)"
   ]
  },
  {
   "cell_type": "code",
   "execution_count": 13,
   "id": "0113de3e-3756-4885-9440-f8ead03158ed",
   "metadata": {},
   "outputs": [
    {
     "name": "stdout",
     "output_type": "stream",
     "text": [
      "1875/1875 [==============================] - 31s 16ms/step - loss: 0.1700 - accuracy: 0.9510\n",
      "313/313 [==============================] - 2s 7ms/step - loss: 0.0767 - accuracy: 0.9764\n"
     ]
    },
    {
     "data": {
      "text/plain": [
       "<keras.src.engine.sequential.Sequential at 0x2404fc96dd0>"
      ]
     },
     "execution_count": 13,
     "metadata": {},
     "output_type": "execute_result"
    }
   ],
   "source": [
    "model(32,3)"
   ]
  },
  {
   "cell_type": "code",
   "execution_count": 14,
   "id": "38679330-1811-474b-af28-b744d6c1d993",
   "metadata": {},
   "outputs": [
    {
     "name": "stdout",
     "output_type": "stream",
     "text": [
      "1875/1875 [==============================] - 31s 16ms/step - loss: 0.1651 - accuracy: 0.9520\n",
      "313/313 [==============================] - 2s 7ms/step - loss: 0.0685 - accuracy: 0.9785\n"
     ]
    },
    {
     "data": {
      "text/plain": [
       "<keras.src.engine.sequential.Sequential at 0x240511c02d0>"
      ]
     },
     "execution_count": 14,
     "metadata": {},
     "output_type": "execute_result"
    }
   ],
   "source": [
    "model(32,4)"
   ]
  },
  {
   "cell_type": "markdown",
   "id": "3fb55ff1-3c40-414a-8f06-5bd30bf5b309",
   "metadata": {},
   "source": [
    "### 3. Size of Filters"
   ]
  },
  {
   "cell_type": "code",
   "execution_count": 15,
   "id": "f7e01061-c8d0-4bbc-959c-3facb87f9f56",
   "metadata": {},
   "outputs": [
    {
     "name": "stdout",
     "output_type": "stream",
     "text": [
      "1875/1875 [==============================] - 25s 13ms/step - loss: 0.1814 - accuracy: 0.9467\n",
      "313/313 [==============================] - 2s 6ms/step - loss: 0.0773 - accuracy: 0.9775\n"
     ]
    },
    {
     "data": {
      "text/plain": [
       "<keras.src.engine.sequential.Sequential at 0x240519582d0>"
      ]
     },
     "execution_count": 15,
     "metadata": {},
     "output_type": "execute_result"
    }
   ],
   "source": [
    "model(16,2,'relu',5)"
   ]
  },
  {
   "cell_type": "code",
   "execution_count": 16,
   "id": "935d8c93-e773-45aa-92ce-cd2c812c0124",
   "metadata": {},
   "outputs": [
    {
     "name": "stdout",
     "output_type": "stream",
     "text": [
      "1875/1875 [==============================] - 27s 14ms/step - loss: 0.1669 - accuracy: 0.9513\n",
      "313/313 [==============================] - 2s 6ms/step - loss: 0.0630 - accuracy: 0.9817\n"
     ]
    },
    {
     "data": {
      "text/plain": [
       "<keras.src.engine.sequential.Sequential at 0x24040062350>"
      ]
     },
     "execution_count": 16,
     "metadata": {},
     "output_type": "execute_result"
    }
   ],
   "source": [
    "model(16,2,'relu',7)"
   ]
  },
  {
   "cell_type": "markdown",
   "id": "49ff09e1-cac2-49b7-bc84-7502505f0590",
   "metadata": {},
   "source": [
    "### 4. Activation function"
   ]
  },
  {
   "cell_type": "code",
   "execution_count": 17,
   "id": "2619e77f-daac-447b-b822-69bdc6f61288",
   "metadata": {},
   "outputs": [
    {
     "name": "stdout",
     "output_type": "stream",
     "text": [
      "1875/1875 [==============================] - 26s 13ms/step - loss: 0.7095 - accuracy: 0.7856\n",
      "313/313 [==============================] - 3s 7ms/step - loss: 0.3873 - accuracy: 0.8902\n"
     ]
    },
    {
     "data": {
      "text/plain": [
       "<keras.src.engine.sequential.Sequential at 0x2406504b0d0>"
      ]
     },
     "execution_count": 17,
     "metadata": {},
     "output_type": "execute_result"
    }
   ],
   "source": [
    "model(16,2,'sigmoid',3)"
   ]
  },
  {
   "cell_type": "code",
   "execution_count": 18,
   "id": "2ff7c0e6-eae3-4beb-883c-74241dcb89f8",
   "metadata": {},
   "outputs": [
    {
     "name": "stdout",
     "output_type": "stream",
     "text": [
      "1875/1875 [==============================] - 24s 12ms/step - loss: 0.3452 - accuracy: 0.9004\n",
      "313/313 [==============================] - 2s 6ms/step - loss: 0.2860 - accuracy: 0.9200\n"
     ]
    },
    {
     "data": {
      "text/plain": [
       "<keras.src.engine.sequential.Sequential at 0x24066e52b10>"
      ]
     },
     "execution_count": 18,
     "metadata": {},
     "output_type": "execute_result"
    }
   ],
   "source": [
    "model(16,2,'tanh',3)"
   ]
  },
  {
   "cell_type": "markdown",
   "id": "00352e5b-6d61-4113-8dfb-b0733e54a7ae",
   "metadata": {},
   "source": [
    "### 5. Filter Size combination"
   ]
  },
  {
   "cell_type": "code",
   "execution_count": 50,
   "id": "39e856f4-1184-4995-8724-84fc0717aaea",
   "metadata": {},
   "outputs": [
    {
     "name": "stdout",
     "output_type": "stream",
     "text": [
      "1875/1875 [==============================] - 91s 47ms/step - loss: 0.1415 - accuracy: 0.9575\n",
      "313/313 [==============================] - 4s 12ms/step - loss: 0.0522 - accuracy: 0.9833\n"
     ]
    },
    {
     "data": {
      "text/plain": [
       "[0.05216575786471367, 0.983299970626831]"
      ]
     },
     "execution_count": 50,
     "metadata": {},
     "output_type": "execute_result"
    }
   ],
   "source": [
    "model = Sequential()\n",
    "model.add(Conv2D(16,(3, 3), activation='relu', input_shape=(28,28,1)))\n",
    "model.add(Conv2D(16,(5, 5), activation='relu', input_shape=(28,28,1)))\n",
    "model.add(Flatten())\n",
    "model.add(Dense(10,activation = 'softmax'))\n",
    "model.compile(optimizer='adam', loss='categorical_crossentropy', metrics=['accuracy'])\n",
    "model.fit(x_train,y_train,epochs=1)\n",
    "model.evaluate(x_test, y_test)"
   ]
  },
  {
   "cell_type": "markdown",
   "id": "d16a8b06-472e-46d1-8a67-ef2bce03cf27",
   "metadata": {},
   "source": [
    "### 6. Layer-filter combination"
   ]
  },
  {
   "cell_type": "code",
   "execution_count": 25,
   "id": "b4f47ad4-be51-4540-a6fa-d4ebaaf91b10",
   "metadata": {},
   "outputs": [
    {
     "name": "stdout",
     "output_type": "stream",
     "text": [
      "1875/1875 [==============================] - 31s 16ms/step - loss: 0.1706 - accuracy: 0.9507\n",
      "313/313 [==============================] - 2s 7ms/step - loss: 0.0787 - accuracy: 0.9752\n"
     ]
    },
    {
     "data": {
      "text/plain": [
       "<keras.src.engine.sequential.Sequential at 0x240672b4450>"
      ]
     },
     "execution_count": 25,
     "metadata": {},
     "output_type": "execute_result"
    }
   ],
   "source": [
    "model(32,2)"
   ]
  },
  {
   "cell_type": "code",
   "execution_count": 26,
   "id": "863ab548",
   "metadata": {},
   "outputs": [
    {
     "name": "stdout",
     "output_type": "stream",
     "text": [
      "1875/1875 [==============================] - 24s 12ms/step - loss: 0.2098 - accuracy: 0.9398\n",
      "313/313 [==============================] - 2s 6ms/step - loss: 0.0891 - accuracy: 0.9738\n"
     ]
    },
    {
     "data": {
      "text/plain": [
       "<keras.src.engine.sequential.Sequential at 0x24067caa350>"
      ]
     },
     "execution_count": 26,
     "metadata": {},
     "output_type": "execute_result"
    }
   ],
   "source": [
    "model(16,2)"
   ]
  },
  {
   "cell_type": "markdown",
   "id": "df624600-e0bd-4d5d-916a-59c568536ff1",
   "metadata": {},
   "source": [
    "### 7. Influence of Striding"
   ]
  },
  {
   "cell_type": "code",
   "execution_count": 27,
   "id": "217330eb-6cde-4d16-b54d-c6d3f8000ea0",
   "metadata": {},
   "outputs": [],
   "source": [
    "def model(filter,layers,act='relu',kernel=3,striding=3,pad='same'):\n",
    "    model = Sequential()\n",
    "    for i in range(layers):\n",
    "        model.add(Conv2D(filter,(kernel, kernel),strides=(striding,striding),padding=pad, activation=act, input_shape=(28,28,1)))\n",
    "        model.add(Flatten())\n",
    "        model.add(Dense(10,activation = 'softmax'))\n",
    "        model.compile(optimizer='adam', loss='categorical_crossentropy', metrics=['accuracy'])\n",
    "        model.fit(x_train,y_train,epochs=1)\n",
    "        model.evaluate(x_test, y_test)\n",
    "        return model"
   ]
  },
  {
   "cell_type": "code",
   "execution_count": 28,
   "id": "cb099bbc-018b-40c9-b7ca-75a1ca8edb16",
   "metadata": {},
   "outputs": [
    {
     "name": "stdout",
     "output_type": "stream",
     "text": [
      "1875/1875 [==============================] - 14s 7ms/step - loss: 0.2729 - accuracy: 0.9230\n",
      "313/313 [==============================] - 2s 4ms/step - loss: 0.1345 - accuracy: 0.9631\n"
     ]
    },
    {
     "data": {
      "text/plain": [
       "<keras.src.engine.sequential.Sequential at 0x24067c16010>"
      ]
     },
     "execution_count": 28,
     "metadata": {},
     "output_type": "execute_result"
    }
   ],
   "source": [
    "model(32,2,'relu',3,2)"
   ]
  },
  {
   "cell_type": "code",
   "execution_count": 29,
   "id": "a19a2b8e-984c-4b18-8f0d-4b4568510f95",
   "metadata": {},
   "outputs": [
    {
     "name": "stdout",
     "output_type": "stream",
     "text": [
      "1875/1875 [==============================] - 11s 5ms/step - loss: 0.3395 - accuracy: 0.9050\n",
      "313/313 [==============================] - 1s 4ms/step - loss: 0.2041 - accuracy: 0.9436\n"
     ]
    },
    {
     "data": {
      "text/plain": [
       "<keras.src.engine.sequential.Sequential at 0x2405112dc50>"
      ]
     },
     "execution_count": 29,
     "metadata": {},
     "output_type": "execute_result"
    }
   ],
   "source": [
    "model(32,2,'relu',3,3)"
   ]
  },
  {
   "cell_type": "markdown",
   "id": "faaaa565-48b2-42f9-8e73-3ca2426deede",
   "metadata": {},
   "source": [
    "### 8. Influence of Padding"
   ]
  },
  {
   "cell_type": "code",
   "execution_count": 31,
   "id": "39f20e7d-de64-427b-9249-27b9f8901cea",
   "metadata": {},
   "outputs": [
    {
     "name": "stdout",
     "output_type": "stream",
     "text": [
      "1875/1875 [==============================] - 11s 5ms/step - loss: 0.3448 - accuracy: 0.9051\n",
      "313/313 [==============================] - 1s 4ms/step - loss: 0.2065 - accuracy: 0.9394\n"
     ]
    },
    {
     "data": {
      "text/plain": [
       "<keras.src.engine.sequential.Sequential at 0x24064ea7150>"
      ]
     },
     "execution_count": 31,
     "metadata": {},
     "output_type": "execute_result"
    }
   ],
   "source": [
    "model(32,1)"
   ]
  },
  {
   "cell_type": "markdown",
   "id": "103c104b-45cb-4906-a520-821539119bbb",
   "metadata": {},
   "source": [
    "### 9. Influence of Pooling"
   ]
  },
  {
   "cell_type": "code",
   "execution_count": 49,
   "id": "d8e90c60-24e1-475b-b1cb-1e0fd9401728",
   "metadata": {},
   "outputs": [
    {
     "name": "stdout",
     "output_type": "stream",
     "text": [
      "1875/1875 [==============================] - 165s 87ms/step - loss: 0.1236 - accuracy: 0.9628\n",
      "313/313 [==============================] - 8s 24ms/step - loss: 0.0518 - accuracy: 0.9831\n"
     ]
    },
    {
     "data": {
      "text/plain": [
       "[0.05176691710948944, 0.9830999970436096]"
      ]
     },
     "execution_count": 49,
     "metadata": {},
     "output_type": "execute_result"
    }
   ],
   "source": [
    "model1 = Sequential()\n",
    "model1.add(Conv2D(32,(3, 3), activation='relu', input_shape=(28,28,1)))\n",
    "model1.add(Conv2D(32,(5, 5), activation='relu', input_shape=(28,28,1)))\n",
    "model1.add(MaxPooling2D(pool_size=(2,2)))\n",
    "model1.add(Flatten())\n",
    "model1.add(Dense(10,activation = 'softmax'))\n",
    "model1.compile(optimizer='adam', loss='categorical_crossentropy', metrics=['accuracy'])\n",
    "model1.fit(x_train,y_train,epochs=1)\n",
    "model1.evaluate(x_test, y_test)"
   ]
  },
  {
   "cell_type": "code",
   "execution_count": 37,
   "id": "619ff6aa-d145-4561-a22c-65dbddddec40",
   "metadata": {},
   "outputs": [
    {
     "name": "stdout",
     "output_type": "stream",
     "text": [
      "1875/1875 [==============================] - 163s 86ms/step - loss: 0.1396 - accuracy: 0.9582\n",
      "313/313 [==============================] - 7s 23ms/step - loss: 0.0521 - accuracy: 0.9825\n"
     ]
    },
    {
     "data": {
      "text/plain": [
       "[0.05214163661003113, 0.9825000166893005]"
      ]
     },
     "execution_count": 37,
     "metadata": {},
     "output_type": "execute_result"
    }
   ],
   "source": [
    "model2 = Sequential()\n",
    "model2.add(Conv2D(32,(3, 3), activation='relu', input_shape=(28,28,1)))\n",
    "model2.add(Conv2D(32,(5, 5), activation='relu', input_shape=(28,28,1)))\n",
    "model2.add(MaxPooling2D(pool_size=(3,3)))\n",
    "model2.add(Flatten())\n",
    "model2.add(Dense(10,activation = 'softmax'))\n",
    "model2.compile(optimizer='adam', loss='categorical_crossentropy', metrics=['accuracy'])\n",
    "model2.fit(x_train,y_train,epochs=1)\n",
    "model2.evaluate(x_test, y_test)"
   ]
  },
  {
   "cell_type": "code",
   "execution_count": null,
   "id": "191e2b89",
   "metadata": {},
   "outputs": [],
   "source": []
  }
 ],
 "metadata": {
  "kernelspec": {
   "display_name": "Python 3 (ipykernel)",
   "language": "python",
   "name": "python3"
  },
  "language_info": {
   "codemirror_mode": {
    "name": "ipython",
    "version": 3
   },
   "file_extension": ".py",
   "mimetype": "text/x-python",
   "name": "python",
   "nbconvert_exporter": "python",
   "pygments_lexer": "ipython3",
   "version": "3.11.3"
  }
 },
 "nbformat": 4,
 "nbformat_minor": 5
}
