{
 "cells": [
  {
   "cell_type": "markdown",
   "metadata": {},
   "source": [
    "### Part-I: Write a method for sigmoid function"
   ]
  },
  {
   "cell_type": "markdown",
   "metadata": {},
   "source": [
    "1. Write a function, mysigmoid(x), that takes the real number x and returns the sigmoid value using math.exp().\n",
    "2. Call mysigmoid() with x=4 and print the sigmoid value of 4.\n",
    "3. Now, find the sigmoid values for x=[1, 2, 3]. Observe the results.\n",
    "4. Rewrite mysigmoid() using np.exp() function.\n",
    "5. Now call your function with x=[1, 2, 3] and observe the results\n",
    "6. Understand the difference between scalar and vector. "
   ]
  },
  {
   "cell_type": "code",
   "execution_count": 1,
   "metadata": {},
   "outputs": [],
   "source": [
    "import numpy as np\n",
    "import math"
   ]
  },
  {
   "cell_type": "code",
   "execution_count": 2,
   "metadata": {},
   "outputs": [],
   "source": [
    "def mysigmoid(x):\n",
    "    print(math.exp(x))"
   ]
  },
  {
   "cell_type": "code",
   "execution_count": 3,
   "metadata": {},
   "outputs": [
    {
     "name": "stdout",
     "output_type": "stream",
     "text": [
      "54.598150033144236\n"
     ]
    }
   ],
   "source": [
    "mysigmoid(4)"
   ]
  },
  {
   "cell_type": "code",
   "execution_count": 4,
   "metadata": {},
   "outputs": [
    {
     "name": "stdout",
     "output_type": "stream",
     "text": [
      "2.718281828459045\n",
      "7.38905609893065\n",
      "20.085536923187668\n"
     ]
    }
   ],
   "source": [
    "x = [1,2,3]\n",
    "for i in x:\n",
    "    mysigmoid(i)"
   ]
  },
  {
   "cell_type": "code",
   "execution_count": 5,
   "metadata": {},
   "outputs": [],
   "source": [
    "def mysigmoid(x):\n",
    "    print(np.exp(x))"
   ]
  },
  {
   "cell_type": "code",
   "execution_count": 6,
   "metadata": {},
   "outputs": [
    {
     "name": "stdout",
     "output_type": "stream",
     "text": [
      "2.718281828459045\n",
      "7.38905609893065\n",
      "20.085536923187668\n"
     ]
    }
   ],
   "source": [
    "x = [1,2,3]\n",
    "for i in x:\n",
    "    mysigmoid(i)"
   ]
  },
  {
   "cell_type": "markdown",
   "metadata": {},
   "source": [
    "### Part-II: Gradient or derivative of sigmoid function\n",
    "We compute gradients to optimize loss functions using backpropagation.\n",
    "s_derivative = s * (1 – s), where s = sigmoid(X)\n",
    "Write a function, sig_derivative(s) that returns the gradient of s. You\n",
    "should call your earlier function, mysigmoid() to compute the sigmoid\n",
    "value."
   ]
  },
  {
   "cell_type": "code",
   "execution_count": 7,
   "metadata": {},
   "outputs": [],
   "source": [
    "def sig_derivative(s):\n",
    "    return s*(1.0-s)"
   ]
  },
  {
   "cell_type": "code",
   "execution_count": 8,
   "metadata": {},
   "outputs": [
    {
     "name": "stdout",
     "output_type": "stream",
     "text": [
      "6.14421235332821e-06\n"
     ]
    }
   ],
   "source": [
    "mysigmoid(sig_derivative(4))"
   ]
  },
  {
   "cell_type": "markdown",
   "metadata": {},
   "source": [
    "### Part-III: Write a method image_to_vector()\n",
    "    X.shape is used to get the shape (dimension) of a matrix/vector X.\n",
    "    X.reshape(...) is used to reshape X into some other dimension.\n",
    "Image Representation: an image is represented by a 3D array of shape\n",
    "(length,height,depth=3). However, when you read an image as the input of\n",
    "an algorithm you convert it to a vector of shape (length∗height∗3,1) . In\n",
    "other words, you \"unroll\", or reshape, the 3D array into a 1D vector.\n",
    "\n",
    "####    1.Now, implement image_to_vector() that takes an input of shape(length, height, 3) and returns a vector of shape (length*height*3, 1).For example, if you would like to reshape an array v of shape (a, b, c)into a vector of shape (a*b,c) you would do:\n",
    "v = v.reshape((v.shape[0]*v.shape[1], v.shape[2]))\n",
    "\n",
    "#v.shape[0] = a ; v.shape[1] = b ; v.shape[2] = c"
   ]
  },
  {
   "cell_type": "code",
   "execution_count": 9,
   "metadata": {},
   "outputs": [],
   "source": [
    "def image_to_vector():\n",
    "    length, height, depth = int(input('image length: ')),int(input('image height: ')), int(input('image depth: '))\n",
    "    return (length*height*depth, 1)"
   ]
  },
  {
   "cell_type": "markdown",
   "metadata": {},
   "source": [
    "#### 2). Test with a 3x3x2 array of values of RGB color values."
   ]
  },
  {
   "cell_type": "code",
   "execution_count": 10,
   "metadata": {},
   "outputs": [
    {
     "name": "stdout",
     "output_type": "stream",
     "text": [
      "image length: 3\n",
      "image height: 3\n",
      "image depth: 2\n"
     ]
    },
    {
     "data": {
      "text/plain": [
       "(18, 1)"
      ]
     },
     "execution_count": 10,
     "metadata": {},
     "output_type": "execute_result"
    }
   ],
   "source": [
    "image_to_vector()"
   ]
  },
  {
   "cell_type": "markdown",
   "metadata": {},
   "source": [
    "### Part-IV: Write a method normalizeRows() Implement normalizeRows() to normalize the rows of a matrix. After applying this function to an input matrix x, each row of x should be a vector of unit length (meaning length 1). You can use np.linalg.norm() method."
   ]
  },
  {
   "cell_type": "code",
   "execution_count": 13,
   "metadata": {},
   "outputs": [],
   "source": [
    "def normalizeRows(x):\n",
    "    x_norm = np.linalg.norm(x)\n",
    "    x = x / x_norm\n",
    "    return x"
   ]
  },
  {
   "cell_type": "code",
   "execution_count": 19,
   "metadata": {},
   "outputs": [],
   "source": [
    "x = np.array([\n",
    "    [0, 3, 4],\n",
    "    [1, 6, 4]])"
   ]
  },
  {
   "cell_type": "code",
   "execution_count": 20,
   "metadata": {},
   "outputs": [
    {
     "data": {
      "text/plain": [
       "array([[0.        , 0.33968311, 0.45291081],\n",
       "       [0.1132277 , 0.67936622, 0.45291081]])"
      ]
     },
     "execution_count": 20,
     "metadata": {},
     "output_type": "execute_result"
    }
   ],
   "source": [
    "normalizeRows(x)"
   ]
  },
  {
   "cell_type": "markdown",
   "metadata": {},
   "source": [
    "### Part-V: Multiplication and Vectorization Operations\n",
    "In deep learning, you deal with very large datasets. So multiplication takeslong execution time than vectorization.\n",
    "\n",
    "    1). For the following two vectors, find the multiplication value and the dot product. First compute multiplication and dot product manually. Then, you can use np.multiply() and np.dot() functions.\n",
    "\n",
    "a).\n",
    "x1 = [9, 2, 5]\n",
    "x2 = [7, 2, 2]"
   ]
  },
  {
   "cell_type": "code",
   "execution_count": 21,
   "metadata": {},
   "outputs": [
    {
     "data": {
      "text/plain": [
       "array([63,  4, 10])"
      ]
     },
     "execution_count": 21,
     "metadata": {},
     "output_type": "execute_result"
    }
   ],
   "source": [
    "x1 = [9, 2, 5]\n",
    "x2 = [7, 2, 2]\n",
    "\n",
    "np.multiply(x1,x2)"
   ]
  },
  {
   "cell_type": "code",
   "execution_count": 22,
   "metadata": {},
   "outputs": [
    {
     "data": {
      "text/plain": [
       "77"
      ]
     },
     "execution_count": 22,
     "metadata": {},
     "output_type": "execute_result"
    }
   ],
   "source": [
    "np.dot(x1,x2)"
   ]
  },
  {
   "cell_type": "markdown",
   "metadata": {},
   "source": [
    "b).\n",
    "x1 = [9, 2, 5, 0, 0, 7, 5, 0, 0, 0, 9, 2, 5, 0, 0, 4, 5, 7]\n",
    "x2 = [7, 2, 2, 9, 0, 9, 2, 5, 0, 0, 9, 2, 5, 0, 0, 8, 5, 3]"
   ]
  },
  {
   "cell_type": "code",
   "execution_count": 23,
   "metadata": {},
   "outputs": [
    {
     "data": {
      "text/plain": [
       "array([63,  4, 10,  0,  0, 63, 10,  0,  0,  0, 81,  4, 25,  0,  0, 32, 25,\n",
       "       21])"
      ]
     },
     "execution_count": 23,
     "metadata": {},
     "output_type": "execute_result"
    }
   ],
   "source": [
    "x1 = [9, 2, 5, 0, 0, 7, 5, 0, 0, 0, 9, 2, 5, 0, 0, 4, 5, 7]\n",
    "x2 = [7, 2, 2, 9, 0, 9, 2, 5, 0, 0, 9, 2, 5, 0, 0, 8, 5, 3]\n",
    "\n",
    "np.multiply(x1,x2)"
   ]
  },
  {
   "cell_type": "code",
   "execution_count": 24,
   "metadata": {},
   "outputs": [
    {
     "data": {
      "text/plain": [
       "338"
      ]
     },
     "execution_count": 24,
     "metadata": {},
     "output_type": "execute_result"
    }
   ],
   "source": [
    "np.dot(x1,x2)"
   ]
  },
  {
   "cell_type": "markdown",
   "metadata": {},
   "source": [
    "2). Create two random vectors of N elements, perform multiplication and\n",
    "vectorization operations and print the respective running times. Is running\n",
    "time of vectorization is less?."
   ]
  },
  {
   "cell_type": "code",
   "execution_count": 33,
   "metadata": {},
   "outputs": [],
   "source": [
    "import time"
   ]
  },
  {
   "cell_type": "code",
   "execution_count": 34,
   "metadata": {},
   "outputs": [
    {
     "name": "stdout",
     "output_type": "stream",
     "text": [
      "dot = 47\n",
      " ----- Computation time = 0.0ms\n",
      "outer = [[32  8 16]\n",
      " [20  5 10]\n",
      " [20  5 10]]\n",
      " ----- Computation time = 0.0ms\n"
     ]
    }
   ],
   "source": [
    "x1 = [8, 5, 5]\n",
    "x2 = [4, 1, 2]\n",
    "\n",
    "tic = time.process_time()\n",
    "dot = np.dot(x1,x2)\n",
    "toc = time.process_time()\n",
    "print (\"dot = \" + str(dot) + \"\\n ----- Computation time = \" + str(1000*(toc - tic)) + \"ms\")\n",
    "\n",
    "tic = time.process_time()\n",
    "outer = np.outer(x1,x2)\n",
    "toc = time.process_time()\n",
    "print (\"outer = \" + str(outer) + \"\\n ----- Computation time = \" + str(1000*(toc - tic)) + \"ms\")"
   ]
  },
  {
   "cell_type": "markdown",
   "metadata": {},
   "source": [
    "### Part-VI: Implement L1 and L2 loss functions\n",
    "The loss is used to evaluate the performance of your model. The bigger your loss is, the more different your predictions (ypred) are from the true values (y). In deep learning, you use optimization algorithms like Gradient Descent to train your model and to minimize the cost.\n",
    "\n",
    "    1). Write a method loss_l1(y, ypred) that takes the actual value y and predicted value ypred and returns l1 loss value. Test your function with the following vectors.\n",
    "    y = np.array([1, 0, 0, 1, 1])\n",
    "    ypred = np.array([.9, 0.2, 0.1, .4, .9])\n",
    "    // Your output will be 1.1"
   ]
  },
  {
   "cell_type": "code",
   "execution_count": 25,
   "metadata": {},
   "outputs": [],
   "source": [
    "def loss_L1(y, ypred):\n",
    "    loss = np.sum(abs(y - ypred))\n",
    "    return loss"
   ]
  },
  {
   "cell_type": "code",
   "execution_count": 26,
   "metadata": {},
   "outputs": [
    {
     "data": {
      "text/plain": [
       "1.1"
      ]
     },
     "execution_count": 26,
     "metadata": {},
     "output_type": "execute_result"
    }
   ],
   "source": [
    "y = np.array([1, 0, 0, 1, 1])\n",
    "ypred = np.array([.9, 0.2, 0.1, .4, .9])\n",
    "\n",
    "loss_L1(y, ypred)"
   ]
  },
  {
   "cell_type": "markdown",
   "metadata": {},
   "source": [
    " 2). Write a method loss_l2(y, ypred) that takes the actual value y and\n",
    "predicted value ypred and returns l2 loss value. Test your function with\n",
    "the following vectors.\n",
    "y = np.array([1, 0, 0, 1, 1])\n",
    "ypred = np.array([.9, 0.2, 0.1, .4, .9])\n",
    "// Your output will be 0.43"
   ]
  },
  {
   "cell_type": "code",
   "execution_count": 28,
   "metadata": {},
   "outputs": [],
   "source": [
    "def  loss_l2(y, ypred):\n",
    "    loss = np.dot(y - ypred, y - ypred)\n",
    "    return loss"
   ]
  },
  {
   "cell_type": "code",
   "execution_count": 29,
   "metadata": {},
   "outputs": [
    {
     "data": {
      "text/plain": [
       "0.43"
      ]
     },
     "execution_count": 29,
     "metadata": {},
     "output_type": "execute_result"
    }
   ],
   "source": [
    "y = np.array([1, 0, 0, 1, 1])\n",
    "ypred = np.array([.9, 0.2, 0.1, .4, .9])\n",
    "\n",
    "loss_l2(y, ypred)"
   ]
  },
  {
   "cell_type": "code",
   "execution_count": null,
   "metadata": {},
   "outputs": [],
   "source": []
  }
 ],
 "metadata": {
  "kernelspec": {
   "display_name": "Python 3 (ipykernel)",
   "language": "python",
   "name": "python3"
  },
  "language_info": {
   "codemirror_mode": {
    "name": "ipython",
    "version": 3
   },
   "file_extension": ".py",
   "mimetype": "text/x-python",
   "name": "python",
   "nbconvert_exporter": "python",
   "pygments_lexer": "ipython3",
   "version": "3.10.9"
  }
 },
 "nbformat": 4,
 "nbformat_minor": 2
}
