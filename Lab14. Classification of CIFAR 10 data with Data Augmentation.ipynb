{
 "cells": [
  {
   "cell_type": "markdown",
   "id": "_EawLn1nQ7r_",
   "metadata": {
    "id": "_EawLn1nQ7r_"
   },
   "source": [
    "PRAGADEESH M\n",
    "225229126"
   ]
  },
  {
   "cell_type": "code",
   "execution_count": 7,
   "id": "227077d3-b034-4658-b809-06a20adcbe9d",
   "metadata": {
    "id": "227077d3-b034-4658-b809-06a20adcbe9d"
   },
   "outputs": [],
   "source": [
    "import keras\n",
    "from keras.preprocessing.image import ImageDataGenerator\n",
    "from keras.models import Sequential\n",
    "from keras.layers import Dense, Dropout, Activation, Flatten\n",
    "from keras.layers import Conv2D, MaxPooling2D\n",
    "from keras.utils import to_categorical\n",
    "from tensorflow.keras.optimizers import RMSprop\n",
    "from keras.backend import categorical_crossentropy\n",
    "import matplotlib.pyplot as plt\n",
    "from matplotlib.pyplot import figure\n",
    "%matplotlib inline"
   ]
  },
  {
   "cell_type": "markdown",
   "id": "fd389c66-f027-435d-a967-9bdddb038bd0",
   "metadata": {
    "id": "fd389c66-f027-435d-a967-9bdddb038bd0"
   },
   "source": [
    "### 1.Import CIFAR-19 dataset from keras"
   ]
  },
  {
   "cell_type": "code",
   "execution_count": 8,
   "id": "bfaf39ad-ceb5-4752-9c2b-51aeda236ba4",
   "metadata": {
    "id": "bfaf39ad-ceb5-4752-9c2b-51aeda236ba4"
   },
   "outputs": [],
   "source": [
    "from keras.datasets import cifar10"
   ]
  },
  {
   "cell_type": "markdown",
   "id": "97a7db0c-d6c4-47b2-ad78-5b0b23cb08e1",
   "metadata": {
    "id": "97a7db0c-d6c4-47b2-ad78-5b0b23cb08e1"
   },
   "source": [
    "### 2.Split train and test sets"
   ]
  },
  {
   "cell_type": "code",
   "execution_count": 9,
   "id": "caba29eb-3514-4ee4-9a0c-497e8d8f31a1",
   "metadata": {
    "colab": {
     "base_uri": "https://localhost:8080/",
     "height": 0
    },
    "id": "caba29eb-3514-4ee4-9a0c-497e8d8f31a1",
    "outputId": "99b0393e-1801-4fab-b3c8-ad15d62e30f3"
   },
   "outputs": [
    {
     "name": "stdout",
     "output_type": "stream",
     "text": [
      "Downloading data from https://www.cs.toronto.edu/~kriz/cifar-10-python.tar.gz\n",
      "170498071/170498071 [==============================] - 4s 0us/step\n",
      "X_train shape (50000, 32, 32, 3)\n",
      "y_train shape (50000, 1)\n",
      "X_test shape (10000, 32, 32, 3)\n",
      "y_test shape (10000, 1)\n"
     ]
    }
   ],
   "source": [
    "(X_train, y_train), (X_test, y_test) = cifar10.load_data()\n",
    "print(\"X_train shape\", X_train.shape)\n",
    "print(\"y_train shape\", y_train.shape)\n",
    "print(\"X_test shape\", X_test.shape)\n",
    "print(\"y_test shape\", y_test.shape)"
   ]
  },
  {
   "cell_type": "markdown",
   "id": "8ad8cf3c-6273-4e1f-ace6-026dfd4f1c41",
   "metadata": {
    "id": "8ad8cf3c-6273-4e1f-ace6-026dfd4f1c41"
   },
   "source": [
    "### 3.Convert ytrain and ytest to categorical values"
   ]
  },
  {
   "cell_type": "code",
   "execution_count": 10,
   "id": "d0026f67-9961-4bec-9b92-034e39b67bf7",
   "metadata": {
    "id": "d0026f67-9961-4bec-9b92-034e39b67bf7"
   },
   "outputs": [],
   "source": [
    "num_classes = 10\n",
    "y_train = to_categorical(y_train, num_classes)\n",
    "y_test = to_categorical(y_test, num_classes)"
   ]
  },
  {
   "cell_type": "markdown",
   "id": "c4d3172d-0da4-4aaf-859f-b23ff1ba7a87",
   "metadata": {
    "id": "c4d3172d-0da4-4aaf-859f-b23ff1ba7a87"
   },
   "source": [
    "### 4.Normalize X values by dividing it by 255"
   ]
  },
  {
   "cell_type": "code",
   "execution_count": 11,
   "id": "b5af40d2-e174-4e59-b48a-8da889551b95",
   "metadata": {
    "id": "b5af40d2-e174-4e59-b48a-8da889551b95"
   },
   "outputs": [],
   "source": [
    "X_train = X_train.astype('float32')\n",
    "X_test = X_test.astype('float32')\n",
    "X_train /= 255\n",
    "X_test /= 255"
   ]
  },
  {
   "cell_type": "markdown",
   "id": "383b8e84-6871-4857-9a0c-8ba55e14d0be",
   "metadata": {
    "id": "383b8e84-6871-4857-9a0c-8ba55e14d0be"
   },
   "source": [
    "### 5.Create the baseline model as below"
   ]
  },
  {
   "cell_type": "code",
   "execution_count": 12,
   "id": "be1b6e64-e941-47a7-9aeb-0302477adba5",
   "metadata": {
    "id": "be1b6e64-e941-47a7-9aeb-0302477adba5"
   },
   "outputs": [],
   "source": [
    "model = Sequential()\n",
    "##5x5 convolution with 2x2 stride and 32 filters\n",
    "model.add(Conv2D(32,(5,5), strides = (2,2), padding = 'same' , input_shape=X_train.shape[1:]))\n",
    "model.add(Activation('relu'))\n",
    "\n",
    "##Another 5x5 convolution with 2x2 stride and 32 filters\n",
    "model.add(Conv2D(32, (5,5), strides = (2,2)))\n",
    "model.add(Activation('relu'))\n",
    "\n",
    "##2x2 max pooling reduces to 3x3x32\n",
    "model.add(MaxPooling2D(pool_size = (2,2)))\n",
    "model.add(Dropout(0.25))\n",
    "\n",
    "##Flatten turns 3x3x32 into 288x1\n",
    "model.add(Flatten())\n",
    "model.add(Dense(512))\n",
    "model.add(Activation('relu'))\n",
    "model.add(Dropout(0.5))\n",
    "model.add(Dense(num_classes))\n",
    "model.add(Activation('softmax'))"
   ]
  },
  {
   "cell_type": "code",
   "execution_count": 13,
   "id": "562b5ca1-66b1-4f6d-befb-b2a47a310a18",
   "metadata": {
    "colab": {
     "base_uri": "https://localhost:8080/",
     "height": 0
    },
    "id": "562b5ca1-66b1-4f6d-befb-b2a47a310a18",
    "outputId": "010b97da-d28b-4806-c6a4-02f108ea4ef0"
   },
   "outputs": [
    {
     "name": "stdout",
     "output_type": "stream",
     "text": [
      "Model: \"sequential\"\n",
      "_________________________________________________________________\n",
      " Layer (type)                Output Shape              Param #   \n",
      "=================================================================\n",
      " conv2d (Conv2D)             (None, 16, 16, 32)        2432      \n",
      "                                                                 \n",
      " activation (Activation)     (None, 16, 16, 32)        0         \n",
      "                                                                 \n",
      " conv2d_1 (Conv2D)           (None, 6, 6, 32)          25632     \n",
      "                                                                 \n",
      " activation_1 (Activation)   (None, 6, 6, 32)          0         \n",
      "                                                                 \n",
      " max_pooling2d (MaxPooling2  (None, 3, 3, 32)          0         \n",
      " D)                                                              \n",
      "                                                                 \n",
      " dropout (Dropout)           (None, 3, 3, 32)          0         \n",
      "                                                                 \n",
      " flatten (Flatten)           (None, 288)               0         \n",
      "                                                                 \n",
      " dense (Dense)               (None, 512)               147968    \n",
      "                                                                 \n",
      " activation_2 (Activation)   (None, 512)               0         \n",
      "                                                                 \n",
      " dropout_1 (Dropout)         (None, 512)               0         \n",
      "                                                                 \n",
      " dense_1 (Dense)             (None, 10)                5130      \n",
      "                                                                 \n",
      " activation_3 (Activation)   (None, 10)                0         \n",
      "                                                                 \n",
      "=================================================================\n",
      "Total params: 181162 (707.66 KB)\n",
      "Trainable params: 181162 (707.66 KB)\n",
      "Non-trainable params: 0 (0.00 Byte)\n",
      "_________________________________________________________________\n"
     ]
    }
   ],
   "source": [
    "model.summary()"
   ]
  },
  {
   "cell_type": "markdown",
   "id": "6d2870cd-a324-471b-9b32-8e59285b448e",
   "metadata": {
    "id": "6d2870cd-a324-471b-9b32-8e59285b448e"
   },
   "source": [
    "### 6.Train the baseline model"
   ]
  },
  {
   "cell_type": "code",
   "execution_count": 18,
   "id": "444c7419-4915-433e-ae64-d7c58b2f2f5e",
   "metadata": {
    "id": "444c7419-4915-433e-ae64-d7c58b2f2f5e"
   },
   "outputs": [],
   "source": [
    "batch_size = 32\n",
    "\n",
    "#initiate RMSprop optimizer\n",
    "opt = keras.optimizers.legacy.RMSprop(learning_rate=0.0005,decay=1e-6)\n",
    "\n",
    "#lets train the model using RMSprop\n",
    "model.compile(loss='categorical_crossentropy',optimizer = opt, metrics = ['accuracy'])"
   ]
  },
  {
   "cell_type": "code",
   "execution_count": 19,
   "id": "6e517722-16d9-4b16-9191-5441d36f5b4c",
   "metadata": {
    "colab": {
     "base_uri": "https://localhost:8080/",
     "height": 0
    },
    "id": "6e517722-16d9-4b16-9191-5441d36f5b4c",
    "outputId": "9b224523-2a2b-45b7-ac4f-caf88f70cb09"
   },
   "outputs": [
    {
     "name": "stdout",
     "output_type": "stream",
     "text": [
      "Epoch 1/10\n",
      "1563/1563 [==============================] - 31s 19ms/step - loss: 1.7337 - accuracy: 0.3679 - val_loss: 1.4232 - val_accuracy: 0.4960\n",
      "Epoch 2/10\n",
      "1563/1563 [==============================] - 29s 18ms/step - loss: 1.4507 - accuracy: 0.4764 - val_loss: 1.2953 - val_accuracy: 0.5386\n",
      "Epoch 3/10\n",
      "1563/1563 [==============================] - 29s 19ms/step - loss: 1.3393 - accuracy: 0.5202 - val_loss: 1.2858 - val_accuracy: 0.5411\n",
      "Epoch 4/10\n",
      "1563/1563 [==============================] - 27s 17ms/step - loss: 1.2685 - accuracy: 0.5528 - val_loss: 1.2439 - val_accuracy: 0.5608\n",
      "Epoch 5/10\n",
      "1563/1563 [==============================] - 29s 19ms/step - loss: 1.2186 - accuracy: 0.5675 - val_loss: 1.1217 - val_accuracy: 0.6007\n",
      "Epoch 6/10\n",
      "1563/1563 [==============================] - 28s 18ms/step - loss: 1.1760 - accuracy: 0.5837 - val_loss: 1.0847 - val_accuracy: 0.6157\n",
      "Epoch 7/10\n",
      "1563/1563 [==============================] - 29s 19ms/step - loss: 1.1506 - accuracy: 0.5961 - val_loss: 1.1032 - val_accuracy: 0.6155\n",
      "Epoch 8/10\n",
      "1563/1563 [==============================] - 28s 18ms/step - loss: 1.1288 - accuracy: 0.6057 - val_loss: 1.1246 - val_accuracy: 0.6094\n",
      "Epoch 9/10\n",
      "1563/1563 [==============================] - 28s 18ms/step - loss: 1.1100 - accuracy: 0.6129 - val_loss: 1.0644 - val_accuracy: 0.6277\n",
      "Epoch 10/10\n",
      "1563/1563 [==============================] - 27s 18ms/step - loss: 1.0962 - accuracy: 0.6182 - val_loss: 1.1063 - val_accuracy: 0.6106\n"
     ]
    }
   ],
   "source": [
    "history = model.fit(X_train,y_train,batch_size=batch_size,epochs=10,validation_data= (X_test,y_test))"
   ]
  },
  {
   "cell_type": "markdown",
   "id": "46a7737e-5d11-492b-94fb-83aeaf1770f0",
   "metadata": {
    "id": "46a7737e-5d11-492b-94fb-83aeaf1770f0"
   },
   "source": [
    "### 7.Define baseline Data Augmentation steps"
   ]
  },
  {
   "cell_type": "code",
   "execution_count": 20,
   "id": "773ab937-ddd1-47c5-88c8-4d43c30bda34",
   "metadata": {
    "id": "773ab937-ddd1-47c5-88c8-4d43c30bda34"
   },
   "outputs": [],
   "source": [
    "datagen = ImageDataGenerator(featurewise_center=False,\n",
    "    samplewise_center=False,\n",
    "    featurewise_std_normalization=False,\n",
    "    samplewise_std_normalization=False,\n",
    "    zca_whitening=False,\n",
    "    rotation_range=0,\n",
    "    width_shift_range=0.1,\n",
    "    height_shift_range=0.1,\n",
    "    horizontal_flip=True,\n",
    "    vertical_flip=False)\n",
    "\n",
    "datagen.fit(X_train)"
   ]
  },
  {
   "cell_type": "code",
   "execution_count": 21,
   "id": "c0d8f09f-8209-4cc5-8f15-83c072746af3",
   "metadata": {
    "colab": {
     "base_uri": "https://localhost:8080/",
     "height": 0
    },
    "id": "c0d8f09f-8209-4cc5-8f15-83c072746af3",
    "outputId": "f223f16d-37c1-4960-f0e3-3c1e8d7029d5"
   },
   "outputs": [
    {
     "name": "stdout",
     "output_type": "stream",
     "text": [
      "Epoch 1/15\n",
      "1562/1562 [==============================] - 60s 38ms/step - loss: 1.2690 - accuracy: 0.5602 - val_loss: 1.0829 - val_accuracy: 0.6287\n",
      "Epoch 2/15\n",
      "1562/1562 [==============================] - 55s 35ms/step - loss: 1.2596 - accuracy: 0.5632 - val_loss: 1.0571 - val_accuracy: 0.6384\n",
      "Epoch 3/15\n",
      "1562/1562 [==============================] - 54s 35ms/step - loss: 1.2561 - accuracy: 0.5670 - val_loss: 1.0344 - val_accuracy: 0.6420\n",
      "Epoch 4/15\n",
      "1562/1562 [==============================] - 54s 35ms/step - loss: 1.2609 - accuracy: 0.5664 - val_loss: 1.0358 - val_accuracy: 0.6431\n",
      "Epoch 5/15\n",
      "1562/1562 [==============================] - 54s 35ms/step - loss: 1.2584 - accuracy: 0.5703 - val_loss: 1.0520 - val_accuracy: 0.6394\n",
      "Epoch 6/15\n",
      "1562/1562 [==============================] - 54s 35ms/step - loss: 1.2554 - accuracy: 0.5723 - val_loss: 1.0926 - val_accuracy: 0.6351\n",
      "Epoch 7/15\n",
      "1562/1562 [==============================] - 57s 36ms/step - loss: 1.2510 - accuracy: 0.5722 - val_loss: 1.0398 - val_accuracy: 0.6380\n",
      "Epoch 8/15\n",
      "1562/1562 [==============================] - 55s 35ms/step - loss: 1.2574 - accuracy: 0.5715 - val_loss: 1.1617 - val_accuracy: 0.6241\n",
      "Epoch 9/15\n",
      "1562/1562 [==============================] - 57s 36ms/step - loss: 1.2581 - accuracy: 0.5705 - val_loss: 1.0906 - val_accuracy: 0.6255\n",
      "Epoch 10/15\n",
      "1562/1562 [==============================] - 57s 37ms/step - loss: 1.2642 - accuracy: 0.5718 - val_loss: 1.1054 - val_accuracy: 0.6190\n",
      "Epoch 11/15\n",
      "1562/1562 [==============================] - 56s 36ms/step - loss: 1.2660 - accuracy: 0.5708 - val_loss: 1.0585 - val_accuracy: 0.6430\n",
      "Epoch 12/15\n",
      "1562/1562 [==============================] - 57s 36ms/step - loss: 1.2610 - accuracy: 0.5704 - val_loss: 1.0624 - val_accuracy: 0.6375\n",
      "Epoch 13/15\n",
      "1562/1562 [==============================] - 57s 36ms/step - loss: 1.2766 - accuracy: 0.5657 - val_loss: 1.1712 - val_accuracy: 0.5953\n",
      "Epoch 14/15\n",
      "1562/1562 [==============================] - 57s 36ms/step - loss: 1.2767 - accuracy: 0.5694 - val_loss: 1.1077 - val_accuracy: 0.6239\n",
      "Epoch 15/15\n",
      "1562/1562 [==============================] - 57s 36ms/step - loss: 1.2892 - accuracy: 0.5645 - val_loss: 1.1621 - val_accuracy: 0.6127\n"
     ]
    }
   ],
   "source": [
    "history1=model.fit(datagen.flow(X_train,y_train,\n",
    "                       batch_size = batch_size),\n",
    "          steps_per_epoch=X_train.shape[0] // batch_size,\n",
    "          epochs=15,\n",
    "          validation_data = (X_test, y_test))"
   ]
  },
  {
   "cell_type": "markdown",
   "id": "7522198f-ef5f-48ec-b58a-d11ae5461b22",
   "metadata": {
    "id": "7522198f-ef5f-48ec-b58a-d11ae5461b22"
   },
   "source": [
    "### 8.Answer the Questions"
   ]
  },
  {
   "cell_type": "code",
   "execution_count": 22,
   "id": "f9d9c21d-3cd6-45a0-9e7d-b6a3e575953d",
   "metadata": {
    "colab": {
     "base_uri": "https://localhost:8080/",
     "height": 410
    },
    "id": "f9d9c21d-3cd6-45a0-9e7d-b6a3e575953d",
    "outputId": "da04275e-4be6-48e1-bce0-dcdb99124230"
   },
   "outputs": [
    {
     "data": {
      "image/png": "[encoded data removed]",
      "text/plain": [
       "<Figure size 1000x400 with 1 Axes>"
      ]
     },
     "metadata": {},
     "output_type": "display_data"
    }
   ],
   "source": [
    "figure(figsize=(10, 4))\n",
    "plt.plot(history.history['accuracy'])\n",
    "plt.plot(history1.history['accuracy'])\n",
    "plt.title('Comparison of Normal CNN and CNN with Data Augmentation')\n",
    "plt.ylabel('accuracy')\n",
    "plt.xlabel('epoch')\n",
    "plt.legend(['Normal CNN', 'CNN with Data Augumentation'], loc='lower right')\n",
    "plt.show()"
   ]
  },
  {
   "cell_type": "markdown",
   "id": "6b6585bc-9f37-47eb-9c4a-25cce5f9079a",
   "metadata": {
    "id": "6b6585bc-9f37-47eb-9c4a-25cce5f9079a"
   },
   "source": [
    "### 9.Build a more complicated model with the following pattern\n"
   ]
  },
  {
   "cell_type": "code",
   "execution_count": 23,
   "id": "5d012913-a5e8-4ea4-bd36-18ded75c38dc",
   "metadata": {
    "colab": {
     "base_uri": "https://localhost:8080/",
     "height": 0
    },
    "id": "5d012913-a5e8-4ea4-bd36-18ded75c38dc",
    "outputId": "422a236b-6370-454b-a6c1-a2891c39240a"
   },
   "outputs": [
    {
     "name": "stdout",
     "output_type": "stream",
     "text": [
      "Model: \"sequential_1\"\n",
      "_________________________________________________________________\n",
      " Layer (type)                Output Shape              Param #   \n",
      "=================================================================\n",
      " conv2d_2 (Conv2D)           (None, 32, 32, 32)        2432      \n",
      "                                                                 \n",
      " conv2d_3 (Conv2D)           (None, 28, 28, 32)        25632     \n",
      "                                                                 \n",
      " activation_4 (Activation)   (None, 28, 28, 32)        0         \n",
      "                                                                 \n",
      " max_pooling2d_1 (MaxPoolin  (None, 14, 14, 32)        0         \n",
      " g2D)                                                            \n",
      "                                                                 \n",
      " conv2d_4 (Conv2D)           (None, 14, 14, 32)        25632     \n",
      "                                                                 \n",
      " conv2d_5 (Conv2D)           (None, 10, 10, 32)        25632     \n",
      "                                                                 \n",
      " activation_5 (Activation)   (None, 10, 10, 32)        0         \n",
      "                                                                 \n",
      " max_pooling2d_2 (MaxPoolin  (None, 5, 5, 32)          0         \n",
      " g2D)                                                            \n",
      "                                                                 \n",
      " flatten_1 (Flatten)         (None, 800)               0         \n",
      "                                                                 \n",
      " dense_2 (Dense)             (None, 512)               410112    \n",
      "                                                                 \n",
      " activation_6 (Activation)   (None, 512)               0         \n",
      "                                                                 \n",
      " dense_3 (Dense)             (None, 10)                5130      \n",
      "                                                                 \n",
      " activation_7 (Activation)   (None, 10)                0         \n",
      "                                                                 \n",
      "=================================================================\n",
      "Total params: 494570 (1.89 MB)\n",
      "Trainable params: 494570 (1.89 MB)\n",
      "Non-trainable params: 0 (0.00 Byte)\n",
      "_________________________________________________________________\n"
     ]
    }
   ],
   "source": [
    "model2=Sequential()\n",
    "model2.add(Conv2D(32, (5,5), strides=(1,1),padding='same',activation='relu',input_shape=X_train.shape[1:]))\n",
    "model2.add(Conv2D(32,(5,5),strides=(1,1)))\n",
    "model2.add(Activation('relu'))\n",
    "\n",
    "model2.add(MaxPooling2D(pool_size=(2,2)))\n",
    "\n",
    "model2.add(Conv2D(32, (5,5), strides=(1,1),padding='same',activation='relu',input_shape=X_train.shape[1:]))\n",
    "model2.add(Conv2D(32,(5,5),strides=(1,1)))\n",
    "model2.add(Activation('relu'))\n",
    "\n",
    "model2.add(MaxPooling2D(pool_size=(2,2)))\n",
    "\n",
    "model2.add(Flatten())\n",
    "model2.add(Dense(512))\n",
    "model2.add(Activation('relu'))\n",
    "model2.add(Dense(num_classes))\n",
    "model2.add(Activation('softmax'))\n",
    "\n",
    "model2.summary()"
   ]
  },
  {
   "cell_type": "code",
   "execution_count": 24,
   "id": "1c6133f5-869e-413e-aee5-0a64d45aa7ba",
   "metadata": {
    "id": "1c6133f5-869e-413e-aee5-0a64d45aa7ba"
   },
   "outputs": [],
   "source": [
    "model2.compile(loss='categorical_crossentropy',\n",
    "               optimizer=opt,\n",
    "               metrics=['accuracy'])"
   ]
  },
  {
   "cell_type": "code",
   "execution_count": null,
   "id": "3ce8d9e4-fc7f-4656-8f83-6477916e4304",
   "metadata": {
    "colab": {
     "base_uri": "https://localhost:8080/",
     "height": 0
    },
    "id": "3ce8d9e4-fc7f-4656-8f83-6477916e4304",
    "outputId": "4997edfc-3dc1-46c7-bef5-a8cd2e65fb8a"
   },
   "outputs": [
    {
     "name": "stdout",
     "output_type": "stream",
     "text": [
      "Epoch 1/10\n",
      "1562/1562 [==============================] - 344s 219ms/step - loss: 1.6004 - accuracy: 0.4173 - val_loss: 1.2217 - val_accuracy: 0.5687\n",
      "Epoch 2/10\n",
      "1562/1562 [==============================] - 344s 220ms/step - loss: 1.2255 - accuracy: 0.5649 - val_loss: 1.0291 - val_accuracy: 0.6371\n",
      "Epoch 3/10\n",
      " 235/1562 [===>..........................] - ETA: 5:25 - loss: 1.1087 - accuracy: 0.6057"
     ]
    }
   ],
   "source": [
    "model2.fit(datagen.flow(X_train,y_train,batch_size=batch_size),\n",
    "                   steps_per_epoch=X_train.shape[0] // batch_size,\n",
    "                   epochs=10,\n",
    "                   validation_data=(X_test,y_test))"
   ]
  }
 ],
 "metadata": {
  "colab": {
   "provenance": []
  },
  "kernelspec": {
   "display_name": "Python 3 (ipykernel)",
   "language": "python",
   "name": "python3"
  },
  "language_info": {
   "codemirror_mode": {
    "name": "ipython",
    "version": 3
   },
   "file_extension": ".py",
   "mimetype": "text/x-python",
   "name": "python",
   "nbconvert_exporter": "python",
   "pygments_lexer": "ipython3",
   "version": "3.10.12"
  }
 },
 "nbformat": 4,
 "nbformat_minor": 5
}
