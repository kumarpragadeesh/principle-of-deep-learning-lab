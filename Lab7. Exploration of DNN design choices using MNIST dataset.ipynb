{
 "cells": [
  {
   "cell_type": "markdown",
   "id": "0734f8d0",
   "metadata": {},
   "source": [
    "### PRAGADEESH M\n",
    "## 225229126"
   ]
  },
  {
   "cell_type": "code",
   "execution_count": 58,
   "id": "7e210c6a",
   "metadata": {},
   "outputs": [],
   "source": [
    "import numpy as np\n",
    "import pandas as pd\n",
    "import matplotlib.pyplot as plt\n",
    "from keras.models import Sequential \n",
    "from keras import regularizers\n",
    "from keras.layers import Dense, Activation, Dropout, Flatten\n",
    "from keras import backend as K"
   ]
  },
  {
   "cell_type": "code",
   "execution_count": 2,
   "id": "8ed95d34",
   "metadata": {},
   "outputs": [
    {
     "name": "stdout",
     "output_type": "stream",
     "text": [
      "Downloading data from https://storage.googleapis.com/tensorflow/tf-keras-datasets/mnist.npz\n",
      "11490434/11490434 [==============================] - 10s 1us/step\n"
     ]
    }
   ],
   "source": [
    "from keras.datasets import mnist\n",
    "(x_train, y_train),(x_test, y_test) = mnist.load_data()"
   ]
  },
  {
   "cell_type": "code",
   "execution_count": 20,
   "id": "67e05913",
   "metadata": {},
   "outputs": [],
   "source": [
    "x_train = x_train.reshape((x_train.shape[0], 28*28)).astype('float32')\n",
    "x_test = x_test.reshape((x_test.shape[0], 28*28)).astype('float32')"
   ]
  },
  {
   "cell_type": "code",
   "execution_count": 21,
   "id": "3f525470",
   "metadata": {},
   "outputs": [],
   "source": [
    "x_train = x_train / 255\n",
    "x_test = x_test / 255"
   ]
  },
  {
   "cell_type": "markdown",
   "id": "6a5ef5b9",
   "metadata": {},
   "source": [
    "### 1. Number of Nodes"
   ]
  },
  {
   "cell_type": "code",
   "execution_count": 4,
   "id": "5be25a76",
   "metadata": {},
   "outputs": [],
   "source": [
    "def layerandnodes (n,l,act_in,act_out,loss,opt,accuracy):\n",
    "    model = Sequential()\n",
    "    for x in range(l):\n",
    "        model.add(Dense(n,activation=act_in))\n",
    "    model.add(Dense(l, activation=act_out))\n",
    "    model.compile(loss=loss,optimizer=opt,metrics=accuracy)\n",
    "    return model"
   ]
  },
  {
   "cell_type": "code",
   "execution_count": 10,
   "id": "10166ce0",
   "metadata": {
    "scrolled": true
   },
   "outputs": [
    {
     "name": "stdout",
     "output_type": "stream",
     "text": [
      "Epoch 1/10\n",
      "1875/1875 [==============================] - 8s 4ms/step - loss: 20.2774 - accuracy: 0.1124\n",
      "Epoch 2/10\n",
      "1875/1875 [==============================] - 7s 4ms/step - loss: 20.2774 - accuracy: 0.1124\n",
      "Epoch 3/10\n",
      "1875/1875 [==============================] - 7s 4ms/step - loss: 20.2774 - accuracy: 0.1124\n",
      "Epoch 4/10\n",
      "1875/1875 [==============================] - 7s 4ms/step - loss: 20.2774 - accuracy: 0.1124\n",
      "Epoch 5/10\n",
      "1875/1875 [==============================] - 7s 4ms/step - loss: 20.2774 - accuracy: 0.1124\n",
      "Epoch 6/10\n",
      "1875/1875 [==============================] - 7s 4ms/step - loss: 20.2774 - accuracy: 0.1124\n",
      "Epoch 7/10\n",
      "1875/1875 [==============================] - 7s 4ms/step - loss: 20.2774 - accuracy: 0.1124\n",
      "Epoch 8/10\n",
      "1875/1875 [==============================] - 8s 4ms/step - loss: 20.2774 - accuracy: 0.1124\n",
      "Epoch 9/10\n",
      "1875/1875 [==============================] - 8s 4ms/step - loss: 20.2774 - accuracy: 0.1124\n",
      "Epoch 10/10\n",
      "1875/1875 [==============================] - 7s 4ms/step - loss: 20.2774 - accuracy: 0.1124\n",
      "313/313 [==============================] - 2s 4ms/step - loss: 20.2422 - accuracy: 0.1135\n"
     ]
    },
    {
     "data": {
      "text/plain": [
       "[20.24220085144043, 0.11349999904632568]"
      ]
     },
     "execution_count": 10,
     "metadata": {},
     "output_type": "execute_result"
    }
   ],
   "source": [
    "model = layerandnodes(32,1,'relu','softmax','mse','RMSprop','accuracy')\n",
    "model.fit(x_train,y_train, epochs=10)\n",
    "model.evaluate(x_test,y_test)"
   ]
  },
  {
   "cell_type": "code",
   "execution_count": 11,
   "id": "8c347761",
   "metadata": {},
   "outputs": [
    {
     "name": "stdout",
     "output_type": "stream",
     "text": [
      "Epoch 1/10\n",
      "1875/1875 [==============================] - 7s 3ms/step - loss: 20.2774 - accuracy: 0.1124\n",
      "Epoch 2/10\n",
      "1875/1875 [==============================] - 6s 3ms/step - loss: 20.2774 - accuracy: 0.1124\n",
      "Epoch 3/10\n",
      "1875/1875 [==============================] - 6s 3ms/step - loss: 20.2774 - accuracy: 0.1124\n",
      "Epoch 4/10\n",
      "1875/1875 [==============================] - 6s 3ms/step - loss: 20.2774 - accuracy: 0.1124\n",
      "Epoch 5/10\n",
      "1875/1875 [==============================] - 6s 3ms/step - loss: 20.2774 - accuracy: 0.1124\n",
      "Epoch 6/10\n",
      "1875/1875 [==============================] - 6s 3ms/step - loss: 20.2774 - accuracy: 0.1124\n",
      "Epoch 7/10\n",
      "1875/1875 [==============================] - 6s 3ms/step - loss: 20.2774 - accuracy: 0.1124\n",
      "Epoch 8/10\n",
      "1875/1875 [==============================] - 6s 3ms/step - loss: 20.2774 - accuracy: 0.1124\n",
      "Epoch 9/10\n",
      "1875/1875 [==============================] - 6s 3ms/step - loss: 20.2774 - accuracy: 0.1124\n",
      "Epoch 10/10\n",
      "1875/1875 [==============================] - 6s 3ms/step - loss: 20.2774 - accuracy: 0.1124\n",
      "313/313 [==============================] - 1s 3ms/step - loss: 20.2422 - accuracy: 0.1135\n"
     ]
    },
    {
     "data": {
      "text/plain": [
       "[20.24220085144043, 0.11349999904632568]"
      ]
     },
     "execution_count": 11,
     "metadata": {},
     "output_type": "execute_result"
    }
   ],
   "source": [
    "model1 = layerandnodes(4,1,'relu','softmax','mse','RMSprop','accuracy')\n",
    "model1.fit(x_train,y_train, epochs=10)\n",
    "model1.evaluate(x_test,y_test)"
   ]
  },
  {
   "cell_type": "code",
   "execution_count": 12,
   "id": "36f9a886",
   "metadata": {},
   "outputs": [
    {
     "name": "stdout",
     "output_type": "stream",
     "text": [
      "Epoch 1/10\n",
      "1875/1875 [==============================] - 10s 5ms/step - loss: 20.2774 - accuracy: 0.1124\n",
      "Epoch 2/10\n",
      "1875/1875 [==============================] - 9s 5ms/step - loss: 20.2774 - accuracy: 0.1124\n",
      "Epoch 3/10\n",
      "1875/1875 [==============================] - 9s 5ms/step - loss: 20.2774 - accuracy: 0.1124\n",
      "Epoch 4/10\n",
      "1875/1875 [==============================] - 9s 5ms/step - loss: 20.2774 - accuracy: 0.1124\n",
      "Epoch 5/10\n",
      "1875/1875 [==============================] - 9s 5ms/step - loss: 20.2774 - accuracy: 0.1124\n",
      "Epoch 6/10\n",
      "1875/1875 [==============================] - 9s 5ms/step - loss: 20.2774 - accuracy: 0.1124\n",
      "Epoch 7/10\n",
      "1875/1875 [==============================] - 9s 5ms/step - loss: 20.2774 - accuracy: 0.1124\n",
      "Epoch 8/10\n",
      "1875/1875 [==============================] - 9s 5ms/step - loss: 20.2774 - accuracy: 0.1124\n",
      "Epoch 9/10\n",
      "1875/1875 [==============================] - 9s 5ms/step - loss: 20.2774 - accuracy: 0.1124\n",
      "Epoch 10/10\n",
      "1875/1875 [==============================] - 9s 5ms/step - loss: 20.2774 - accuracy: 0.1124\n",
      "313/313 [==============================] - 2s 4ms/step - loss: 20.2422 - accuracy: 0.1135\n"
     ]
    },
    {
     "data": {
      "text/plain": [
       "[20.24220085144043, 0.11349999904632568]"
      ]
     },
     "execution_count": 12,
     "metadata": {},
     "output_type": "execute_result"
    }
   ],
   "source": [
    "model2 = layerandnodes(128,1,'relu','softmax','mse','RMSprop','accuracy')\n",
    "model2.fit(x_train,y_train, epochs=10)\n",
    "model2.evaluate(x_test,y_test)"
   ]
  },
  {
   "cell_type": "code",
   "execution_count": 13,
   "id": "c4a49239",
   "metadata": {},
   "outputs": [
    {
     "name": "stdout",
     "output_type": "stream",
     "text": [
      "Epoch 1/10\n",
      "1875/1875 [==============================] - 18s 9ms/step - loss: 20.2774 - accuracy: 0.1124\n",
      "Epoch 2/10\n",
      "1875/1875 [==============================] - 18s 9ms/step - loss: 20.2774 - accuracy: 0.1124\n",
      "Epoch 3/10\n",
      "1875/1875 [==============================] - 18s 9ms/step - loss: 20.2774 - accuracy: 0.1124\n",
      "Epoch 4/10\n",
      "1875/1875 [==============================] - 18s 9ms/step - loss: 20.2774 - accuracy: 0.1124\n",
      "Epoch 5/10\n",
      "1875/1875 [==============================] - 18s 9ms/step - loss: 20.2774 - accuracy: 0.1124\n",
      "Epoch 6/10\n",
      "1875/1875 [==============================] - 18s 9ms/step - loss: 20.2774 - accuracy: 0.1124\n",
      "Epoch 7/10\n",
      "1875/1875 [==============================] - 18s 9ms/step - loss: 20.2774 - accuracy: 0.1124\n",
      "Epoch 8/10\n",
      "1875/1875 [==============================] - 17s 9ms/step - loss: 20.2774 - accuracy: 0.1124\n",
      "Epoch 9/10\n",
      "1875/1875 [==============================] - 18s 9ms/step - loss: 20.2774 - accuracy: 0.1124\n",
      "Epoch 10/10\n",
      "1875/1875 [==============================] - 17s 9ms/step - loss: 20.2774 - accuracy: 0.1124\n",
      "313/313 [==============================] - 2s 5ms/step - loss: 20.2422 - accuracy: 0.1135\n"
     ]
    },
    {
     "data": {
      "text/plain": [
       "[20.24220085144043, 0.11349999904632568]"
      ]
     },
     "execution_count": 13,
     "metadata": {},
     "output_type": "execute_result"
    }
   ],
   "source": [
    "model3 = layerandnodes(512,1,'relu','softmax','mse','RMSprop','accuracy')\n",
    "model3.fit(x_train,y_train, epochs=10)\n",
    "model3.evaluate(x_test,y_test)"
   ]
  },
  {
   "cell_type": "code",
   "execution_count": 14,
   "id": "a680cc19",
   "metadata": {},
   "outputs": [
    {
     "name": "stdout",
     "output_type": "stream",
     "text": [
      "Epoch 1/10\n",
      "1875/1875 [==============================] - 48s 25ms/step - loss: 20.2774 - accuracy: 0.1124\n",
      "Epoch 2/10\n",
      "1875/1875 [==============================] - 47s 25ms/step - loss: 20.2774 - accuracy: 0.1124\n",
      "Epoch 3/10\n",
      "1875/1875 [==============================] - 47s 25ms/step - loss: 20.2774 - accuracy: 0.1124\n",
      "Epoch 4/10\n",
      "1875/1875 [==============================] - 56s 30ms/step - loss: 20.2774 - accuracy: 0.1124\n",
      "Epoch 5/10\n",
      "1875/1875 [==============================] - 49s 26ms/step - loss: 20.2774 - accuracy: 0.1124\n",
      "Epoch 6/10\n",
      "1875/1875 [==============================] - 48s 25ms/step - loss: 20.2774 - accuracy: 0.1124\n",
      "Epoch 7/10\n",
      "1875/1875 [==============================] - 48s 25ms/step - loss: 20.2774 - accuracy: 0.1124\n",
      "Epoch 8/10\n",
      "1875/1875 [==============================] - 47s 25ms/step - loss: 20.2774 - accuracy: 0.1124\n",
      "Epoch 9/10\n",
      "1875/1875 [==============================] - 47s 25ms/step - loss: 20.2774 - accuracy: 0.1124\n",
      "Epoch 10/10\n",
      "1875/1875 [==============================] - 31s 16ms/step - loss: 20.2774 - accuracy: 0.1124\n",
      "313/313 [==============================] - 2s 7ms/step - loss: 20.2422 - accuracy: 0.1135\n"
     ]
    },
    {
     "data": {
      "text/plain": [
       "[20.24220085144043, 0.11349999904632568]"
      ]
     },
     "execution_count": 14,
     "metadata": {},
     "output_type": "execute_result"
    }
   ],
   "source": [
    "model4 = layerandnodes(2056,1,'relu','softmax','mse','RMSprop','accuracy')\n",
    "model4.fit(x_train,y_train, epochs=10)\n",
    "model4.evaluate(x_test,y_test)"
   ]
  },
  {
   "cell_type": "markdown",
   "id": "b3ae3a4b",
   "metadata": {},
   "source": [
    "### 2. Number of layers "
   ]
  },
  {
   "cell_type": "code",
   "execution_count": 22,
   "id": "d70e997c",
   "metadata": {},
   "outputs": [
    {
     "name": "stdout",
     "output_type": "stream",
     "text": [
      "Epoch 1/10\n",
      "1875/1875 [==============================] - 4s 2ms/step - loss: 20.3845 - accuracy: 0.0957\n",
      "Epoch 2/10\n",
      "1875/1875 [==============================] - 3s 2ms/step - loss: 20.2774 - accuracy: 0.0869\n",
      "Epoch 3/10\n",
      "1875/1875 [==============================] - 3s 2ms/step - loss: 20.2774 - accuracy: 0.1010\n",
      "Epoch 4/10\n",
      "1875/1875 [==============================] - 3s 2ms/step - loss: 20.2774 - accuracy: 0.1142\n",
      "Epoch 5/10\n",
      "1875/1875 [==============================] - 3s 2ms/step - loss: 20.2774 - accuracy: 0.1197\n",
      "Epoch 6/10\n",
      "1875/1875 [==============================] - 3s 2ms/step - loss: 20.2774 - accuracy: 0.1199\n",
      "Epoch 7/10\n",
      "1875/1875 [==============================] - 3s 2ms/step - loss: 20.2774 - accuracy: 0.1184\n",
      "Epoch 8/10\n",
      "1875/1875 [==============================] - 3s 2ms/step - loss: 20.2774 - accuracy: 0.1185\n",
      "Epoch 9/10\n",
      "1875/1875 [==============================] - 3s 2ms/step - loss: 20.2774 - accuracy: 0.1174\n",
      "Epoch 10/10\n",
      "1875/1875 [==============================] - 3s 2ms/step - loss: 20.2774 - accuracy: 0.1165\n",
      "313/313 [==============================] - 1s 1ms/step - loss: 20.2422 - accuracy: 0.1121\n"
     ]
    },
    {
     "data": {
      "text/plain": [
       "[20.24220085144043, 0.11209999769926071]"
      ]
     },
     "execution_count": 22,
     "metadata": {},
     "output_type": "execute_result"
    }
   ],
   "source": [
    "model5 = layerandnodes(32,3,'relu','sigmoid','mse','RMSprop','accuracy')\n",
    "model5.fit(x_train,y_train, epochs=10)\n",
    "model5.evaluate(x_test,y_test)"
   ]
  },
  {
   "cell_type": "code",
   "execution_count": 23,
   "id": "c2152ba2",
   "metadata": {},
   "outputs": [
    {
     "name": "stdout",
     "output_type": "stream",
     "text": [
      "Epoch 1/10\n",
      "1875/1875 [==============================] - 4s 2ms/step - loss: 26.0208 - accuracy: 0.1025\n",
      "Epoch 2/10\n",
      "1875/1875 [==============================] - 3s 2ms/step - loss: 26.0208 - accuracy: 0.0907\n",
      "Epoch 3/10\n",
      "1875/1875 [==============================] - 3s 2ms/step - loss: 26.0208 - accuracy: 0.0899\n",
      "Epoch 4/10\n",
      "1875/1875 [==============================] - 4s 2ms/step - loss: 26.0208 - accuracy: 0.1069\n",
      "Epoch 5/10\n",
      "1875/1875 [==============================] - 4s 2ms/step - loss: 26.0208 - accuracy: 0.1196\n",
      "Epoch 6/10\n",
      "1875/1875 [==============================] - 4s 2ms/step - loss: 26.0208 - accuracy: 0.1238\n",
      "Epoch 7/10\n",
      "1875/1875 [==============================] - 3s 2ms/step - loss: 26.0208 - accuracy: 0.1262\n",
      "Epoch 8/10\n",
      "1875/1875 [==============================] - 3s 2ms/step - loss: 26.0208 - accuracy: 0.1232\n",
      "Epoch 9/10\n",
      "1875/1875 [==============================] - 3s 2ms/step - loss: 26.0208 - accuracy: 0.1172\n",
      "Epoch 10/10\n",
      "1875/1875 [==============================] - 3s 2ms/step - loss: 26.0208 - accuracy: 0.1121\n",
      "313/313 [==============================] - 1s 1ms/step - loss: 25.9698 - accuracy: 0.1114\n"
     ]
    },
    {
     "data": {
      "text/plain": [
       "[25.96980094909668, 0.11140000075101852]"
      ]
     },
     "execution_count": 23,
     "metadata": {},
     "output_type": "execute_result"
    }
   ],
   "source": [
    "model6 = layerandnodes(32,4,'relu','softmax','mse','RMSprop','accuracy')\n",
    "model6.fit(x_train,y_train, epochs=10)\n",
    "model6.evaluate(x_test,y_test)"
   ]
  },
  {
   "cell_type": "code",
   "execution_count": 24,
   "id": "e03ced8f",
   "metadata": {},
   "outputs": [
    {
     "name": "stdout",
     "output_type": "stream",
     "text": [
      "Epoch 1/10\n",
      "1875/1875 [==============================] - 4s 2ms/step - loss: 26.7283 - accuracy: 0.1275\n",
      "Epoch 2/10\n",
      "1875/1875 [==============================] - 3s 2ms/step - loss: 26.7283 - accuracy: 0.1309\n",
      "Epoch 3/10\n",
      "1875/1875 [==============================] - 3s 2ms/step - loss: 26.7283 - accuracy: 0.1401\n",
      "Epoch 4/10\n",
      "1875/1875 [==============================] - 3s 2ms/step - loss: 26.7283 - accuracy: 0.1279\n",
      "Epoch 5/10\n",
      "1875/1875 [==============================] - 3s 2ms/step - loss: 26.7283 - accuracy: 0.0982\n",
      "Epoch 6/10\n",
      "1875/1875 [==============================] - 3s 2ms/step - loss: 26.7283 - accuracy: 0.0935\n",
      "Epoch 7/10\n",
      "1875/1875 [==============================] - 3s 2ms/step - loss: 26.7283 - accuracy: 0.0952\n",
      "Epoch 8/10\n",
      "1875/1875 [==============================] - 3s 2ms/step - loss: 26.7283 - accuracy: 0.0984\n",
      "Epoch 9/10\n",
      "1875/1875 [==============================] - 3s 2ms/step - loss: 26.7283 - accuracy: 0.0997\n",
      "Epoch 10/10\n",
      "1875/1875 [==============================] - 4s 2ms/step - loss: 26.7283 - accuracy: 0.0991\n",
      "313/313 [==============================] - 1s 1ms/step - loss: 26.6757 - accuracy: 0.1000\n"
     ]
    },
    {
     "data": {
      "text/plain": [
       "[26.6756649017334, 0.10000000149011612]"
      ]
     },
     "execution_count": 24,
     "metadata": {},
     "output_type": "execute_result"
    }
   ],
   "source": [
    "model7 = layerandnodes(32,6,'relu','softmax','mse','RMSprop','accuracy')\n",
    "model7.fit(x_train,y_train, epochs=10)\n",
    "model7.evaluate(x_test,y_test)"
   ]
  },
  {
   "cell_type": "code",
   "execution_count": 25,
   "id": "54ebe785",
   "metadata": {},
   "outputs": [
    {
     "name": "stdout",
     "output_type": "stream",
     "text": [
      "Epoch 1/10\n",
      "1875/1875 [==============================] - 5s 2ms/step - loss: 27.0874 - accuracy: 0.1055\n",
      "Epoch 2/10\n",
      "1875/1875 [==============================] - 4s 2ms/step - loss: 27.0874 - accuracy: 0.1129\n",
      "Epoch 3/10\n",
      "1875/1875 [==============================] - 4s 2ms/step - loss: 27.0874 - accuracy: 0.1121\n",
      "Epoch 4/10\n",
      "1875/1875 [==============================] - 4s 2ms/step - loss: 27.0874 - accuracy: 0.1126\n",
      "Epoch 5/10\n",
      "1875/1875 [==============================] - 4s 2ms/step - loss: 27.0874 - accuracy: 0.1168\n",
      "Epoch 6/10\n",
      "1875/1875 [==============================] - 4s 2ms/step - loss: 27.0874 - accuracy: 0.1184\n",
      "Epoch 7/10\n",
      "1875/1875 [==============================] - 4s 2ms/step - loss: 27.0874 - accuracy: 0.1178\n",
      "Epoch 8/10\n",
      "1875/1875 [==============================] - 3s 2ms/step - loss: 27.0874 - accuracy: 0.1178\n",
      "Epoch 9/10\n",
      "1875/1875 [==============================] - 3s 2ms/step - loss: 27.0874 - accuracy: 0.1189\n",
      "Epoch 10/10\n",
      "1875/1875 [==============================] - 4s 2ms/step - loss: 27.0874 - accuracy: 0.1185\n",
      "313/313 [==============================] - 1s 2ms/step - loss: 27.0338 - accuracy: 0.1175\n"
     ]
    },
    {
     "data": {
      "text/plain": [
       "[27.033775329589844, 0.11749999970197678]"
      ]
     },
     "execution_count": 25,
     "metadata": {},
     "output_type": "execute_result"
    }
   ],
   "source": [
    "model8 = layerandnodes(32,8,'relu','softmax','mse','RMSprop','accuracy')\n",
    "model8.fit(x_train,y_train, epochs=10)\n",
    "model8.evaluate(x_test,y_test)"
   ]
  },
  {
   "cell_type": "code",
   "execution_count": 26,
   "id": "665292bb",
   "metadata": {},
   "outputs": [
    {
     "name": "stdout",
     "output_type": "stream",
     "text": [
      "Epoch 1/10\n",
      "1875/1875 [==============================] - 6s 2ms/step - loss: 27.6324 - accuracy: 0.0561\n",
      "Epoch 2/10\n",
      "1875/1875 [==============================] - 5s 3ms/step - loss: 27.6324 - accuracy: 0.0750\n",
      "Epoch 3/10\n",
      "1875/1875 [==============================] - 5s 3ms/step - loss: 27.6324 - accuracy: 0.0825\n",
      "Epoch 4/10\n",
      "1875/1875 [==============================] - 5s 3ms/step - loss: 27.6324 - accuracy: 0.0880\n",
      "Epoch 5/10\n",
      "1875/1875 [==============================] - 4s 2ms/step - loss: 27.6324 - accuracy: 0.0912\n",
      "Epoch 6/10\n",
      "1875/1875 [==============================] - 4s 2ms/step - loss: 27.6324 - accuracy: 0.0924\n",
      "Epoch 7/10\n",
      "1875/1875 [==============================] - 4s 2ms/step - loss: 27.6324 - accuracy: 0.1011\n",
      "Epoch 8/10\n",
      "1875/1875 [==============================] - 4s 2ms/step - loss: 27.6324 - accuracy: 0.1082\n",
      "Epoch 9/10\n",
      "1875/1875 [==============================] - 4s 2ms/step - loss: 27.6324 - accuracy: 0.1111\n",
      "Epoch 10/10\n",
      "1875/1875 [==============================] - 4s 2ms/step - loss: 27.6324 - accuracy: 0.1134\n",
      "313/313 [==============================] - 1s 2ms/step - loss: 27.5775 - accuracy: 0.1118\n"
     ]
    },
    {
     "data": {
      "text/plain": [
       "[27.57748031616211, 0.11180000007152557]"
      ]
     },
     "execution_count": 26,
     "metadata": {},
     "output_type": "execute_result"
    }
   ],
   "source": [
    "model9 = layerandnodes(32,16,'relu','softmax','mse','RMSprop','accuracy')\n",
    "model9.fit(x_train,y_train, epochs=10)\n",
    "model9.evaluate(x_test,y_test)"
   ]
  },
  {
   "cell_type": "code",
   "execution_count": 27,
   "id": "0ac20ea4",
   "metadata": {},
   "outputs": [
    {
     "name": "stdout",
     "output_type": "stream",
     "text": [
      "Epoch 1/30\n",
      "1875/1875 [==============================] - 3s 2ms/step - loss: 20.2774 - accuracy: 0.1162\n",
      "Epoch 2/30\n",
      "1875/1875 [==============================] - 3s 2ms/step - loss: 20.2774 - accuracy: 0.1134\n",
      "Epoch 3/30\n",
      "1875/1875 [==============================] - 3s 2ms/step - loss: 20.2774 - accuracy: 0.1132\n",
      "Epoch 4/30\n",
      "1875/1875 [==============================] - 3s 2ms/step - loss: 20.2774 - accuracy: 0.1126\n",
      "Epoch 5/30\n",
      "1875/1875 [==============================] - 3s 2ms/step - loss: 20.2774 - accuracy: 0.1127\n",
      "Epoch 6/30\n",
      "1875/1875 [==============================] - 3s 2ms/step - loss: 20.2774 - accuracy: 0.1119\n",
      "Epoch 7/30\n",
      "1875/1875 [==============================] - 4s 2ms/step - loss: 20.2774 - accuracy: 0.1111\n",
      "Epoch 8/30\n",
      "1875/1875 [==============================] - 3s 2ms/step - loss: 20.2774 - accuracy: 0.1114\n",
      "Epoch 9/30\n",
      "1875/1875 [==============================] - 3s 2ms/step - loss: 20.2774 - accuracy: 0.1102\n",
      "Epoch 10/30\n",
      "1875/1875 [==============================] - 3s 2ms/step - loss: 20.2774 - accuracy: 0.1097\n",
      "Epoch 11/30\n",
      "1875/1875 [==============================] - 3s 2ms/step - loss: 20.2774 - accuracy: 0.1090\n",
      "Epoch 12/30\n",
      "1875/1875 [==============================] - 3s 2ms/step - loss: 20.2774 - accuracy: 0.1086\n",
      "Epoch 13/30\n",
      "1875/1875 [==============================] - 3s 2ms/step - loss: 20.2774 - accuracy: 0.1085\n",
      "Epoch 14/30\n",
      "1875/1875 [==============================] - 3s 2ms/step - loss: 20.2774 - accuracy: 0.1075\n",
      "Epoch 15/30\n",
      "1875/1875 [==============================] - 3s 2ms/step - loss: 20.2774 - accuracy: 0.1071\n",
      "Epoch 16/30\n",
      "1875/1875 [==============================] - 3s 2ms/step - loss: 20.2774 - accuracy: 0.1073\n",
      "Epoch 17/30\n",
      "1875/1875 [==============================] - 3s 2ms/step - loss: 20.2774 - accuracy: 0.1076\n",
      "Epoch 18/30\n",
      "1875/1875 [==============================] - 3s 2ms/step - loss: 20.2774 - accuracy: 0.1068\n",
      "Epoch 19/30\n",
      "1875/1875 [==============================] - 3s 2ms/step - loss: 20.2774 - accuracy: 0.1064\n",
      "Epoch 20/30\n",
      "1875/1875 [==============================] - 3s 2ms/step - loss: 20.2774 - accuracy: 0.1068\n",
      "Epoch 21/30\n",
      "1875/1875 [==============================] - 3s 2ms/step - loss: 20.2774 - accuracy: 0.1068\n",
      "Epoch 22/30\n",
      "1875/1875 [==============================] - 3s 2ms/step - loss: 20.2774 - accuracy: 0.1066\n",
      "Epoch 23/30\n",
      "1875/1875 [==============================] - 3s 2ms/step - loss: 20.2774 - accuracy: 0.1063\n",
      "Epoch 24/30\n",
      "1875/1875 [==============================] - 3s 2ms/step - loss: 20.2774 - accuracy: 0.1063\n",
      "Epoch 25/30\n",
      "1875/1875 [==============================] - 3s 2ms/step - loss: 20.2774 - accuracy: 0.1064\n",
      "Epoch 26/30\n",
      "1875/1875 [==============================] - 3s 2ms/step - loss: 20.2774 - accuracy: 0.1057\n",
      "Epoch 27/30\n",
      "1875/1875 [==============================] - 3s 2ms/step - loss: 20.2774 - accuracy: 0.1052\n",
      "Epoch 28/30\n",
      "1875/1875 [==============================] - 3s 2ms/step - loss: 20.2774 - accuracy: 0.1056\n",
      "Epoch 29/30\n",
      "1875/1875 [==============================] - 3s 2ms/step - loss: 20.2774 - accuracy: 0.1047\n",
      "Epoch 30/30\n",
      "1875/1875 [==============================] - 3s 2ms/step - loss: 20.2774 - accuracy: 0.1052\n",
      "313/313 [==============================] - 0s 1ms/step - loss: 20.2422 - accuracy: 0.1047\n"
     ]
    },
    {
     "data": {
      "text/plain": [
       "[20.24220085144043, 0.1046999990940094]"
      ]
     },
     "execution_count": 27,
     "metadata": {},
     "output_type": "execute_result"
    }
   ],
   "source": [
    "model5.fit(x_train,y_train, epochs=30)\n",
    "model5.evaluate(x_test,y_test)"
   ]
  },
  {
   "cell_type": "code",
   "execution_count": 28,
   "id": "633bd28c",
   "metadata": {
    "scrolled": true
   },
   "outputs": [
    {
     "name": "stdout",
     "output_type": "stream",
     "text": [
      "Epoch 1/30\n",
      "1875/1875 [==============================] - 3s 2ms/step - loss: 26.0208 - accuracy: 0.1103\n",
      "Epoch 2/30\n",
      "1875/1875 [==============================] - 3s 2ms/step - loss: 26.0208 - accuracy: 0.1092\n",
      "Epoch 3/30\n",
      "1875/1875 [==============================] - 3s 2ms/step - loss: 26.0208 - accuracy: 0.1081\n",
      "Epoch 4/30\n",
      "1875/1875 [==============================] - 3s 2ms/step - loss: 26.0208 - accuracy: 0.1080\n",
      "Epoch 5/30\n",
      "1875/1875 [==============================] - 3s 2ms/step - loss: 26.0208 - accuracy: 0.1075\n",
      "Epoch 6/30\n",
      "1875/1875 [==============================] - 3s 2ms/step - loss: 26.0208 - accuracy: 0.1048\n",
      "Epoch 7/30\n",
      "1875/1875 [==============================] - 3s 2ms/step - loss: 26.0208 - accuracy: 0.1068\n",
      "Epoch 8/30\n",
      "1875/1875 [==============================] - 3s 2ms/step - loss: 26.0208 - accuracy: 0.1063\n",
      "Epoch 9/30\n",
      "1875/1875 [==============================] - 3s 2ms/step - loss: 26.0208 - accuracy: 0.1073\n",
      "Epoch 10/30\n",
      "1875/1875 [==============================] - 3s 2ms/step - loss: 26.0208 - accuracy: 0.1062\n",
      "Epoch 11/30\n",
      "1875/1875 [==============================] - 3s 2ms/step - loss: 26.0208 - accuracy: 0.1052\n",
      "Epoch 12/30\n",
      "1875/1875 [==============================] - 3s 2ms/step - loss: 26.0208 - accuracy: 0.1064\n",
      "Epoch 13/30\n",
      "1875/1875 [==============================] - 3s 2ms/step - loss: 26.0208 - accuracy: 0.1038\n",
      "Epoch 14/30\n",
      "1875/1875 [==============================] - 3s 2ms/step - loss: 26.0208 - accuracy: 0.1046\n",
      "Epoch 15/30\n",
      "1875/1875 [==============================] - 3s 2ms/step - loss: 26.0208 - accuracy: 0.1059\n",
      "Epoch 16/30\n",
      "1875/1875 [==============================] - 3s 2ms/step - loss: 26.0208 - accuracy: 0.1069\n",
      "Epoch 17/30\n",
      "1875/1875 [==============================] - 4s 2ms/step - loss: 26.0208 - accuracy: 0.1052\n",
      "Epoch 18/30\n",
      "1875/1875 [==============================] - 3s 2ms/step - loss: 26.0208 - accuracy: 0.1045\n",
      "Epoch 19/30\n",
      "1875/1875 [==============================] - 3s 2ms/step - loss: 26.0208 - accuracy: 0.1046\n",
      "Epoch 20/30\n",
      "1875/1875 [==============================] - 3s 2ms/step - loss: 26.0208 - accuracy: 0.1047\n",
      "Epoch 21/30\n",
      "1875/1875 [==============================] - 3s 2ms/step - loss: 26.0208 - accuracy: 0.1054\n",
      "Epoch 22/30\n",
      "1875/1875 [==============================] - 3s 2ms/step - loss: 26.0208 - accuracy: 0.1038\n",
      "Epoch 23/30\n",
      "1875/1875 [==============================] - 3s 2ms/step - loss: 26.0208 - accuracy: 0.1046\n",
      "Epoch 24/30\n",
      "1875/1875 [==============================] - 3s 2ms/step - loss: 26.0208 - accuracy: 0.1032\n",
      "Epoch 25/30\n",
      "1875/1875 [==============================] - 3s 2ms/step - loss: 26.0208 - accuracy: 0.1024\n",
      "Epoch 26/30\n",
      "1875/1875 [==============================] - 3s 2ms/step - loss: 26.0208 - accuracy: 0.1050\n",
      "Epoch 27/30\n",
      "1875/1875 [==============================] - 3s 2ms/step - loss: 26.0208 - accuracy: 0.1045\n",
      "Epoch 28/30\n",
      "1875/1875 [==============================] - 3s 2ms/step - loss: 26.0208 - accuracy: 0.1042\n",
      "Epoch 29/30\n",
      "1875/1875 [==============================] - 3s 2ms/step - loss: 26.0208 - accuracy: 0.1046\n",
      "Epoch 30/30\n",
      "1875/1875 [==============================] - 3s 2ms/step - loss: 26.0208 - accuracy: 0.1041\n",
      "313/313 [==============================] - 0s 1ms/step - loss: 25.9698 - accuracy: 0.1158\n"
     ]
    },
    {
     "data": {
      "text/plain": [
       "[25.96980094909668, 0.11580000072717667]"
      ]
     },
     "execution_count": 28,
     "metadata": {},
     "output_type": "execute_result"
    }
   ],
   "source": [
    "model6.fit(x_train,y_train, epochs=30)\n",
    "model6.evaluate(x_test,y_test)"
   ]
  },
  {
   "cell_type": "code",
   "execution_count": 29,
   "id": "ea3f0950",
   "metadata": {
    "scrolled": true
   },
   "outputs": [
    {
     "name": "stdout",
     "output_type": "stream",
     "text": [
      "Epoch 1/30\n",
      "1875/1875 [==============================] - 3s 2ms/step - loss: 26.7283 - accuracy: 0.0974\n",
      "Epoch 2/30\n",
      "1875/1875 [==============================] - 3s 2ms/step - loss: 26.7283 - accuracy: 0.0993\n",
      "Epoch 3/30\n",
      "1875/1875 [==============================] - 3s 2ms/step - loss: 26.7283 - accuracy: 0.0988\n",
      "Epoch 4/30\n",
      "1875/1875 [==============================] - 3s 2ms/step - loss: 26.7283 - accuracy: 0.0983\n",
      "Epoch 5/30\n",
      "1875/1875 [==============================] - 3s 2ms/step - loss: 26.7283 - accuracy: 0.0984\n",
      "Epoch 6/30\n",
      "1875/1875 [==============================] - 3s 2ms/step - loss: 26.7283 - accuracy: 0.0976\n",
      "Epoch 7/30\n",
      "1875/1875 [==============================] - 3s 2ms/step - loss: 26.7283 - accuracy: 0.0976\n",
      "Epoch 8/30\n",
      "1875/1875 [==============================] - 3s 2ms/step - loss: 26.7283 - accuracy: 0.0991\n",
      "Epoch 9/30\n",
      "1875/1875 [==============================] - 3s 2ms/step - loss: 26.7283 - accuracy: 0.0974\n",
      "Epoch 10/30\n",
      "1875/1875 [==============================] - 3s 2ms/step - loss: 26.7283 - accuracy: 0.0972\n",
      "Epoch 11/30\n",
      "1875/1875 [==============================] - 3s 2ms/step - loss: 26.7283 - accuracy: 0.0960\n",
      "Epoch 12/30\n",
      "1875/1875 [==============================] - 3s 2ms/step - loss: 26.7283 - accuracy: 0.0975\n",
      "Epoch 13/30\n",
      "1875/1875 [==============================] - 3s 2ms/step - loss: 26.7283 - accuracy: 0.0956\n",
      "Epoch 14/30\n",
      "1875/1875 [==============================] - 3s 2ms/step - loss: 26.7283 - accuracy: 0.0972\n",
      "Epoch 15/30\n",
      "1875/1875 [==============================] - 3s 2ms/step - loss: 26.7283 - accuracy: 0.0977\n",
      "Epoch 16/30\n",
      "1875/1875 [==============================] - 3s 2ms/step - loss: 26.7283 - accuracy: 0.0971\n",
      "Epoch 17/30\n",
      "1875/1875 [==============================] - 3s 2ms/step - loss: 26.7283 - accuracy: 0.0957\n",
      "Epoch 18/30\n",
      "1875/1875 [==============================] - 3s 2ms/step - loss: 26.7284 - accuracy: 0.0974\n",
      "Epoch 19/30\n",
      "1875/1875 [==============================] - 3s 2ms/step - loss: 26.7283 - accuracy: 0.0977\n",
      "Epoch 20/30\n",
      "1875/1875 [==============================] - 3s 2ms/step - loss: 26.7283 - accuracy: 0.0965\n",
      "Epoch 21/30\n",
      "1875/1875 [==============================] - 3s 2ms/step - loss: 26.7283 - accuracy: 0.0991\n",
      "Epoch 22/30\n",
      "1875/1875 [==============================] - 3s 2ms/step - loss: 26.7283 - accuracy: 0.0973\n",
      "Epoch 23/30\n",
      "1875/1875 [==============================] - 3s 2ms/step - loss: 26.7283 - accuracy: 0.0958\n",
      "Epoch 24/30\n",
      "1875/1875 [==============================] - 3s 2ms/step - loss: 26.7283 - accuracy: 0.0976\n",
      "Epoch 25/30\n",
      "1875/1875 [==============================] - 3s 2ms/step - loss: 26.7283 - accuracy: 0.0979\n",
      "Epoch 26/30\n",
      "1875/1875 [==============================] - 4s 2ms/step - loss: 26.7283 - accuracy: 0.0968\n",
      "Epoch 27/30\n",
      "1875/1875 [==============================] - 4s 2ms/step - loss: 26.7283 - accuracy: 0.0974\n",
      "Epoch 28/30\n",
      "1875/1875 [==============================] - 3s 2ms/step - loss: 26.7283 - accuracy: 0.0970\n",
      "Epoch 29/30\n",
      "1875/1875 [==============================] - 4s 2ms/step - loss: 26.7283 - accuracy: 0.0977\n",
      "Epoch 30/30\n",
      "1875/1875 [==============================] - 4s 2ms/step - loss: 26.7283 - accuracy: 0.0981\n",
      "313/313 [==============================] - 1s 2ms/step - loss: 26.6757 - accuracy: 0.1007\n"
     ]
    },
    {
     "data": {
      "text/plain": [
       "[26.6756649017334, 0.1006999984383583]"
      ]
     },
     "execution_count": 29,
     "metadata": {},
     "output_type": "execute_result"
    }
   ],
   "source": [
    "model7.fit(x_train,y_train, epochs=30)\n",
    "model7.evaluate(x_test,y_test)"
   ]
  },
  {
   "cell_type": "code",
   "execution_count": 30,
   "id": "73b63366",
   "metadata": {
    "scrolled": true
   },
   "outputs": [
    {
     "name": "stdout",
     "output_type": "stream",
     "text": [
      "Epoch 1/30\n",
      "1875/1875 [==============================] - 4s 2ms/step - loss: 27.0874 - accuracy: 0.1178\n",
      "Epoch 2/30\n",
      "1875/1875 [==============================] - 4s 2ms/step - loss: 27.0874 - accuracy: 0.1158\n",
      "Epoch 3/30\n",
      "1875/1875 [==============================] - 3s 2ms/step - loss: 27.0874 - accuracy: 0.1152\n",
      "Epoch 4/30\n",
      "1875/1875 [==============================] - 3s 2ms/step - loss: 27.0874 - accuracy: 0.1144\n",
      "Epoch 5/30\n",
      "1875/1875 [==============================] - 4s 2ms/step - loss: 27.0874 - accuracy: 0.1138\n",
      "Epoch 6/30\n",
      "1875/1875 [==============================] - 3s 2ms/step - loss: 27.0874 - accuracy: 0.1128\n",
      "Epoch 7/30\n",
      "1875/1875 [==============================] - 3s 2ms/step - loss: 27.0874 - accuracy: 0.1121\n",
      "Epoch 8/30\n",
      "1875/1875 [==============================] - 3s 2ms/step - loss: 27.0874 - accuracy: 0.1112\n",
      "Epoch 9/30\n",
      "1875/1875 [==============================] - 4s 2ms/step - loss: 27.0874 - accuracy: 0.1106\n",
      "Epoch 10/30\n",
      "1875/1875 [==============================] - 4s 2ms/step - loss: 27.0874 - accuracy: 0.1105\n",
      "Epoch 11/30\n",
      "1875/1875 [==============================] - 4s 2ms/step - loss: 27.0874 - accuracy: 0.1099\n",
      "Epoch 12/30\n",
      "1875/1875 [==============================] - 4s 2ms/step - loss: 27.0874 - accuracy: 0.1098\n",
      "Epoch 13/30\n",
      "1875/1875 [==============================] - 4s 2ms/step - loss: 27.0874 - accuracy: 0.1093\n",
      "Epoch 14/30\n",
      "1875/1875 [==============================] - 4s 2ms/step - loss: 27.0874 - accuracy: 0.1091\n",
      "Epoch 15/30\n",
      "1875/1875 [==============================] - 4s 2ms/step - loss: 27.0874 - accuracy: 0.1088\n",
      "Epoch 16/30\n",
      "1875/1875 [==============================] - 4s 2ms/step - loss: 27.0874 - accuracy: 0.1085\n",
      "Epoch 17/30\n",
      "1875/1875 [==============================] - 4s 2ms/step - loss: 27.0874 - accuracy: 0.1083\n",
      "Epoch 18/30\n",
      "1875/1875 [==============================] - 3s 2ms/step - loss: 27.0874 - accuracy: 0.1080\n",
      "Epoch 19/30\n",
      "1875/1875 [==============================] - 4s 2ms/step - loss: 27.0874 - accuracy: 0.1083\n",
      "Epoch 20/30\n",
      "1875/1875 [==============================] - 4s 2ms/step - loss: 27.0874 - accuracy: 0.1081\n",
      "Epoch 21/30\n",
      "1875/1875 [==============================] - 4s 2ms/step - loss: 27.0874 - accuracy: 0.1081\n",
      "Epoch 22/30\n",
      "1875/1875 [==============================] - 3s 2ms/step - loss: 27.0874 - accuracy: 0.1078\n",
      "Epoch 23/30\n",
      "1875/1875 [==============================] - 3s 2ms/step - loss: 27.0874 - accuracy: 0.1076\n",
      "Epoch 24/30\n",
      "1875/1875 [==============================] - 3s 2ms/step - loss: 27.0874 - accuracy: 0.1076\n",
      "Epoch 25/30\n",
      "1875/1875 [==============================] - 3s 2ms/step - loss: 27.0874 - accuracy: 0.1076\n",
      "Epoch 26/30\n",
      "1875/1875 [==============================] - 3s 2ms/step - loss: 27.0874 - accuracy: 0.1075\n",
      "Epoch 27/30\n",
      "1875/1875 [==============================] - 4s 2ms/step - loss: 27.0874 - accuracy: 0.1074\n",
      "Epoch 28/30\n",
      "1875/1875 [==============================] - 4s 2ms/step - loss: 27.0874 - accuracy: 0.1074\n",
      "Epoch 29/30\n",
      "1875/1875 [==============================] - 4s 2ms/step - loss: 27.0874 - accuracy: 0.1072\n",
      "Epoch 30/30\n",
      "1875/1875 [==============================] - 4s 2ms/step - loss: 27.0874 - accuracy: 0.1072\n",
      "313/313 [==============================] - 0s 2ms/step - loss: 27.0338 - accuracy: 0.1072\n"
     ]
    },
    {
     "data": {
      "text/plain": [
       "[27.033775329589844, 0.10719999670982361]"
      ]
     },
     "execution_count": 30,
     "metadata": {},
     "output_type": "execute_result"
    }
   ],
   "source": [
    "model8.fit(x_train,y_train, epochs=30)\n",
    "model8.evaluate(x_test,y_test)"
   ]
  },
  {
   "cell_type": "code",
   "execution_count": 31,
   "id": "35fdfbae",
   "metadata": {
    "scrolled": true
   },
   "outputs": [
    {
     "name": "stdout",
     "output_type": "stream",
     "text": [
      "Epoch 1/30\n",
      "1875/1875 [==============================] - 4s 2ms/step - loss: 27.6324 - accuracy: 0.1164\n",
      "Epoch 2/30\n",
      "1875/1875 [==============================] - 4s 2ms/step - loss: 27.6324 - accuracy: 0.1176\n",
      "Epoch 3/30\n",
      "1875/1875 [==============================] - 5s 2ms/step - loss: 27.6324 - accuracy: 0.1187\n",
      "Epoch 4/30\n",
      "1875/1875 [==============================] - 4s 2ms/step - loss: 27.6324 - accuracy: 0.1208\n",
      "Epoch 5/30\n",
      "1875/1875 [==============================] - 4s 2ms/step - loss: 27.6324 - accuracy: 0.1219\n",
      "Epoch 6/30\n",
      "1875/1875 [==============================] - 4s 2ms/step - loss: 27.6324 - accuracy: 0.1218\n",
      "Epoch 7/30\n",
      "1875/1875 [==============================] - 4s 2ms/step - loss: 27.6324 - accuracy: 0.1216\n",
      "Epoch 8/30\n",
      "1875/1875 [==============================] - 4s 2ms/step - loss: 27.6324 - accuracy: 0.1212\n",
      "Epoch 9/30\n",
      "1875/1875 [==============================] - 4s 2ms/step - loss: 27.6324 - accuracy: 0.1204\n",
      "Epoch 10/30\n",
      "1875/1875 [==============================] - 4s 2ms/step - loss: 27.6324 - accuracy: 0.1193\n",
      "Epoch 11/30\n",
      "1875/1875 [==============================] - 4s 2ms/step - loss: 27.6324 - accuracy: 0.1192\n",
      "Epoch 12/30\n",
      "1875/1875 [==============================] - 4s 2ms/step - loss: 27.6324 - accuracy: 0.1182\n",
      "Epoch 13/30\n",
      "1875/1875 [==============================] - 4s 2ms/step - loss: 27.6324 - accuracy: 0.1163\n",
      "Epoch 14/30\n",
      "1875/1875 [==============================] - 4s 2ms/step - loss: 27.6324 - accuracy: 0.1148\n",
      "Epoch 15/30\n",
      "1875/1875 [==============================] - 4s 2ms/step - loss: 27.6324 - accuracy: 0.1146\n",
      "Epoch 16/30\n",
      "1875/1875 [==============================] - 4s 2ms/step - loss: 27.6324 - accuracy: 0.1144\n",
      "Epoch 17/30\n",
      "1875/1875 [==============================] - 4s 2ms/step - loss: 27.6324 - accuracy: 0.1143\n",
      "Epoch 18/30\n",
      "1875/1875 [==============================] - 4s 2ms/step - loss: 27.6324 - accuracy: 0.1157\n",
      "Epoch 19/30\n",
      "1875/1875 [==============================] - 4s 2ms/step - loss: 27.6324 - accuracy: 0.1155\n",
      "Epoch 20/30\n",
      "1875/1875 [==============================] - 4s 2ms/step - loss: 27.6324 - accuracy: 0.1166\n",
      "Epoch 21/30\n",
      "1875/1875 [==============================] - 4s 2ms/step - loss: 27.6324 - accuracy: 0.1169\n",
      "Epoch 22/30\n",
      "1875/1875 [==============================] - 4s 2ms/step - loss: 27.6324 - accuracy: 0.1166\n",
      "Epoch 23/30\n",
      "1875/1875 [==============================] - 4s 2ms/step - loss: 27.6324 - accuracy: 0.1156\n",
      "Epoch 24/30\n",
      "1875/1875 [==============================] - 4s 2ms/step - loss: 27.6324 - accuracy: 0.1133\n",
      "Epoch 25/30\n",
      "1875/1875 [==============================] - 4s 2ms/step - loss: 27.6324 - accuracy: 0.1127\n",
      "Epoch 26/30\n",
      "1875/1875 [==============================] - 4s 2ms/step - loss: 27.6324 - accuracy: 0.1131\n",
      "Epoch 27/30\n",
      "1875/1875 [==============================] - 4s 2ms/step - loss: 27.6324 - accuracy: 0.1130\n",
      "Epoch 28/30\n",
      "1875/1875 [==============================] - 4s 2ms/step - loss: 27.6324 - accuracy: 0.1136\n",
      "Epoch 29/30\n",
      "1875/1875 [==============================] - 4s 2ms/step - loss: 27.6324 - accuracy: 0.1112\n",
      "Epoch 30/30\n",
      "1875/1875 [==============================] - 4s 2ms/step - loss: 27.6324 - accuracy: 0.1122\n",
      "313/313 [==============================] - 1s 2ms/step - loss: 27.5775 - accuracy: 0.1160\n"
     ]
    },
    {
     "data": {
      "text/plain": [
       "[27.57748031616211, 0.11599999666213989]"
      ]
     },
     "execution_count": 31,
     "metadata": {},
     "output_type": "execute_result"
    }
   ],
   "source": [
    "model9.fit(x_train,y_train, epochs=30)\n",
    "model9.evaluate(x_test,y_test)"
   ]
  },
  {
   "cell_type": "markdown",
   "id": "2cc2db04",
   "metadata": {},
   "source": [
    "### 3. Activation function"
   ]
  },
  {
   "cell_type": "code",
   "execution_count": 32,
   "id": "470eea55",
   "metadata": {
    "scrolled": true
   },
   "outputs": [
    {
     "name": "stdout",
     "output_type": "stream",
     "text": [
      "Epoch 1/10\n",
      "1875/1875 [==============================] - 4s 2ms/step - loss: 20.3656 - accuracy: 0.0953\n",
      "Epoch 2/10\n",
      "1875/1875 [==============================] - 3s 2ms/step - loss: 20.2774 - accuracy: 0.0880\n",
      "Epoch 3/10\n",
      "1875/1875 [==============================] - 3s 2ms/step - loss: 20.2774 - accuracy: 0.1049\n",
      "Epoch 4/10\n",
      "1875/1875 [==============================] - 3s 2ms/step - loss: 20.2774 - accuracy: 0.1187\n",
      "Epoch 5/10\n",
      "1875/1875 [==============================] - 4s 2ms/step - loss: 20.2774 - accuracy: 0.1193\n",
      "Epoch 6/10\n",
      "1875/1875 [==============================] - 4s 2ms/step - loss: 20.2774 - accuracy: 0.1215\n",
      "Epoch 7/10\n",
      "1875/1875 [==============================] - 4s 2ms/step - loss: 20.2774 - accuracy: 0.1185\n",
      "Epoch 8/10\n",
      "1875/1875 [==============================] - 3s 2ms/step - loss: 20.2774 - accuracy: 0.1173\n",
      "Epoch 9/10\n",
      "1875/1875 [==============================] - 3s 2ms/step - loss: 20.2774 - accuracy: 0.1164\n",
      "Epoch 10/10\n",
      "1875/1875 [==============================] - 3s 2ms/step - loss: 20.2774 - accuracy: 0.1155\n",
      "313/313 [==============================] - 1s 1ms/step - loss: 20.2422 - accuracy: 0.1123\n"
     ]
    },
    {
     "data": {
      "text/plain": [
       "[20.24220085144043, 0.11230000108480453]"
      ]
     },
     "execution_count": 32,
     "metadata": {},
     "output_type": "execute_result"
    }
   ],
   "source": [
    "model10 = layerandnodes(32,3,'relu','sigmoid','mse','RMSprop','accuracy')\n",
    "model10.fit(x_train,y_train, epochs=10)\n",
    "model10.evaluate(x_test,y_test)"
   ]
  },
  {
   "cell_type": "code",
   "execution_count": 33,
   "id": "ece517a5",
   "metadata": {
    "scrolled": true
   },
   "outputs": [
    {
     "name": "stdout",
     "output_type": "stream",
     "text": [
      "Epoch 1/10\n",
      "1875/1875 [==============================] - 4s 2ms/step - loss: 20.4417 - accuracy: 0.0988\n",
      "Epoch 2/10\n",
      "1875/1875 [==============================] - 3s 2ms/step - loss: 20.2774 - accuracy: 0.0987\n",
      "Epoch 3/10\n",
      "1875/1875 [==============================] - 3s 2ms/step - loss: 20.2774 - accuracy: 0.0987\n",
      "Epoch 4/10\n",
      "1875/1875 [==============================] - 3s 2ms/step - loss: 20.2774 - accuracy: 0.0987\n",
      "Epoch 5/10\n",
      "1875/1875 [==============================] - 3s 2ms/step - loss: 20.2774 - accuracy: 0.0987\n",
      "Epoch 6/10\n",
      "1875/1875 [==============================] - 3s 2ms/step - loss: 20.2774 - accuracy: 0.0987\n",
      "Epoch 7/10\n",
      "1875/1875 [==============================] - 3s 2ms/step - loss: 20.2774 - accuracy: 0.0987\n",
      "Epoch 8/10\n",
      "1875/1875 [==============================] - 3s 2ms/step - loss: 20.2774 - accuracy: 0.0987\n",
      "Epoch 9/10\n",
      "1875/1875 [==============================] - 3s 2ms/step - loss: 20.2774 - accuracy: 0.0987\n",
      "Epoch 10/10\n",
      "1875/1875 [==============================] - 3s 2ms/step - loss: 20.2774 - accuracy: 0.0987\n",
      "313/313 [==============================] - 1s 1ms/step - loss: 20.2422 - accuracy: 0.0980\n"
     ]
    },
    {
     "data": {
      "text/plain": [
       "[20.24220085144043, 0.09799999743700027]"
      ]
     },
     "execution_count": 33,
     "metadata": {},
     "output_type": "execute_result"
    }
   ],
   "source": [
    "model11 = layerandnodes(32,3,'relu','tanh','mse','RMSprop','accuracy')\n",
    "model11.fit(x_train,y_train, epochs=10)\n",
    "model11.evaluate(x_test,y_test)"
   ]
  },
  {
   "cell_type": "code",
   "execution_count": 34,
   "id": "1238db8c",
   "metadata": {
    "scrolled": true
   },
   "outputs": [
    {
     "name": "stdout",
     "output_type": "stream",
     "text": [
      "Epoch 1/10\n",
      "1875/1875 [==============================] - 4s 2ms/step - loss: 7.7264 - accuracy: 0.1094\n",
      "Epoch 2/10\n",
      "1875/1875 [==============================] - 3s 2ms/step - loss: 3.0474 - accuracy: 0.1405\n",
      "Epoch 3/10\n",
      "1875/1875 [==============================] - 3s 2ms/step - loss: 2.4849 - accuracy: 0.1600\n",
      "Epoch 4/10\n",
      "1875/1875 [==============================] - 3s 2ms/step - loss: 2.0335 - accuracy: 0.1573\n",
      "Epoch 5/10\n",
      "1875/1875 [==============================] - 3s 2ms/step - loss: 1.7661 - accuracy: 0.1347\n",
      "Epoch 6/10\n",
      "1875/1875 [==============================] - 3s 2ms/step - loss: 1.5628 - accuracy: 0.1115\n",
      "Epoch 7/10\n",
      "1875/1875 [==============================] - 3s 2ms/step - loss: 1.4046 - accuracy: 0.1141\n",
      "Epoch 8/10\n",
      "1875/1875 [==============================] - 3s 2ms/step - loss: 1.2815 - accuracy: 0.1263\n",
      "Epoch 9/10\n",
      "1875/1875 [==============================] - 3s 2ms/step - loss: 1.1930 - accuracy: 0.1421\n",
      "Epoch 10/10\n",
      "1875/1875 [==============================] - 3s 2ms/step - loss: 1.1172 - accuracy: 0.1746\n",
      "313/313 [==============================] - 1s 1ms/step - loss: 1.1468 - accuracy: 0.1496\n"
     ]
    },
    {
     "data": {
      "text/plain": [
       "[1.146762728691101, 0.14959999918937683]"
      ]
     },
     "execution_count": 34,
     "metadata": {},
     "output_type": "execute_result"
    }
   ],
   "source": [
    "model12 = layerandnodes(32,3,'relu','relu','mse','RMSprop','accuracy')\n",
    "model12.fit(x_train,y_train, epochs=10)\n",
    "model12.evaluate(x_test,y_test)"
   ]
  },
  {
   "cell_type": "code",
   "execution_count": 35,
   "id": "5d595b8b",
   "metadata": {
    "scrolled": true
   },
   "outputs": [
    {
     "name": "stdout",
     "output_type": "stream",
     "text": [
      "Epoch 1/30\n",
      "1875/1875 [==============================] - 3s 2ms/step - loss: 20.2774 - accuracy: 0.1143\n",
      "Epoch 2/30\n",
      "1875/1875 [==============================] - 3s 2ms/step - loss: 20.2774 - accuracy: 0.1124\n",
      "Epoch 3/30\n",
      "1875/1875 [==============================] - 3s 2ms/step - loss: 20.2774 - accuracy: 0.1127\n",
      "Epoch 4/30\n",
      "1875/1875 [==============================] - 3s 2ms/step - loss: 20.2774 - accuracy: 0.1120\n",
      "Epoch 5/30\n",
      "1875/1875 [==============================] - 3s 2ms/step - loss: 20.2774 - accuracy: 0.1103\n",
      "Epoch 6/30\n",
      "1875/1875 [==============================] - 3s 2ms/step - loss: 20.2774 - accuracy: 0.1108\n",
      "Epoch 7/30\n",
      "1875/1875 [==============================] - 3s 2ms/step - loss: 20.2774 - accuracy: 0.1108\n",
      "Epoch 8/30\n",
      "1875/1875 [==============================] - 3s 2ms/step - loss: 20.2774 - accuracy: 0.1101\n",
      "Epoch 9/30\n",
      "1875/1875 [==============================] - 3s 2ms/step - loss: 20.2774 - accuracy: 0.1092\n",
      "Epoch 10/30\n",
      "1875/1875 [==============================] - 3s 2ms/step - loss: 20.2774 - accuracy: 0.1085\n",
      "Epoch 11/30\n",
      "1875/1875 [==============================] - 3s 2ms/step - loss: 20.2774 - accuracy: 0.1082\n",
      "Epoch 12/30\n",
      "1875/1875 [==============================] - 4s 2ms/step - loss: 20.2774 - accuracy: 0.1082\n",
      "Epoch 13/30\n",
      "1875/1875 [==============================] - 3s 2ms/step - loss: 20.2774 - accuracy: 0.1067\n",
      "Epoch 14/30\n",
      "1875/1875 [==============================] - 3s 2ms/step - loss: 20.2774 - accuracy: 0.1078\n",
      "Epoch 15/30\n",
      "1875/1875 [==============================] - 4s 2ms/step - loss: 20.2774 - accuracy: 0.1072\n",
      "Epoch 16/30\n",
      "1875/1875 [==============================] - 4s 2ms/step - loss: 20.2774 - accuracy: 0.1070\n",
      "Epoch 17/30\n",
      "1875/1875 [==============================] - 3s 2ms/step - loss: 20.2774 - accuracy: 0.1065\n",
      "Epoch 18/30\n",
      "1875/1875 [==============================] - 3s 2ms/step - loss: 20.2774 - accuracy: 0.1063\n",
      "Epoch 19/30\n",
      "1875/1875 [==============================] - 3s 2ms/step - loss: 20.2774 - accuracy: 0.1059\n",
      "Epoch 20/30\n",
      "1875/1875 [==============================] - 3s 2ms/step - loss: 20.2774 - accuracy: 0.1060\n",
      "Epoch 21/30\n",
      "1875/1875 [==============================] - 4s 2ms/step - loss: 20.2774 - accuracy: 0.1059\n",
      "Epoch 22/30\n",
      "1875/1875 [==============================] - 3s 2ms/step - loss: 20.2774 - accuracy: 0.1053\n",
      "Epoch 23/30\n",
      "1875/1875 [==============================] - 3s 2ms/step - loss: 20.2774 - accuracy: 0.1057\n",
      "Epoch 24/30\n",
      "1875/1875 [==============================] - 3s 2ms/step - loss: 20.2774 - accuracy: 0.1053\n",
      "Epoch 25/30\n",
      "1875/1875 [==============================] - 3s 2ms/step - loss: 20.2774 - accuracy: 0.1057\n",
      "Epoch 26/30\n",
      "1875/1875 [==============================] - 3s 2ms/step - loss: 20.2774 - accuracy: 0.1051\n",
      "Epoch 27/30\n",
      "1875/1875 [==============================] - 3s 2ms/step - loss: 20.2774 - accuracy: 0.1046\n",
      "Epoch 28/30\n",
      "1875/1875 [==============================] - 3s 2ms/step - loss: 20.2774 - accuracy: 0.1045\n",
      "Epoch 29/30\n",
      "1875/1875 [==============================] - 3s 2ms/step - loss: 20.2774 - accuracy: 0.1044\n",
      "Epoch 30/30\n",
      "1875/1875 [==============================] - 3s 2ms/step - loss: 20.2774 - accuracy: 0.1042\n",
      "313/313 [==============================] - 0s 2ms/step - loss: 20.2422 - accuracy: 0.1039\n"
     ]
    },
    {
     "data": {
      "text/plain": [
       "[20.24220085144043, 0.1039000004529953]"
      ]
     },
     "execution_count": 35,
     "metadata": {},
     "output_type": "execute_result"
    }
   ],
   "source": [
    "model10.fit(x_train,y_train, epochs=30)\n",
    "model10.evaluate(x_test,y_test)"
   ]
  },
  {
   "cell_type": "code",
   "execution_count": 36,
   "id": "592fb585",
   "metadata": {},
   "outputs": [
    {
     "name": "stdout",
     "output_type": "stream",
     "text": [
      "Epoch 1/30\n",
      "1875/1875 [==============================] - 3s 2ms/step - loss: 20.2774 - accuracy: 0.0987\n",
      "Epoch 2/30\n",
      "1875/1875 [==============================] - 3s 2ms/step - loss: 20.2774 - accuracy: 0.0987\n",
      "Epoch 3/30\n",
      "1875/1875 [==============================] - 3s 2ms/step - loss: 20.2774 - accuracy: 0.0987\n",
      "Epoch 4/30\n",
      "1875/1875 [==============================] - 3s 2ms/step - loss: 20.2774 - accuracy: 0.0987\n",
      "Epoch 5/30\n",
      "1875/1875 [==============================] - 3s 2ms/step - loss: 20.2774 - accuracy: 0.0987\n",
      "Epoch 6/30\n",
      "1875/1875 [==============================] - 3s 2ms/step - loss: 20.2774 - accuracy: 0.0987\n",
      "Epoch 7/30\n",
      "1875/1875 [==============================] - 3s 2ms/step - loss: 20.2774 - accuracy: 0.0987\n",
      "Epoch 8/30\n",
      "1875/1875 [==============================] - 3s 2ms/step - loss: 20.2774 - accuracy: 0.0987\n",
      "Epoch 9/30\n",
      "1875/1875 [==============================] - 3s 2ms/step - loss: 20.2774 - accuracy: 0.0987\n",
      "Epoch 10/30\n",
      "1875/1875 [==============================] - 3s 2ms/step - loss: 20.2774 - accuracy: 0.0987\n",
      "Epoch 11/30\n",
      "1875/1875 [==============================] - 3s 2ms/step - loss: 20.2774 - accuracy: 0.0987\n",
      "Epoch 12/30\n",
      "1875/1875 [==============================] - 3s 2ms/step - loss: 20.2774 - accuracy: 0.0987\n",
      "Epoch 13/30\n",
      "1875/1875 [==============================] - 3s 2ms/step - loss: 20.2774 - accuracy: 0.0987\n",
      "Epoch 14/30\n",
      "1875/1875 [==============================] - 3s 2ms/step - loss: 20.2774 - accuracy: 0.0987\n",
      "Epoch 15/30\n",
      "1875/1875 [==============================] - 3s 2ms/step - loss: 20.2774 - accuracy: 0.0987\n",
      "Epoch 16/30\n",
      "1875/1875 [==============================] - 3s 2ms/step - loss: 20.2774 - accuracy: 0.0987\n",
      "Epoch 17/30\n",
      "1875/1875 [==============================] - 3s 2ms/step - loss: 20.2774 - accuracy: 0.0987\n",
      "Epoch 18/30\n",
      "1875/1875 [==============================] - 3s 2ms/step - loss: 20.2774 - accuracy: 0.0987\n",
      "Epoch 19/30\n",
      "1875/1875 [==============================] - 3s 2ms/step - loss: 20.2774 - accuracy: 0.0987\n",
      "Epoch 20/30\n",
      "1875/1875 [==============================] - 3s 2ms/step - loss: 20.2774 - accuracy: 0.0987\n",
      "Epoch 21/30\n",
      "1875/1875 [==============================] - 3s 2ms/step - loss: 20.2774 - accuracy: 0.0987\n",
      "Epoch 22/30\n",
      "1875/1875 [==============================] - 3s 2ms/step - loss: 20.2774 - accuracy: 0.0987\n",
      "Epoch 23/30\n",
      "1875/1875 [==============================] - 3s 2ms/step - loss: 20.2774 - accuracy: 0.0987\n",
      "Epoch 24/30\n",
      "1875/1875 [==============================] - 3s 2ms/step - loss: 20.2774 - accuracy: 0.0987\n",
      "Epoch 25/30\n",
      "1875/1875 [==============================] - 3s 2ms/step - loss: 20.2774 - accuracy: 0.0987\n",
      "Epoch 26/30\n",
      "1875/1875 [==============================] - 3s 2ms/step - loss: 20.2774 - accuracy: 0.0987\n",
      "Epoch 27/30\n",
      "1875/1875 [==============================] - 3s 2ms/step - loss: 20.2774 - accuracy: 0.0987\n",
      "Epoch 28/30\n",
      "1875/1875 [==============================] - 3s 2ms/step - loss: 20.2774 - accuracy: 0.0987\n",
      "Epoch 29/30\n",
      "1875/1875 [==============================] - 3s 2ms/step - loss: 20.2774 - accuracy: 0.0987\n",
      "Epoch 30/30\n",
      "1875/1875 [==============================] - 3s 2ms/step - loss: 20.2774 - accuracy: 0.0987\n",
      "313/313 [==============================] - 0s 1ms/step - loss: 20.2422 - accuracy: 0.0980\n"
     ]
    },
    {
     "data": {
      "text/plain": [
       "[20.24220085144043, 0.09799999743700027]"
      ]
     },
     "execution_count": 36,
     "metadata": {},
     "output_type": "execute_result"
    }
   ],
   "source": [
    "model11.fit(x_train,y_train, epochs=30)\n",
    "model11.evaluate(x_test,y_test)"
   ]
  },
  {
   "cell_type": "code",
   "execution_count": 37,
   "id": "7566dd57",
   "metadata": {
    "scrolled": true
   },
   "outputs": [
    {
     "name": "stdout",
     "output_type": "stream",
     "text": [
      "Epoch 1/30\n",
      "1875/1875 [==============================] - 3s 2ms/step - loss: 1.0572 - accuracy: 0.1921\n",
      "Epoch 2/30\n",
      "1875/1875 [==============================] - 3s 2ms/step - loss: 1.0109 - accuracy: 0.1778\n",
      "Epoch 3/30\n",
      "1875/1875 [==============================] - 3s 2ms/step - loss: 0.9661 - accuracy: 0.1934\n",
      "Epoch 4/30\n",
      "1875/1875 [==============================] - 3s 2ms/step - loss: 0.9336 - accuracy: 0.1924\n",
      "Epoch 5/30\n",
      "1875/1875 [==============================] - 3s 2ms/step - loss: 0.9028 - accuracy: 0.1962\n",
      "Epoch 6/30\n",
      "1875/1875 [==============================] - 3s 2ms/step - loss: 0.8767 - accuracy: 0.2063\n",
      "Epoch 7/30\n",
      "1875/1875 [==============================] - 3s 2ms/step - loss: 0.8504 - accuracy: 0.2125\n",
      "Epoch 8/30\n",
      "1875/1875 [==============================] - 4s 2ms/step - loss: 0.8221 - accuracy: 0.2032\n",
      "Epoch 9/30\n",
      "1875/1875 [==============================] - 4s 2ms/step - loss: 0.8013 - accuracy: 0.2075\n",
      "Epoch 10/30\n",
      "1875/1875 [==============================] - 4s 2ms/step - loss: 0.7770 - accuracy: 0.2093\n",
      "Epoch 11/30\n",
      "1875/1875 [==============================] - 4s 2ms/step - loss: 0.7599 - accuracy: 0.2007\n",
      "Epoch 12/30\n",
      "1875/1875 [==============================] - 4s 2ms/step - loss: 0.7379 - accuracy: 0.1999\n",
      "Epoch 13/30\n",
      "1875/1875 [==============================] - 4s 2ms/step - loss: 0.7205 - accuracy: 0.1993\n",
      "Epoch 14/30\n",
      "1875/1875 [==============================] - 3s 2ms/step - loss: 0.7036 - accuracy: 0.1967\n",
      "Epoch 15/30\n",
      "1875/1875 [==============================] - 3s 2ms/step - loss: 0.6893 - accuracy: 0.1983\n",
      "Epoch 16/30\n",
      "1875/1875 [==============================] - 3s 2ms/step - loss: 0.6772 - accuracy: 0.2012\n",
      "Epoch 17/30\n",
      "1875/1875 [==============================] - 3s 2ms/step - loss: 0.6679 - accuracy: 0.1997\n",
      "Epoch 18/30\n",
      "1875/1875 [==============================] - 3s 2ms/step - loss: 0.6526 - accuracy: 0.2026\n",
      "Epoch 19/30\n",
      "1875/1875 [==============================] - 3s 2ms/step - loss: 0.6441 - accuracy: 0.1965\n",
      "Epoch 20/30\n",
      "1875/1875 [==============================] - 3s 2ms/step - loss: 0.6337 - accuracy: 0.1972\n",
      "Epoch 21/30\n",
      "1875/1875 [==============================] - 3s 2ms/step - loss: 0.6269 - accuracy: 0.1997\n",
      "Epoch 22/30\n",
      "1875/1875 [==============================] - 3s 2ms/step - loss: 0.6167 - accuracy: 0.2063\n",
      "Epoch 23/30\n",
      "1875/1875 [==============================] - 3s 2ms/step - loss: 0.6051 - accuracy: 0.2174\n",
      "Epoch 24/30\n",
      "1875/1875 [==============================] - 3s 2ms/step - loss: 0.5969 - accuracy: 0.2125\n",
      "Epoch 25/30\n",
      "1875/1875 [==============================] - 3s 2ms/step - loss: 0.5860 - accuracy: 0.2051\n",
      "Epoch 26/30\n",
      "1875/1875 [==============================] - 3s 2ms/step - loss: 0.5780 - accuracy: 0.2034\n",
      "Epoch 27/30\n",
      "1875/1875 [==============================] - 3s 2ms/step - loss: 0.5667 - accuracy: 0.2036\n",
      "Epoch 28/30\n",
      "1875/1875 [==============================] - 3s 2ms/step - loss: 0.5587 - accuracy: 0.1943\n",
      "Epoch 29/30\n",
      "1875/1875 [==============================] - 3s 2ms/step - loss: 0.5470 - accuracy: 0.1940\n",
      "Epoch 30/30\n",
      "1875/1875 [==============================] - 3s 2ms/step - loss: 0.5408 - accuracy: 0.1960\n",
      "313/313 [==============================] - 0s 1ms/step - loss: 0.7692 - accuracy: 0.1911\n"
     ]
    },
    {
     "data": {
      "text/plain": [
       "[0.76921546459198, 0.19110000133514404]"
      ]
     },
     "execution_count": 37,
     "metadata": {},
     "output_type": "execute_result"
    }
   ],
   "source": [
    "model12.fit(x_train,y_train, epochs=30)\n",
    "model12.evaluate(x_test,y_test)"
   ]
  },
  {
   "cell_type": "markdown",
   "id": "4f98583f",
   "metadata": {},
   "source": [
    "### 4. Activation fuction combination"
   ]
  },
  {
   "cell_type": "code",
   "execution_count": 49,
   "id": "6e1f535f",
   "metadata": {
    "scrolled": true
   },
   "outputs": [
    {
     "name": "stdout",
     "output_type": "stream",
     "text": [
      "Epoch 1/10\n",
      "1875/1875 [==============================] - 9s 4ms/step - loss: 0.0000e+00 - accuracy: 0.1124\n",
      "Epoch 2/10\n",
      "1875/1875 [==============================] - 7s 4ms/step - loss: 0.0000e+00 - accuracy: 0.1124\n",
      "Epoch 3/10\n",
      "1875/1875 [==============================] - 7s 4ms/step - loss: 0.0000e+00 - accuracy: 0.1124\n",
      "Epoch 4/10\n",
      "1875/1875 [==============================] - 8s 4ms/step - loss: 0.0000e+00 - accuracy: 0.1124\n",
      "Epoch 5/10\n",
      "1875/1875 [==============================] - 7s 4ms/step - loss: 0.0000e+00 - accuracy: 0.1124\n",
      "Epoch 6/10\n",
      "1875/1875 [==============================] - 7s 4ms/step - loss: 0.0000e+00 - accuracy: 0.1124\n",
      "Epoch 7/10\n",
      "1875/1875 [==============================] - 7s 4ms/step - loss: 0.0000e+00 - accuracy: 0.1124\n",
      "Epoch 8/10\n",
      "1875/1875 [==============================] - 7s 4ms/step - loss: 0.0000e+00 - accuracy: 0.1124\n",
      "Epoch 9/10\n",
      "1875/1875 [==============================] - 7s 4ms/step - loss: 0.0000e+00 - accuracy: 0.1124\n",
      "Epoch 10/10\n",
      "1875/1875 [==============================] - 7s 4ms/step - loss: 0.0000e+00 - accuracy: 0.1124\n",
      "313/313 [==============================] - 1s 3ms/step - loss: 0.0000e+00 - accuracy: 0.1135\n"
     ]
    },
    {
     "data": {
      "text/plain": [
       "[0.0, 0.11349999904632568]"
      ]
     },
     "execution_count": 49,
     "metadata": {},
     "output_type": "execute_result"
    }
   ],
   "source": [
    "model13 = Sequential()\n",
    "model13.add(Dense(32, input_dim=28*28, activation='sigmoid'))\n",
    "model13.add(Dense(32, activation='tanh'))\n",
    "model13.add(Dense(32, activation='relu'))\n",
    "model13.add(Dense(10, activation='softmax'))\n",
    "model13.compile(loss='categorical_crossentropy', optimizer='Adam', metrics='accuracy')\n",
    "model13.fit(x_train,y_train, epochs=10)\n",
    "model13.evaluate(x_test,y_test)"
   ]
  },
  {
   "cell_type": "code",
   "execution_count": 50,
   "id": "a52590e2",
   "metadata": {
    "scrolled": true
   },
   "outputs": [
    {
     "name": "stdout",
     "output_type": "stream",
     "text": [
      "Epoch 1/10\n",
      "1875/1875 [==============================] - 9s 4ms/step - loss: 0.0000e+00 - accuracy: 0.1124\n",
      "Epoch 2/10\n",
      "1875/1875 [==============================] - 7s 4ms/step - loss: 0.0000e+00 - accuracy: 0.1124\n",
      "Epoch 3/10\n",
      "1875/1875 [==============================] - 7s 4ms/step - loss: 0.0000e+00 - accuracy: 0.1124\n",
      "Epoch 4/10\n",
      "1875/1875 [==============================] - 8s 4ms/step - loss: 0.0000e+00 - accuracy: 0.1124\n",
      "Epoch 5/10\n",
      "1875/1875 [==============================] - 11s 6ms/step - loss: 0.0000e+00 - accuracy: 0.1124\n",
      "Epoch 6/10\n",
      "1875/1875 [==============================] - 7s 4ms/step - loss: 0.0000e+00 - accuracy: 0.1124\n",
      "Epoch 7/10\n",
      "1875/1875 [==============================] - 8s 4ms/step - loss: 0.0000e+00 - accuracy: 0.1124\n",
      "Epoch 8/10\n",
      "1875/1875 [==============================] - 7s 4ms/step - loss: 0.0000e+00 - accuracy: 0.1124\n",
      "Epoch 9/10\n",
      "1875/1875 [==============================] - 8s 4ms/step - loss: 0.0000e+00 - accuracy: 0.1124\n",
      "Epoch 10/10\n",
      "1875/1875 [==============================] - 7s 4ms/step - loss: 0.0000e+00 - accuracy: 0.1124\n",
      "313/313 [==============================] - 2s 5ms/step - loss: 0.0000e+00 - accuracy: 0.1135\n"
     ]
    },
    {
     "data": {
      "text/plain": [
       "[0.0, 0.11349999904632568]"
      ]
     },
     "execution_count": 50,
     "metadata": {},
     "output_type": "execute_result"
    }
   ],
   "source": [
    "model14 = Sequential()\n",
    "model14.add(Dense(32, input_dim=28*28, activation='relu'))\n",
    "model14.add(Dense(32, activation='tanh'))\n",
    "model14.add(Dense(32, activation='sigmoid'))\n",
    "model14.add(Dense(10, activation='softmax'))\n",
    "model14.compile(loss='categorical_crossentropy', optimizer='Adam', metrics='accuracy')\n",
    "model14.fit(x_train,y_train, epochs=10)\n",
    "model14.evaluate(x_test,y_test)"
   ]
  },
  {
   "cell_type": "markdown",
   "id": "4c7f6e5f",
   "metadata": {},
   "source": [
    "### 5. Layer-node Combinations"
   ]
  },
  {
   "cell_type": "markdown",
   "id": "ae551663",
   "metadata": {},
   "source": [
    "### 6. Optimizer"
   ]
  },
  {
   "cell_type": "code",
   "execution_count": 51,
   "id": "22936109",
   "metadata": {
    "scrolled": true
   },
   "outputs": [
    {
     "name": "stdout",
     "output_type": "stream",
     "text": [
      "Epoch 1/10\n",
      "1875/1875 [==============================] - 8s 4ms/step - loss: 25.3270 - accuracy: 0.0549\n",
      "Epoch 2/10\n",
      "1875/1875 [==============================] - 7s 4ms/step - loss: 25.3270 - accuracy: 0.0601\n",
      "Epoch 3/10\n",
      "1875/1875 [==============================] - 6s 3ms/step - loss: 25.3270 - accuracy: 0.0609\n",
      "Epoch 4/10\n",
      "1875/1875 [==============================] - 7s 4ms/step - loss: 25.3270 - accuracy: 0.0612\n",
      "Epoch 5/10\n",
      "1875/1875 [==============================] - 7s 4ms/step - loss: 25.3270 - accuracy: 0.0615\n",
      "Epoch 6/10\n",
      "1875/1875 [==============================] - 7s 4ms/step - loss: 25.3270 - accuracy: 0.0616\n",
      "Epoch 7/10\n",
      "1875/1875 [==============================] - 8s 4ms/step - loss: 25.3270 - accuracy: 0.0617\n",
      "Epoch 8/10\n",
      "1875/1875 [==============================] - 7s 4ms/step - loss: 25.3270 - accuracy: 0.0619\n",
      "Epoch 9/10\n",
      "1875/1875 [==============================] - 6s 3ms/step - loss: 25.3270 - accuracy: 0.0624\n",
      "Epoch 10/10\n",
      "1875/1875 [==============================] - 6s 3ms/step - loss: 25.3270 - accuracy: 0.0623\n",
      "313/313 [==============================] - 1s 3ms/step - loss: 25.2779 - accuracy: 0.0610\n"
     ]
    },
    {
     "data": {
      "text/plain": [
       "[25.27786636352539, 0.061000000685453415]"
      ]
     },
     "execution_count": 51,
     "metadata": {},
     "output_type": "execute_result"
    }
   ],
   "source": [
    "model15 = layerandnodes(32,3,'relu','softmax','mse','SGD','accuracy')\n",
    "model15.fit(x_train,y_train, epochs=10)\n",
    "model15.evaluate(x_test,y_test)"
   ]
  },
  {
   "cell_type": "code",
   "execution_count": 53,
   "id": "d69dd1e9",
   "metadata": {},
   "outputs": [
    {
     "name": "stdout",
     "output_type": "stream",
     "text": [
      "Epoch 1/10\n",
      "1875/1875 [==============================] - 12s 4ms/step - loss: 25.3270 - accuracy: 0.1062\n",
      "Epoch 2/10\n",
      "1875/1875 [==============================] - 8s 4ms/step - loss: 25.3270 - accuracy: 0.1063\n",
      "Epoch 3/10\n",
      "1875/1875 [==============================] - 8s 4ms/step - loss: 25.3270 - accuracy: 0.1048\n",
      "Epoch 4/10\n",
      "1875/1875 [==============================] - 8s 4ms/step - loss: 25.3270 - accuracy: 0.1068\n",
      "Epoch 5/10\n",
      "1875/1875 [==============================] - 8s 4ms/step - loss: 25.3270 - accuracy: 0.1051\n",
      "Epoch 6/10\n",
      "1875/1875 [==============================] - 8s 4ms/step - loss: 25.3270 - accuracy: 0.1101\n",
      "Epoch 7/10\n",
      "1875/1875 [==============================] - 8s 4ms/step - loss: 25.3270 - accuracy: 0.1054\n",
      "Epoch 8/10\n",
      "1875/1875 [==============================] - 8s 4ms/step - loss: 25.3270 - accuracy: 0.1034\n",
      "Epoch 9/10\n",
      "1875/1875 [==============================] - 8s 4ms/step - loss: 25.3270 - accuracy: 0.1045\n",
      "Epoch 10/10\n",
      "1875/1875 [==============================] - 8s 4ms/step - loss: 25.3270 - accuracy: 0.1059\n",
      "313/313 [==============================] - 1s 3ms/step - loss: 25.2779 - accuracy: 0.1135\n"
     ]
    },
    {
     "data": {
      "text/plain": [
       "[25.27786636352539, 0.11349999904632568]"
      ]
     },
     "execution_count": 53,
     "metadata": {},
     "output_type": "execute_result"
    }
   ],
   "source": [
    "model16 = layerandnodes(32,3,'relu','softmax','mse','Nadam','accuracy')\n",
    "model16.fit(x_train,y_train, epochs=10)\n",
    "model16.evaluate(x_test,y_test)"
   ]
  },
  {
   "cell_type": "code",
   "execution_count": 54,
   "id": "f6f9c37c",
   "metadata": {
    "scrolled": false
   },
   "outputs": [
    {
     "name": "stdout",
     "output_type": "stream",
     "text": [
      "Epoch 1/10\n",
      "1875/1875 [==============================] - 9s 4ms/step - loss: 25.3270 - accuracy: 0.1155\n",
      "Epoch 2/10\n",
      "1875/1875 [==============================] - 7s 4ms/step - loss: 25.3270 - accuracy: 0.1031\n",
      "Epoch 3/10\n",
      "1875/1875 [==============================] - 7s 4ms/step - loss: 25.3270 - accuracy: 0.1088\n",
      "Epoch 4/10\n",
      "1875/1875 [==============================] - 7s 4ms/step - loss: 25.3270 - accuracy: 0.1046\n",
      "Epoch 5/10\n",
      "1875/1875 [==============================] - 8s 4ms/step - loss: 25.3270 - accuracy: 0.1069\n",
      "Epoch 6/10\n",
      "1875/1875 [==============================] - 7s 4ms/step - loss: 25.3270 - accuracy: 0.1085\n",
      "Epoch 7/10\n",
      "1875/1875 [==============================] - 7s 4ms/step - loss: 25.3270 - accuracy: 0.1054\n",
      "Epoch 8/10\n",
      "1875/1875 [==============================] - 7s 4ms/step - loss: 25.3270 - accuracy: 0.1063\n",
      "Epoch 9/10\n",
      "1875/1875 [==============================] - 7s 4ms/step - loss: 25.3270 - accuracy: 0.1071\n",
      "Epoch 10/10\n",
      "1875/1875 [==============================] - 8s 4ms/step - loss: 25.3270 - accuracy: 0.0960\n",
      "313/313 [==============================] - 1s 3ms/step - loss: 25.2779 - accuracy: 0.0886\n"
     ]
    },
    {
     "data": {
      "text/plain": [
       "[25.27786636352539, 0.08860000222921371]"
      ]
     },
     "execution_count": 54,
     "metadata": {},
     "output_type": "execute_result"
    }
   ],
   "source": [
    "model17 = layerandnodes(32,3,'relu','softmax','mse','Adam','accuracy')\n",
    "model17.fit(x_train,y_train, epochs=10)\n",
    "model17.evaluate(x_test,y_test)"
   ]
  },
  {
   "cell_type": "markdown",
   "id": "b4ffefb0",
   "metadata": {},
   "source": [
    "### 7. L1,L2 Regularization"
   ]
  },
  {
   "cell_type": "code",
   "execution_count": 65,
   "id": "2cb89912",
   "metadata": {},
   "outputs": [],
   "source": [
    "model18 = Sequential()\n",
    "model18.add(Dense(128, input_dim=28*28, activation='relu', kernel_regularizer=regularizers.l1(0.01)))\n",
    "model18.add(Dense(128, activation='relu', kernel_regularizer=regularizers.l1(0.01)))\n",
    "model18.add(Dense(128, activation='relu', kernel_regularizer=regularizers.l1(0.01)))\n",
    "model18.add(Dense(10, activation='softmax'))\n",
    "model18.compile(loss='categorical_crossentropy', optimizer='Adam', metrics='accuracy')\n",
    "model18.fit(x_train,y_train, epochs=10)\n",
    "model18.evaluate(x_test,y_test)"
   ]
  },
  {
   "cell_type": "code",
   "execution_count": 66,
   "id": "394b5894",
   "metadata": {},
   "outputs": [],
   "source": [
    "model19 = Sequential()\n",
    "model19.add(Dense(128, input_dim=28*28, activation='relu', kernel_regularizer=regularizers.l2(0.01)))\n",
    "model19.add(Dense(128, activation='relu', kernel_regularizer=regularizers.l2(0.01)))\n",
    "model19.add(Dense(128, activation='relu', kernel_regularizer=regularizers.l2(0.01)))\n",
    "model19.add(Dense(10, activation='softmax'))\n",
    "model19.compile(loss='categorical_crossentropy', optimizer='Adam', metrics='accuracy')\n",
    "model19.fit(x_train,y_train, epochs=10)\n",
    "model19.evaluate(x_test,y_test)"
   ]
  },
  {
   "cell_type": "markdown",
   "id": "a4f70b6a",
   "metadata": {},
   "source": [
    "### 8. Dropout Regularization"
   ]
  },
  {
   "cell_type": "code",
   "execution_count": 67,
   "id": "d622cf9a",
   "metadata": {},
   "outputs": [],
   "source": [
    "model20 = Sequential()\n",
    "model20.add(Dense(128, input_dim=28*28, activation='relu'))\n",
    "model20.add(Dropout(0.1))\n",
    "model20.add(Dense(128, activation='relu'))\n",
    "model20.add(Dropout(0.1))\n",
    "model20.add(Dense(128, activation='relu'))\n",
    "model20.add(Dropout(0.1))\n",
    "model20.add(Dense(10, activation='softmax'))\n",
    "model20.compile(loss='categorical_crossentropy', optimizer='Adam', metrics='accuracy')\n",
    "model20.fit(x_train,y_train, epochs=10)\n",
    "model20.evaluate(x_test,y_test)"
   ]
  },
  {
   "cell_type": "markdown",
   "id": "693acadf",
   "metadata": {},
   "source": [
    "### 9. Input size"
   ]
  },
  {
   "cell_type": "code",
   "execution_count": 68,
   "id": "8cf4a55d",
   "metadata": {},
   "outputs": [],
   "source": [
    "model21 = Sequential()\n",
    "model21.add(Dense(128, input_dim=28*28, activation='relu'))\n",
    "model21.add(Dense(128, activation='relu'))\n",
    "model21.add(Dense(128, activation='relu'))\n",
    "model21.add(Dense(10, activation='softmax'))\n",
    "model21.compile(loss='categorical_crossentropy', optimizer='Adam', metrics='accuracy')\n",
    "model21.fit(x_train,y_train, epochs=10)\n",
    "model21.evaluate(x_test,y_test)"
   ]
  },
  {
   "cell_type": "code",
   "execution_count": 69,
   "id": "c169934d",
   "metadata": {},
   "outputs": [],
   "source": [
    "model22 = Sequential()\n",
    "model22.add(Dense(128, input_dim=56*56, activation='relu'))\n",
    "model22.add(Dense(128, activation='relu'))\n",
    "model22.add(Dense(128, activation='relu'))\n",
    "model22.add(Dense(10, activation='softmax'))\n",
    "model22.compile(loss='categorical_crossentropy', optimizer='Adam', metrics='accuracy')\n",
    "model22.fit(x_train,y_train, epochs=10)\n",
    "model22.evaluate(x_test,y_test)"
   ]
  },
  {
   "cell_type": "code",
   "execution_count": 74,
   "id": "3add1496",
   "metadata": {},
   "outputs": [],
   "source": [
    "model23 = Sequential()\n",
    "model23.add(Dense(128, input_dim=112*112, activation='relu'))\n",
    "model23.add(Dense(128, activation='relu'))\n",
    "model23.add(Dense(128, activation='relu'))\n",
    "model23.add(Dense(10, activation='softmax'))\n",
    "model23.compile(loss='categorical_crossentropy', optimizer='Adam', metrics='accuracy')\n",
    "model23.fit(x_train,y_train, epochs=10)\n",
    "model23.evaluate(x_test,y_test)"
   ]
  },
  {
   "cell_type": "code",
   "execution_count": 70,
   "id": "9b337918",
   "metadata": {},
   "outputs": [],
   "source": [
    "model24 = Sequential()\n",
    "model24.add(Dense(128, input_dim=224*224, activation='relu'))\n",
    "model24.add(Dense(128, activation='relu'))\n",
    "model24.add(Dense(128, activation='relu'))\n",
    "model24.add(Dense(10, activation='softmax'))\n",
    "model24.compile(loss='categorical_crossentropy', optimizer='Adam', metrics='accuracy')\n",
    "model24.fit(x_train,y_train, epochs=10)\n",
    "model24.evaluate(x_test,y_test)"
   ]
  },
  {
   "cell_type": "markdown",
   "id": "a099178e",
   "metadata": {},
   "source": [
    "### 10. Dataset Split"
   ]
  },
  {
   "cell_type": "code",
   "execution_count": 71,
   "id": "c82cdc9d",
   "metadata": {},
   "outputs": [],
   "source": [
    "x,y = (X_train, y_train), (X_test, y_test)"
   ]
  },
  {
   "cell_type": "code",
   "execution_count": 72,
   "id": "7034b656",
   "metadata": {},
   "outputs": [],
   "source": [
    "from sklearn.model_selection import train_test_split\n",
    "\n",
    "X_train1, X_test1, y_train1, y_test1 = train_test_split(x, y, test_size=0.3, random_state=42)"
   ]
  },
  {
   "cell_type": "code",
   "execution_count": 73,
   "id": "9b3bf055",
   "metadata": {},
   "outputs": [],
   "source": [
    "model25 = layerandnodes(32,3,'relu','softmax','mse','SGD','accuracy')\n",
    "model25.fit(x_train,y_train, epochs=10)\n",
    "model25.evaluate(x_test,y_test)"
   ]
  },
  {
   "cell_type": "code",
   "execution_count": null,
   "id": "b18993c5",
   "metadata": {},
   "outputs": [],
   "source": []
  }
 ],
 "metadata": {
  "kernelspec": {
   "display_name": "Python 3 (ipykernel)",
   "language": "python",
   "name": "python3"
  },
  "language_info": {
   "codemirror_mode": {
    "name": "ipython",
    "version": 3
   },
   "file_extension": ".py",
   "mimetype": "text/x-python",
   "name": "python",
   "nbconvert_exporter": "python",
   "pygments_lexer": "ipython3",
   "version": "3.11.3"
  }
 },
 "nbformat": 4,
 "nbformat_minor": 5
}
