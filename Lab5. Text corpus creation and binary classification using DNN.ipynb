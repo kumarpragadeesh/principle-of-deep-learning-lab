{
 "cells": [
  {
   "cell_type": "markdown",
   "id": "67564f8e",
   "metadata": {},
   "source": [
    "### PRAGADEESH M\n",
    "## 225229126"
   ]
  },
  {
   "cell_type": "markdown",
   "id": "34772744",
   "metadata": {},
   "source": [
    "### Step-1:Dataset creation"
   ]
  },
  {
   "cell_type": "code",
   "execution_count": 1,
   "id": "129b4e87",
   "metadata": {},
   "outputs": [],
   "source": [
    "import numpy as np\n",
    "import pandas as pd"
   ]
  },
  {
   "cell_type": "code",
   "execution_count": 2,
   "id": "9db21cda",
   "metadata": {},
   "outputs": [
    {
     "data": {
      "text/html": [
       "<div>\n",
       "<style scoped>\n",
       "    .dataframe tbody tr th:only-of-type {\n",
       "        vertical-align: middle;\n",
       "    }\n",
       "\n",
       "    .dataframe tbody tr th {\n",
       "        vertical-align: top;\n",
       "    }\n",
       "\n",
       "    .dataframe thead th {\n",
       "        text-align: right;\n",
       "    }\n",
       "</style>\n",
       "<table border=\"1\" class=\"dataframe\">\n",
       "  <thead>\n",
       "    <tr style=\"text-align: right;\">\n",
       "      <th></th>\n",
       "      <th>text</th>\n",
       "      <th>target</th>\n",
       "    </tr>\n",
       "  </thead>\n",
       "  <tbody>\n",
       "    <tr>\n",
       "      <th>24</th>\n",
       "      <td>விட்டுவிட்டு வேறு ஏதாவது முயற்சி செய்து பாருங்கள்</td>\n",
       "      <td>1</td>\n",
       "    </tr>\n",
       "    <tr>\n",
       "      <th>6</th>\n",
       "      <td>நீங்கள் நரகத்தை அனுபவிக்கிறீர்கள் என்றால் தொடர...</td>\n",
       "      <td>0</td>\n",
       "    </tr>\n",
       "    <tr>\n",
       "      <th>4</th>\n",
       "      <td>நீங்கள் இருக்கும் இடத்திலேயே தொடங்குங்கள் உங்க...</td>\n",
       "      <td>0</td>\n",
       "    </tr>\n",
       "    <tr>\n",
       "      <th>3</th>\n",
       "      <td>நல்லது சிறந்தது சிறந்தது அதை ஒருபோதும் ஓய்வெடு...</td>\n",
       "      <td>0</td>\n",
       "    </tr>\n",
       "    <tr>\n",
       "      <th>37</th>\n",
       "      <td>உங்களை ஒரு அசிங்கமான நபராக நினைக்காதீர்கள்</td>\n",
       "      <td>1</td>\n",
       "    </tr>\n",
       "  </tbody>\n",
       "</table>\n",
       "</div>"
      ],
      "text/plain": [
       "                                                 text  target\n",
       "24  விட்டுவிட்டு வேறு ஏதாவது முயற்சி செய்து பாருங்கள்       1\n",
       "6   நீங்கள் நரகத்தை அனுபவிக்கிறீர்கள் என்றால் தொடர...       0\n",
       "4   நீங்கள் இருக்கும் இடத்திலேயே தொடங்குங்கள் உங்க...       0\n",
       "3   நல்லது சிறந்தது சிறந்தது அதை ஒருபோதும் ஓய்வெடு...       0\n",
       "37         உங்களை ஒரு அசிங்கமான நபராக நினைக்காதீர்கள்       1"
      ]
     },
     "execution_count": 2,
     "metadata": {},
     "output_type": "execute_result"
    }
   ],
   "source": [
    "df = pd.read_csv(\"dataset.csv\")\n",
    "df.sample(5)"
   ]
  },
  {
   "cell_type": "code",
   "execution_count": 3,
   "id": "5d566885",
   "metadata": {},
   "outputs": [
    {
     "data": {
      "text/plain": [
       "(40, 2)"
      ]
     },
     "execution_count": 3,
     "metadata": {},
     "output_type": "execute_result"
    }
   ],
   "source": [
    "df.shape"
   ]
  },
  {
   "cell_type": "markdown",
   "id": "635caa9c",
   "metadata": {},
   "source": [
    "### Step2: Pre-processing"
   ]
  },
  {
   "cell_type": "code",
   "execution_count": 9,
   "id": "aaa41ccf",
   "metadata": {},
   "outputs": [
    {
     "name": "stdout",
     "output_type": "stream",
     "text": [
      "Found 209 unique tokens.\n"
     ]
    }
   ],
   "source": [
    "from keras.preprocessing.text import Tokenizer\n",
    "# The maximum number of words to be used. (most frequent)\n",
    "MAX_NB_WORDS = 3000\n",
    "# Max number of words in each complaint.\n",
    "MAX_SEQUENCE_LENGTH = 20\n",
    "# This is fixed.\n",
    "EMBEDDING_DIM = 100\n",
    "\n",
    "tokenizer = Tokenizer(num_words=MAX_NB_WORDS, filters='!\"#$%&()*+,-./:;<=>?@[\\]^_`{|}~', lower=True)\n",
    "tokenizer.fit_on_texts(df['text'].values)\n",
    "word_index = tokenizer.word_index\n",
    "print('Found %s unique tokens.' % len(word_index))"
   ]
  },
  {
   "cell_type": "code",
   "execution_count": 10,
   "id": "01208483",
   "metadata": {},
   "outputs": [
    {
     "data": {
      "text/plain": [
       "{'நீங்கள்': 1,\n",
       " 'ஒரு': 2,\n",
       " 'அது': 3,\n",
       " 'உங்கள்': 4,\n",
       " 'எப்போதும்': 5,\n",
       " 'சிறந்தது': 6,\n",
       " 'செய்யுங்கள்': 7,\n",
       " 'வரை': 8,\n",
       " 'முயற்சி': 9,\n",
       " 'முடியாதது': 10,\n",
       " 'எதுவுமில்லை': 11,\n",
       " 'என்பது': 12,\n",
       " 'அல்ல': 13,\n",
       " 'ஒருபோதும்': 14,\n",
       " 'புதிய': 15,\n",
       " 'வெற்றி': 16,\n",
       " 'எனக்கு': 17,\n",
       " 'காரணம்': 18,\n",
       " 'என்று': 19,\n",
       " 'முடியும்': 20,\n",
       " 'செய்பவர்களால்': 21,\n",
       " 'நல்லது': 22,\n",
       " 'உங்களிடம்': 23,\n",
       " 'உங்களால்': 24,\n",
       " 'முடிந்ததைச்': 25,\n",
       " 'என்றால்': 26,\n",
       " 'நடக்காது': 27,\n",
       " 'தோல்வி': 28,\n",
       " 'எல்லா': 29,\n",
       " 'ஆனால்': 30,\n",
       " 'நம்பிக்கை': 31,\n",
       " 'இல்லை': 32,\n",
       " 'ஏனென்றால்': 33,\n",
       " 'கொண்ட': 34,\n",
       " 'உண்மையில்': 35,\n",
       " 'பாருங்கள்': 36,\n",
       " 'வேண்டாம்': 37,\n",
       " 'மற்றும்': 38,\n",
       " 'கொள்ளுங்கள்': 39,\n",
       " 'நபராக': 40,\n",
       " 'உங்களை': 41,\n",
       " 'சாத்தியமற்றதாகத்': 42,\n",
       " 'தெரிகிறது': 43,\n",
       " 'தரம்': 44,\n",
       " 'செயல்': 45,\n",
       " 'பழக்கம்': 46,\n",
       " 'அதை': 47,\n",
       " 'ஓய்வெடுக்க': 48,\n",
       " 'விடாதீர்கள்': 49,\n",
       " 'நன்மை': 50,\n",
       " 'இருக்கும்': 51,\n",
       " 'இடத்திலேயே': 52,\n",
       " 'தொடங்குங்கள்': 53,\n",
       " 'உள்ளதை': 54,\n",
       " 'பயன்படுத்துங்கள்': 55,\n",
       " 'நாளோடு': 56,\n",
       " 'பலமும்': 57,\n",
       " 'எண்ணங்களும்': 58,\n",
       " 'வருகின்றன': 59,\n",
       " 'நரகத்தை': 60,\n",
       " 'அனுபவிக்கிறீர்கள்': 61,\n",
       " 'தொடருங்கள்': 62,\n",
       " 'நிறுத்தாத': 63,\n",
       " 'எவ்வளவு': 64,\n",
       " 'மெதுவாகச்': 65,\n",
       " 'செல்கிறீர்கள்': 66,\n",
       " 'முக்கியமல்ல': 67,\n",
       " 'வாய்ப்புகள்': 68,\n",
       " 'அவற்றை': 69,\n",
       " 'உருவாக்குகிறீர்கள்': 70,\n",
       " 'சந்தர்ப்பம்': 71,\n",
       " 'தட்டவில்லை': 72,\n",
       " 'கதவைக்': 73,\n",
       " 'கட்டுங்கள்': 74,\n",
       " 'வலி': 75,\n",
       " 'தற்காலிகமானது': 76,\n",
       " 'விலகுதல்': 77,\n",
       " 'என்றென்றும்': 78,\n",
       " 'நீடிக்கும்': 79,\n",
       " 'வெற்றிக்கு': 80,\n",
       " 'எதிரானது': 81,\n",
       " 'வெற்றியின்': 82,\n",
       " 'பகுதி': 83,\n",
       " 'விதிகளுக்கும்': 84,\n",
       " 'கீழ்ப்படிந்தால்': 85,\n",
       " 'வேடிக்கைகளையும்': 86,\n",
       " 'இழக்கிறீர்கள்': 87,\n",
       " 'முகத்தை': 88,\n",
       " 'சூரிய': 89,\n",
       " 'ஒளியை': 90,\n",
       " 'நோக்கி': 91,\n",
       " 'வைத்திருங்கள்': 92,\n",
       " 'நிழல்கள்': 93,\n",
       " 'பின்னால்': 94,\n",
       " 'விழும்': 95,\n",
       " 'நன்கு': 96,\n",
       " 'அறியும்': 97,\n",
       " 'பின்னர்': 98,\n",
       " 'உங்களுக்கு': 99,\n",
       " 'நன்றாகத்': 100,\n",
       " 'தெரிந்தால்': 101,\n",
       " 'சிறப்பாகச்': 102,\n",
       " 'தோல்வியடைவது': 103,\n",
       " 'கடினம்': 104,\n",
       " 'பெற': 105,\n",
       " 'முயற்சிக்காதது': 106,\n",
       " 'மோசமானது': 107,\n",
       " 'தோல்வியில்': 108,\n",
       " 'செயல்முறையை': 109,\n",
       " 'அனுபவித்தால்': 110,\n",
       " 'இன்று': 111,\n",
       " 'நான்': 112,\n",
       " 'பெற்றுள்ளேன்': 113,\n",
       " 'என்': 114,\n",
       " 'மீது': 115,\n",
       " 'நண்பர்': 116,\n",
       " 'இருந்தார்': 117,\n",
       " 'அவரை': 118,\n",
       " 'கைவிட': 119,\n",
       " 'மனம்': 120,\n",
       " 'திறமையை': 121,\n",
       " 'சந்தேகிப்பவர்களுக்கு': 122,\n",
       " 'சரியான': 123,\n",
       " 'இருக்கலாம்': 124,\n",
       " 'வாழ்க்கையில்': 125,\n",
       " 'சிறந்த': 126,\n",
       " 'விஷயங்கள்': 127,\n",
       " 'விலை': 128,\n",
       " 'உயர்ந்தவை': 129,\n",
       " 'வாழ்க்கையின்': 130,\n",
       " 'பரிதாபகரமான': 131,\n",
       " 'யதார்த்தத்திலிருந்து': 132,\n",
       " 'தப்பிக்க': 133,\n",
       " 'கனவு': 134,\n",
       " 'மட்டுமே': 135,\n",
       " 'ஒரே': 136,\n",
       " 'வழி': 137,\n",
       " 'முதலில்': 138,\n",
       " 'பெறவில்லை': 139,\n",
       " 'விட்டுவிட்டு': 140,\n",
       " 'வேறு': 141,\n",
       " 'ஏதாவது': 142,\n",
       " 'செய்து': 143,\n",
       " 'அற்புதமான': 144,\n",
       " 'ஒன்று': 145,\n",
       " 'நம்புங்கள்': 146,\n",
       " 'முடிந்துவிட்டது': 147,\n",
       " 'அழ': 148,\n",
       " 'புன்னகை': 149,\n",
       " 'இல்லையென்றால்': 150,\n",
       " 'என்ன': 151,\n",
       " 'தவறு': 152,\n",
       " 'எல்லோரும்': 153,\n",
       " 'கேட்பார்கள்': 154,\n",
       " 'மாற்றப்படலாம்': 155,\n",
       " 'சில': 156,\n",
       " 'நேரங்களில்': 157,\n",
       " 'முட்டாள்': 158,\n",
       " 'தவறான': 159,\n",
       " 'முடிவுகளை': 160,\n",
       " 'எடுக்கிறீர்கள்': 161,\n",
       " 'நகைச்சுவையாக': 162,\n",
       " 'இருப்பதால்': 163,\n",
       " 'புன்னகைக்க': 164,\n",
       " 'யாரோ': 165,\n",
       " 'ஒருவர்': 166,\n",
       " 'என்பதை': 167,\n",
       " 'நினைவில்': 168,\n",
       " 'என்னால்': 169,\n",
       " 'முடியாது': 170,\n",
       " 'கனவுகளுக்கும்': 171,\n",
       " 'யதார்த்தத்திற்கும்': 172,\n",
       " 'இடையிலான': 173,\n",
       " 'தூரம்': 174,\n",
       " 'வெகு': 175,\n",
       " 'தொலைவில்': 176,\n",
       " 'உள்ளது': 177,\n",
       " 'சாத்தியமற்றது': 178,\n",
       " 'அதைப்': 179,\n",
       " 'பற்றி': 180,\n",
       " 'மட்டும்': 181,\n",
       " 'பேச': 182,\n",
       " 'காலங்காலமாக': 183,\n",
       " 'யோசித்துப்': 184,\n",
       " 'அநேகமாக': 185,\n",
       " 'இன்னும்': 186,\n",
       " 'மோசமடையும்': 187,\n",
       " 'நீ': 188,\n",
       " 'பிறக்கிறாய்': 189,\n",
       " 'வேலை': 190,\n",
       " 'செய்கிறாய்': 191,\n",
       " 'இறக்கிறாய்': 192,\n",
       " 'எவரெஸ்ட்': 193,\n",
       " 'சிகரத்தில்': 194,\n",
       " 'உள்ள': 195,\n",
       " 'ஒவ்வொரு': 196,\n",
       " 'சடலமும்': 197,\n",
       " 'காலத்தில்': 198,\n",
       " 'மிகவும்': 199,\n",
       " 'உந்துதல்': 200,\n",
       " 'இருந்தது': 201,\n",
       " 'அசிங்கமான': 202,\n",
       " 'நினைக்காதீர்கள்': 203,\n",
       " 'அழகான': 204,\n",
       " 'குரங்காக': 205,\n",
       " 'நினைத்துக்': 206,\n",
       " 'ஒவ்வொன்றும்': 207,\n",
       " 'காரணத்திற்காக': 208,\n",
       " 'நடக்கிறது': 209}"
      ]
     },
     "execution_count": 10,
     "metadata": {},
     "output_type": "execute_result"
    }
   ],
   "source": [
    "word_index"
   ]
  },
  {
   "cell_type": "markdown",
   "id": "278ca251",
   "metadata": {},
   "source": [
    "### Step3: Dataset Preparation"
   ]
  },
  {
   "cell_type": "code",
   "execution_count": 15,
   "id": "fec645f9",
   "metadata": {},
   "outputs": [
    {
     "name": "stdout",
     "output_type": "stream",
     "text": [
      "Shape of data tensor: (40, 20)\n"
     ]
    }
   ],
   "source": [
    "from keras.preprocessing.sequence import pad_sequences\n",
    "\n",
    "X = tokenizer.texts_to_sequences(df['text'].values)\n",
    "X = pad_sequences(X, maxlen=MAX_SEQUENCE_LENGTH)\n",
    "print('Shape of data tensor:', X.shape)"
   ]
  },
  {
   "cell_type": "code",
   "execution_count": 16,
   "id": "d5d5cf63",
   "metadata": {},
   "outputs": [
    {
     "data": {
      "text/plain": [
       "array([[  0,   0,   0,   0,   0,   0,   0,   0,   0,   0,   0,   0,   0,\n",
       "          3,  20,   8,   3,   5,  42,  43],\n",
       "       [  0,   0,   0,   0,   0,   0,   0,   0,   0,   0,   0,   0,   0,\n",
       "          0,   0,   0,   9,  21,  10,  11],\n",
       "       [  0,   0,   0,   0,   0,   0,   0,   0,   0,   0,   0,   0,  44,\n",
       "         12,   2,  45,  13,   3,   2,  46],\n",
       "       [  0,   0,   0,   0,   0,   0,   0,  22,   6,   6,  47,  14,  48,\n",
       "         49,   4,  50,   6,   4,  22,   6],\n",
       "       [  0,   0,   0,   0,   0,   0,   0,   0,   0,   0,   1,  51,  52,\n",
       "         53,  23,  54,  55,  24,  25,   7],\n",
       "       [  0,   0,   0,   0,   0,   0,   0,   0,   0,   0,   0,   0,   0,\n",
       "         15,  56,  15,  57,  15,  58,  59],\n",
       "       [  0,   0,   0,   0,   0,   0,   0,   0,   0,   0,   0,   0,   0,\n",
       "          0,   0,   1,  60,  61,  26,  62],\n",
       "       [  0,   0,   0,   0,   0,   0,   0,   0,   0,   0,   0,   1,  63,\n",
       "          8,   1,  64,  65,  66,  12,  67],\n",
       "       [  0,   0,   0,   0,   0,   0,   0,   0,   0,   0,   0,   0,   0,\n",
       "          0,   0,   0,   0,   0,  10,  11],\n",
       "       [  0,   0,   0,   0,   0,   0,   0,   0,   0,   0,   0,   0,   0,\n",
       "          0,   0,  68,  27,   1,  69,  70],\n",
       "       [  0,   0,   0,   0,   0,   0,   0,   0,   0,   0,   0,   0,   0,\n",
       "          0,  71,  72,  26,   2,  73,  74],\n",
       "       [  0,   0,   0,   0,   0,   0,   0,   0,   0,   0,   0,   0,   0,\n",
       "          0,   0,  75,  76,  77,  78,  79],\n",
       "       [  0,   0,   0,   0,   0,   0,   0,   0,   0,   0,   0,  28,  12,\n",
       "         80,  81,  13,   3,  82,   2,  83],\n",
       "       [  0,   0,   0,   0,   0,   0,   0,   0,   0,   0,   0,   0,   1,\n",
       "         29,  84,  85,   1,  29,  86,  87],\n",
       "       [  0,   0,   0,   0,   0,   0,   0,   0,   0,   0,   0,   0,   0,\n",
       "          0,   0,   0,   9,  21,  10,  11],\n",
       "       [  0,   0,   0,   0,   0,   0,   0,   0,   0,   4,  88,   5,  89,\n",
       "         90,  91,  92,  93,   4,  94,  95],\n",
       "       [  0,   0,   0,   0,   0,   0,   0,   1,  96,  97,   8,  24,  25,\n",
       "          7,  98,  99, 100, 101, 102,   7],\n",
       "       [  0,   0,   0,   0,   0,   0,   0,   0,   0,   0,   0,   0, 103,\n",
       "        104,  30,  14,  16, 105, 106, 107],\n",
       "       [  0,   0,   0,   0,   0,   0,   0,   0,   0,   0,  17, 108,  31,\n",
       "         32,   1, 109, 110,   3,  28,  13],\n",
       "       [  0,   0, 111, 112,  16, 113,  33, 114, 115,  31,  34,   2, 116,\n",
       "         17, 117, 118, 119,  17, 120,  32],\n",
       "       [  0,   0,   0,   0,   0,   0,   0,   0,   0,   0,   0,   0,   0,\n",
       "          0,   4, 121, 122, 123,  18, 124],\n",
       "       [  0,   0,   0,   0,   0,   0,   0,   0,   0,   0,   0,   0,   0,\n",
       "          0, 125, 126, 127,  35, 128, 129],\n",
       "       [  0,   0,   0,   0,   0,   0,   0,   0,   0,   0,   0,   4, 130,\n",
       "        131, 132, 133, 134, 135, 136, 137],\n",
       "       [  0,   0,   0,   0,   0,   0,   0,   0,   0,   0,   0,   0,   0,\n",
       "          0,   0,   0, 138,   1,  16, 139],\n",
       "       [  0,   0,   0,   0,   0,   0,   0,   0,   0,   0,   0,   0,   0,\n",
       "          0, 140, 141, 142,   9, 143,  36],\n",
       "       [  0,   0,   0,   0,   0,   0,   0,   0,   0,   0,   0,   0,   0,\n",
       "        144, 145,  14,  27,  19,   5, 146],\n",
       "       [  0,   0,   0,   0,   0,   0,   0,   0,   0,   0,   0,   0,   0,\n",
       "          0,   0,   3, 147,  19, 148,  37],\n",
       "       [  0,   0,   0,   0,   0,   0,   0,   0,   0, 149,   7,  33,   1,\n",
       "        150, 151, 152,  19, 153,  23, 154],\n",
       "       [  0,   0,   0,   0,   0,   0,   0,   0,   0,   0,   0,   0,   0,\n",
       "          0,   0,   0,   0,   0,   1, 155],\n",
       "       [  0,   0,   0,   0,   0,   0,   0,   0,   0,   0,   0, 156, 157,\n",
       "         18,   1, 158,  38, 159, 160, 161],\n",
       "       [  0,   0,   0,   0,   0,   0,   0,   0,   1,   2, 162, 163, 164,\n",
       "        165, 166,  18, 167,   5, 168,  39],\n",
       "       [  0,   0,   0,   0,   0,   0,   0,   0,   0,   0,   0,   0,   0,\n",
       "          0,   0,   0, 169,  20,  30, 170],\n",
       "       [  0,   0,   0,   0,   0,   0,   0,   0,   0,   0, 171, 172, 173,\n",
       "        174,  35, 175, 176, 177,  38, 178],\n",
       "       [  0,   0,   0,   0,   0,   0,   0,   0,   0,   0,   0,   0, 179,\n",
       "        180, 181, 182,  37, 183, 184,  36],\n",
       "       [  0,   0,   0,   0,   0,   0,   0,   0,   0,   0,   0,   0,   0,\n",
       "          0,   0,   0, 185,   3, 186, 187],\n",
       "       [  0,   0,   0,   0,   0,   0,   0,   0,   0,   0,   0,   0,   0,\n",
       "          0,   0, 188, 189, 190, 191, 192],\n",
       "       [  0,   0,   0,   0,   0,   0,   0,   0, 193, 194, 195, 196, 197,\n",
       "          2, 198, 199, 200,  34,  40, 201],\n",
       "       [  0,   0,   0,   0,   0,   0,   0,   0,   0,   0,   0,   0,   0,\n",
       "          0,   0,  41,   2, 202,  40, 203],\n",
       "       [  0,   0,   0,   0,   0,   0,   0,   0,   0,   0,   0,   0,   0,\n",
       "          0,  41,   2, 204, 205, 206,  39],\n",
       "       [  0,   0,   0,   0,   0,   0,   0,   0,   0,   0,   0,   0,   0,\n",
       "          0,   0,   0, 207,   2, 208, 209]])"
      ]
     },
     "execution_count": 16,
     "metadata": {},
     "output_type": "execute_result"
    }
   ],
   "source": [
    "X"
   ]
  },
  {
   "cell_type": "code",
   "execution_count": 8,
   "id": "76d01cd2",
   "metadata": {},
   "outputs": [
    {
     "name": "stdout",
     "output_type": "stream",
     "text": [
      "Shape of label tensor: (40,)\n"
     ]
    }
   ],
   "source": [
    "y = df['target'].values\n",
    "print('Shape of label tensor:', y.shape)"
   ]
  },
  {
   "cell_type": "code",
   "execution_count": 10,
   "id": "974a4239",
   "metadata": {},
   "outputs": [
    {
     "name": "stdout",
     "output_type": "stream",
     "text": [
      "(30, 20) (30,)\n",
      "(10, 20) (10,)\n"
     ]
    }
   ],
   "source": [
    "from sklearn.model_selection import train_test_split\n",
    "\n",
    "X_train, X_test, y_train, y_test = train_test_split(X,y, test_size = 0.25, random_state = 42)\n",
    "print(X_train.shape,y_train.shape)\n",
    "print(X_test.shape,y_test.shape)"
   ]
  },
  {
   "cell_type": "markdown",
   "id": "a9e3b9a9",
   "metadata": {},
   "source": [
    "### Step4: Model Creation"
   ]
  },
  {
   "cell_type": "code",
   "execution_count": 11,
   "id": "cc60e746",
   "metadata": {},
   "outputs": [],
   "source": [
    "import tensorflow as tf\n",
    "from tensorflow.keras.models import Sequential\n",
    "from tensorflow.keras.layers import Dense\n",
    "from keras.callbacks import EarlyStopping"
   ]
  },
  {
   "cell_type": "code",
   "execution_count": 12,
   "id": "9d3082b8",
   "metadata": {},
   "outputs": [],
   "source": [
    "def layerandnodes(n,l):\n",
    "    model = Sequential()\n",
    "    for x in range(l):\n",
    "        model.add(Dense(n,input_shape=(20,),activation='relu'))\n",
    "    model.add(Dense(1, activation='sigmoid'))\n",
    "    model.compile(loss='MeanSquaredError',optimizer='RMSprop',metrics='accuracy')\n",
    "    return model\n",
    "\n",
    "model = layerandnodes(32,1)"
   ]
  },
  {
   "cell_type": "code",
   "execution_count": 13,
   "id": "4ca93a04",
   "metadata": {},
   "outputs": [
    {
     "name": "stdout",
     "output_type": "stream",
     "text": [
      "Epoch 1/100\n",
      "1/1 [==============================] - 1s 1s/step - loss: 0.4535 - accuracy: 0.5333\n",
      "Epoch 2/100\n",
      "1/1 [==============================] - 0s 17ms/step - loss: 0.4441 - accuracy: 0.5333\n",
      "Epoch 3/100\n",
      "1/1 [==============================] - 0s 22ms/step - loss: 0.4275 - accuracy: 0.5333\n",
      "Epoch 4/100\n",
      "1/1 [==============================] - 0s 16ms/step - loss: 0.4287 - accuracy: 0.5333\n",
      "Epoch 5/100\n",
      "1/1 [==============================] - 0s 13ms/step - loss: 0.4043 - accuracy: 0.5667\n",
      "Epoch 6/100\n",
      "1/1 [==============================] - 0s 10ms/step - loss: 0.3939 - accuracy: 0.5667\n",
      "Epoch 7/100\n",
      "1/1 [==============================] - 0s 14ms/step - loss: 0.3908 - accuracy: 0.5667\n",
      "Epoch 8/100\n",
      "1/1 [==============================] - 0s 10ms/step - loss: 0.3879 - accuracy: 0.5667\n",
      "Epoch 9/100\n",
      "1/1 [==============================] - 0s 12ms/step - loss: 0.3871 - accuracy: 0.5667\n",
      "Epoch 10/100\n",
      "1/1 [==============================] - 0s 12ms/step - loss: 0.3910 - accuracy: 0.5667\n",
      "Epoch 11/100\n",
      "1/1 [==============================] - 0s 14ms/step - loss: 0.3837 - accuracy: 0.5667\n",
      "Epoch 12/100\n",
      "1/1 [==============================] - 0s 10ms/step - loss: 0.3780 - accuracy: 0.5667\n",
      "Epoch 13/100\n",
      "1/1 [==============================] - 0s 11ms/step - loss: 0.3729 - accuracy: 0.5667\n",
      "Epoch 14/100\n",
      "1/1 [==============================] - 0s 15ms/step - loss: 0.3481 - accuracy: 0.5667\n",
      "Epoch 15/100\n",
      "1/1 [==============================] - 0s 14ms/step - loss: 0.3777 - accuracy: 0.6000\n",
      "Epoch 16/100\n",
      "1/1 [==============================] - 0s 11ms/step - loss: 0.3405 - accuracy: 0.6000\n",
      "Epoch 17/100\n",
      "1/1 [==============================] - 0s 12ms/step - loss: 0.3347 - accuracy: 0.6000\n",
      "Epoch 18/100\n",
      "1/1 [==============================] - 0s 15ms/step - loss: 0.3319 - accuracy: 0.6000\n",
      "Epoch 19/100\n",
      "1/1 [==============================] - 0s 12ms/step - loss: 0.3302 - accuracy: 0.6667\n",
      "Epoch 20/100\n",
      "1/1 [==============================] - 0s 10ms/step - loss: 0.3289 - accuracy: 0.6667\n",
      "Epoch 21/100\n",
      "1/1 [==============================] - 0s 13ms/step - loss: 0.3276 - accuracy: 0.6667\n",
      "Epoch 22/100\n",
      "1/1 [==============================] - 0s 12ms/step - loss: 0.3264 - accuracy: 0.6667\n",
      "Epoch 23/100\n",
      "1/1 [==============================] - 0s 10ms/step - loss: 0.3251 - accuracy: 0.6667\n",
      "Epoch 24/100\n",
      "1/1 [==============================] - 0s 12ms/step - loss: 0.3238 - accuracy: 0.6667\n",
      "Epoch 25/100\n",
      "1/1 [==============================] - 0s 15ms/step - loss: 0.3223 - accuracy: 0.6667\n",
      "Epoch 26/100\n",
      "1/1 [==============================] - 0s 10ms/step - loss: 0.3207 - accuracy: 0.6667\n",
      "Epoch 27/100\n",
      "1/1 [==============================] - 0s 14ms/step - loss: 0.3187 - accuracy: 0.6667\n",
      "Epoch 28/100\n",
      "1/1 [==============================] - 0s 12ms/step - loss: 0.3165 - accuracy: 0.6667\n",
      "Epoch 29/100\n",
      "1/1 [==============================] - 0s 9ms/step - loss: 0.3136 - accuracy: 0.6667\n",
      "Epoch 30/100\n",
      "1/1 [==============================] - 0s 15ms/step - loss: 0.3115 - accuracy: 0.6667\n",
      "Epoch 31/100\n",
      "1/1 [==============================] - 0s 11ms/step - loss: 0.3055 - accuracy: 0.6667\n",
      "Epoch 32/100\n",
      "1/1 [==============================] - 0s 13ms/step - loss: 0.3023 - accuracy: 0.6667\n",
      "Epoch 33/100\n",
      "1/1 [==============================] - 0s 12ms/step - loss: 0.2977 - accuracy: 0.6667\n",
      "Epoch 34/100\n",
      "1/1 [==============================] - 0s 13ms/step - loss: 0.3011 - accuracy: 0.6667\n",
      "Epoch 35/100\n",
      "1/1 [==============================] - 0s 11ms/step - loss: 0.2918 - accuracy: 0.7000\n",
      "Epoch 36/100\n",
      "1/1 [==============================] - 0s 9ms/step - loss: 0.2887 - accuracy: 0.7000\n",
      "Epoch 37/100\n",
      "1/1 [==============================] - 0s 11ms/step - loss: 0.2875 - accuracy: 0.7000\n",
      "Epoch 38/100\n",
      "1/1 [==============================] - 0s 12ms/step - loss: 0.2862 - accuracy: 0.7000\n",
      "Epoch 39/100\n",
      "1/1 [==============================] - 0s 10ms/step - loss: 0.2871 - accuracy: 0.7000\n",
      "Epoch 40/100\n",
      "1/1 [==============================] - 0s 8ms/step - loss: 0.2834 - accuracy: 0.7000\n",
      "Epoch 41/100\n",
      "1/1 [==============================] - 0s 11ms/step - loss: 0.2822 - accuracy: 0.7000\n",
      "Epoch 42/100\n",
      "1/1 [==============================] - 0s 13ms/step - loss: 0.2814 - accuracy: 0.7000\n",
      "Epoch 43/100\n",
      "1/1 [==============================] - 0s 14ms/step - loss: 0.2791 - accuracy: 0.7000\n",
      "Epoch 44/100\n",
      "1/1 [==============================] - 0s 14ms/step - loss: 0.2802 - accuracy: 0.7000\n",
      "Epoch 45/100\n",
      "1/1 [==============================] - 0s 12ms/step - loss: 0.2592 - accuracy: 0.7000\n",
      "Epoch 46/100\n",
      "1/1 [==============================] - 0s 13ms/step - loss: 0.2848 - accuracy: 0.6667\n",
      "Epoch 47/100\n",
      "1/1 [==============================] - 0s 13ms/step - loss: 0.2668 - accuracy: 0.7000\n",
      "Epoch 48/100\n",
      "1/1 [==============================] - 0s 13ms/step - loss: 0.2388 - accuracy: 0.7333\n",
      "Epoch 49/100\n",
      "1/1 [==============================] - 0s 12ms/step - loss: 0.2222 - accuracy: 0.7667\n",
      "Epoch 50/100\n",
      "1/1 [==============================] - 0s 13ms/step - loss: 0.2196 - accuracy: 0.7667\n",
      "Epoch 51/100\n",
      "1/1 [==============================] - 0s 11ms/step - loss: 0.2190 - accuracy: 0.7667\n",
      "Epoch 52/100\n",
      "1/1 [==============================] - 0s 11ms/step - loss: 0.2167 - accuracy: 0.7667\n",
      "Epoch 53/100\n",
      "1/1 [==============================] - 0s 10ms/step - loss: 0.2162 - accuracy: 0.7667\n",
      "Epoch 54/100\n",
      "1/1 [==============================] - 0s 14ms/step - loss: 0.2152 - accuracy: 0.7667\n",
      "Epoch 55/100\n",
      "1/1 [==============================] - 0s 11ms/step - loss: 0.2148 - accuracy: 0.7667\n",
      "Epoch 56/100\n",
      "1/1 [==============================] - 0s 11ms/step - loss: 0.2143 - accuracy: 0.7667\n",
      "Epoch 57/100\n",
      "1/1 [==============================] - 0s 13ms/step - loss: 0.2140 - accuracy: 0.7667\n",
      "Epoch 58/100\n",
      "1/1 [==============================] - 0s 14ms/step - loss: 0.2136 - accuracy: 0.7667\n",
      "Epoch 59/100\n",
      "1/1 [==============================] - 0s 14ms/step - loss: 0.2133 - accuracy: 0.7667\n",
      "Epoch 60/100\n",
      "1/1 [==============================] - 0s 12ms/step - loss: 0.2130 - accuracy: 0.7667\n",
      "Epoch 61/100\n",
      "1/1 [==============================] - 0s 12ms/step - loss: 0.2127 - accuracy: 0.7667\n",
      "Epoch 62/100\n",
      "1/1 [==============================] - 0s 12ms/step - loss: 0.2124 - accuracy: 0.7667\n",
      "Epoch 63/100\n",
      "1/1 [==============================] - 0s 11ms/step - loss: 0.2122 - accuracy: 0.7667\n",
      "Epoch 64/100\n",
      "1/1 [==============================] - 0s 12ms/step - loss: 0.2119 - accuracy: 0.7667\n",
      "Epoch 65/100\n",
      "1/1 [==============================] - 0s 14ms/step - loss: 0.2116 - accuracy: 0.7667\n",
      "Epoch 66/100\n",
      "1/1 [==============================] - 0s 13ms/step - loss: 0.2114 - accuracy: 0.7667\n",
      "Epoch 67/100\n",
      "1/1 [==============================] - 0s 13ms/step - loss: 0.2111 - accuracy: 0.7667\n",
      "Epoch 68/100\n",
      "1/1 [==============================] - 0s 14ms/step - loss: 0.2108 - accuracy: 0.7667\n",
      "Epoch 69/100\n",
      "1/1 [==============================] - 0s 13ms/step - loss: 0.2106 - accuracy: 0.7667\n",
      "Epoch 70/100\n",
      "1/1 [==============================] - 0s 12ms/step - loss: 0.2103 - accuracy: 0.7667\n",
      "Epoch 71/100\n",
      "1/1 [==============================] - 0s 14ms/step - loss: 0.2100 - accuracy: 0.7667\n",
      "Epoch 72/100\n",
      "1/1 [==============================] - 0s 13ms/step - loss: 0.2097 - accuracy: 0.7667\n",
      "Epoch 73/100\n",
      "1/1 [==============================] - 0s 10ms/step - loss: 0.2094 - accuracy: 0.7667\n",
      "Epoch 74/100\n",
      "1/1 [==============================] - 0s 10ms/step - loss: 0.2091 - accuracy: 0.7667\n",
      "Epoch 75/100\n",
      "1/1 [==============================] - 0s 11ms/step - loss: 0.2087 - accuracy: 0.8000\n",
      "Epoch 76/100\n",
      "1/1 [==============================] - 0s 13ms/step - loss: 0.2084 - accuracy: 0.8000\n",
      "Epoch 77/100\n",
      "1/1 [==============================] - 0s 14ms/step - loss: 0.2080 - accuracy: 0.8000\n",
      "Epoch 78/100\n",
      "1/1 [==============================] - 0s 11ms/step - loss: 0.2076 - accuracy: 0.8000\n",
      "Epoch 79/100\n",
      "1/1 [==============================] - 0s 11ms/step - loss: 0.2071 - accuracy: 0.8000\n",
      "Epoch 80/100\n",
      "1/1 [==============================] - 0s 11ms/step - loss: 0.2066 - accuracy: 0.8000\n",
      "Epoch 81/100\n",
      "1/1 [==============================] - 0s 11ms/step - loss: 0.2061 - accuracy: 0.8000\n",
      "Epoch 82/100\n",
      "1/1 [==============================] - 0s 10ms/step - loss: 0.2060 - accuracy: 0.8000\n",
      "Epoch 83/100\n",
      "1/1 [==============================] - 0s 10ms/step - loss: 0.2048 - accuracy: 0.8000\n",
      "Epoch 84/100\n",
      "1/1 [==============================] - 0s 10ms/step - loss: 0.2062 - accuracy: 0.8000\n",
      "Epoch 85/100\n",
      "1/1 [==============================] - 0s 12ms/step - loss: 0.2022 - accuracy: 0.8000\n",
      "Epoch 86/100\n",
      "1/1 [==============================] - 0s 13ms/step - loss: 0.2005 - accuracy: 0.8000\n",
      "Epoch 87/100\n",
      "1/1 [==============================] - 0s 11ms/step - loss: 0.1982 - accuracy: 0.8000\n",
      "Epoch 88/100\n",
      "1/1 [==============================] - 0s 11ms/step - loss: 0.1960 - accuracy: 0.8000\n",
      "Epoch 89/100\n",
      "1/1 [==============================] - 0s 11ms/step - loss: 0.2034 - accuracy: 0.7667\n",
      "Epoch 90/100\n",
      "1/1 [==============================] - 0s 12ms/step - loss: 0.2111 - accuracy: 0.7667\n",
      "Epoch 91/100\n",
      "1/1 [==============================] - 0s 12ms/step - loss: 0.1986 - accuracy: 0.8000\n",
      "Epoch 92/100\n",
      "1/1 [==============================] - 0s 14ms/step - loss: 0.1949 - accuracy: 0.8000\n",
      "Epoch 93/100\n",
      "1/1 [==============================] - 0s 16ms/step - loss: 0.1911 - accuracy: 0.8000\n",
      "Epoch 94/100\n",
      "1/1 [==============================] - 0s 17ms/step - loss: 0.1874 - accuracy: 0.8000\n",
      "Epoch 95/100\n",
      "1/1 [==============================] - 0s 16ms/step - loss: 0.1845 - accuracy: 0.8000\n",
      "Epoch 96/100\n",
      "1/1 [==============================] - 0s 14ms/step - loss: 0.1823 - accuracy: 0.8000\n",
      "Epoch 97/100\n",
      "1/1 [==============================] - 0s 13ms/step - loss: 0.1806 - accuracy: 0.8333\n",
      "Epoch 98/100\n",
      "1/1 [==============================] - 0s 12ms/step - loss: 0.1792 - accuracy: 0.8333\n",
      "Epoch 99/100\n",
      "1/1 [==============================] - 0s 12ms/step - loss: 0.1781 - accuracy: 0.8333\n",
      "Epoch 100/100\n",
      "1/1 [==============================] - 0s 11ms/step - loss: 0.1771 - accuracy: 0.8333\n"
     ]
    },
    {
     "data": {
      "text/plain": [
       "<keras.src.callbacks.History at 0x2aa9c1f1c10>"
      ]
     },
     "execution_count": 13,
     "metadata": {},
     "output_type": "execute_result"
    }
   ],
   "source": [
    "early_stop = tf.keras.callbacks.EarlyStopping(monitor='loss')\n",
    "\n",
    "model.fit(X_train,y_train,epochs=100)"
   ]
  },
  {
   "cell_type": "code",
   "execution_count": 15,
   "id": "8f36db67",
   "metadata": {},
   "outputs": [
    {
     "name": "stdout",
     "output_type": "stream",
     "text": [
      "1/1 [==============================] - 0s 317ms/step - loss: 0.5033 - accuracy: 0.5000\n"
     ]
    },
    {
     "data": {
      "text/plain": [
       "[0.5032526254653931, 0.5]"
      ]
     },
     "execution_count": 15,
     "metadata": {},
     "output_type": "execute_result"
    }
   ],
   "source": [
    "model.evaluate(X_test,y_test)"
   ]
  },
  {
   "cell_type": "code",
   "execution_count": 14,
   "id": "647e0818",
   "metadata": {},
   "outputs": [
    {
     "name": "stdout",
     "output_type": "stream",
     "text": [
      "1/1 [==============================] - 0s 171ms/step\n"
     ]
    },
    {
     "data": {
      "text/plain": [
       "array([0, 0, 0, 0, 0, 0, 0, 0, 0, 0], dtype=int64)"
      ]
     },
     "execution_count": 14,
     "metadata": {},
     "output_type": "execute_result"
    }
   ],
   "source": [
    "predict_x=model.predict(X_test) \n",
    "classes_x=np.argmax(predict_x,axis=1)\n",
    "classes_x"
   ]
  },
  {
   "cell_type": "code",
   "execution_count": 15,
   "id": "181811de",
   "metadata": {},
   "outputs": [
    {
     "name": "stdout",
     "output_type": "stream",
     "text": [
      "Model: \"sequential\"\n",
      "_________________________________________________________________\n",
      " Layer (type)                Output Shape              Param #   \n",
      "=================================================================\n",
      " dense (Dense)               (None, 32)                672       \n",
      "                                                                 \n",
      " dense_1 (Dense)             (None, 1)                 33        \n",
      "                                                                 \n",
      "=================================================================\n",
      "Total params: 705 (2.75 KB)\n",
      "Trainable params: 705 (2.75 KB)\n",
      "Non-trainable params: 0 (0.00 Byte)\n",
      "_________________________________________________________________\n"
     ]
    }
   ],
   "source": [
    "model.summary()"
   ]
  },
  {
   "cell_type": "code",
   "execution_count": 16,
   "id": "1dd9dfe5",
   "metadata": {},
   "outputs": [
    {
     "name": "stdout",
     "output_type": "stream",
     "text": [
      "1/1 [==============================] - 0s 42ms/step\n"
     ]
    },
    {
     "data": {
      "text/plain": [
       "array([0], dtype=int64)"
      ]
     },
     "execution_count": 16,
     "metadata": {},
     "output_type": "execute_result"
    }
   ],
   "source": [
    "input_txt = tokenizer.texts_to_sequences(['சிறந்த வேலையைச் செய்வதற்கு ஒரே வழி நீங்கள் செய்வதை நேசிப்பதே'])\n",
    "input_txt = pad_sequences(input_txt, maxlen=MAX_SEQUENCE_LENGTH)\n",
    "\n",
    "predict_x=model.predict(input_txt) \n",
    "classes_x=np.argmax(predict_x,axis=1)\n",
    "classes_x"
   ]
  },
  {
   "cell_type": "code",
   "execution_count": 17,
   "id": "9d91846e",
   "metadata": {},
   "outputs": [
    {
     "name": "stdout",
     "output_type": "stream",
     "text": [
      "1/1 [==============================] - 0s 41ms/step\n"
     ]
    },
    {
     "data": {
      "text/plain": [
       "array([0], dtype=int64)"
      ]
     },
     "execution_count": 17,
     "metadata": {},
     "output_type": "execute_result"
    }
   ],
   "source": [
    "input_txt = tokenizer.texts_to_sequences(['அது முடிந்துவிட்டது என்று அழ வேண்டாம்'])\n",
    "input_txt = pad_sequences(input_txt, maxlen=MAX_SEQUENCE_LENGTH)\n",
    "\n",
    "predict_x=model.predict(input_txt) \n",
    "classes_x=np.argmax(predict_x,axis=1)\n",
    "classes_x"
   ]
  },
  {
   "cell_type": "markdown",
   "id": "198cce3c",
   "metadata": {},
   "source": [
    "### Step5:Analysis Part-A\n",
    "8nodes"
   ]
  },
  {
   "cell_type": "code",
   "execution_count": 18,
   "id": "9b7984ab",
   "metadata": {},
   "outputs": [
    {
     "name": "stdout",
     "output_type": "stream",
     "text": [
      "Epoch 1/100\n",
      "1/1 [==============================] - 1s 863ms/step - loss: 0.4802 - accuracy: 0.4667\n",
      "Epoch 2/100\n",
      "1/1 [==============================] - 0s 17ms/step - loss: 0.4570 - accuracy: 0.5000\n",
      "Epoch 3/100\n",
      "1/1 [==============================] - 0s 12ms/step - loss: 0.4531 - accuracy: 0.5667\n",
      "Epoch 4/100\n",
      "1/1 [==============================] - 0s 12ms/step - loss: 0.4505 - accuracy: 0.5667\n",
      "Epoch 5/100\n",
      "1/1 [==============================] - 0s 13ms/step - loss: 0.4485 - accuracy: 0.5667\n",
      "Epoch 6/100\n",
      "1/1 [==============================] - 0s 15ms/step - loss: 0.4469 - accuracy: 0.5667\n",
      "Epoch 7/100\n",
      "1/1 [==============================] - 0s 21ms/step - loss: 0.4450 - accuracy: 0.5667\n",
      "Epoch 8/100\n",
      "1/1 [==============================] - 0s 12ms/step - loss: 0.4435 - accuracy: 0.5667\n",
      "Epoch 9/100\n",
      "1/1 [==============================] - 0s 13ms/step - loss: 0.4430 - accuracy: 0.5667\n",
      "Epoch 10/100\n",
      "1/1 [==============================] - 0s 14ms/step - loss: 0.4411 - accuracy: 0.5667\n",
      "Epoch 11/100\n",
      "1/1 [==============================] - 0s 15ms/step - loss: 0.4386 - accuracy: 0.5667\n",
      "Epoch 12/100\n",
      "1/1 [==============================] - 0s 10ms/step - loss: 0.4374 - accuracy: 0.5667\n",
      "Epoch 13/100\n",
      "1/1 [==============================] - 0s 13ms/step - loss: 0.4396 - accuracy: 0.5667\n",
      "1/1 [==============================] - 0s 293ms/step - loss: 0.4000 - accuracy: 0.6000\n"
     ]
    },
    {
     "data": {
      "text/plain": [
       "[0.4000000059604645, 0.6000000238418579]"
      ]
     },
     "execution_count": 18,
     "metadata": {},
     "output_type": "execute_result"
    }
   ],
   "source": [
    "model1 = layerandnodes(8,1)\n",
    "model1.fit(X_train,y_train,epochs=100,callbacks=[early_stop])\n",
    "model1.evaluate(X_test,y_test)"
   ]
  },
  {
   "cell_type": "code",
   "execution_count": 19,
   "id": "22c1a801",
   "metadata": {},
   "outputs": [
    {
     "name": "stdout",
     "output_type": "stream",
     "text": [
      "Model: \"sequential_1\"\n",
      "_________________________________________________________________\n",
      " Layer (type)                Output Shape              Param #   \n",
      "=================================================================\n",
      " dense_2 (Dense)             (None, 8)                 168       \n",
      "                                                                 \n",
      " dense_3 (Dense)             (None, 1)                 9         \n",
      "                                                                 \n",
      "=================================================================\n",
      "Total params: 177 (708.00 Byte)\n",
      "Trainable params: 177 (708.00 Byte)\n",
      "Non-trainable params: 0 (0.00 Byte)\n",
      "_________________________________________________________________\n"
     ]
    }
   ],
   "source": [
    "model1.summary()"
   ]
  },
  {
   "cell_type": "markdown",
   "id": "01b6491a",
   "metadata": {},
   "source": [
    "16nodes"
   ]
  },
  {
   "cell_type": "code",
   "execution_count": 20,
   "id": "0994934c",
   "metadata": {},
   "outputs": [
    {
     "name": "stdout",
     "output_type": "stream",
     "text": [
      "Epoch 1/100\n",
      "1/1 [==============================] - 1s 855ms/step - loss: 0.5283 - accuracy: 0.4333\n",
      "Epoch 2/100\n",
      "1/1 [==============================] - 0s 15ms/step - loss: 0.4892 - accuracy: 0.5000\n",
      "Epoch 3/100\n",
      "1/1 [==============================] - 0s 13ms/step - loss: 0.4663 - accuracy: 0.5333\n",
      "Epoch 4/100\n",
      "1/1 [==============================] - 0s 14ms/step - loss: 0.4534 - accuracy: 0.5667\n",
      "Epoch 5/100\n",
      "1/1 [==============================] - 0s 13ms/step - loss: 0.4526 - accuracy: 0.5333\n",
      "Epoch 6/100\n",
      "1/1 [==============================] - 0s 22ms/step - loss: 0.4550 - accuracy: 0.5333\n",
      "1/1 [==============================] - 0s 243ms/step - loss: 0.3204 - accuracy: 0.7000\n"
     ]
    },
    {
     "data": {
      "text/plain": [
       "[0.320447713136673, 0.699999988079071]"
      ]
     },
     "execution_count": 20,
     "metadata": {},
     "output_type": "execute_result"
    }
   ],
   "source": [
    "model2 = layerandnodes(16,1)\n",
    "model2.fit(X_train,y_train,epochs=100,callbacks=[early_stop])\n",
    "model2.evaluate(X_test,y_test)"
   ]
  },
  {
   "cell_type": "code",
   "execution_count": 21,
   "id": "de223853",
   "metadata": {},
   "outputs": [
    {
     "name": "stdout",
     "output_type": "stream",
     "text": [
      "Model: \"sequential_2\"\n",
      "_________________________________________________________________\n",
      " Layer (type)                Output Shape              Param #   \n",
      "=================================================================\n",
      " dense_4 (Dense)             (None, 16)                336       \n",
      "                                                                 \n",
      " dense_5 (Dense)             (None, 1)                 17        \n",
      "                                                                 \n",
      "=================================================================\n",
      "Total params: 353 (1.38 KB)\n",
      "Trainable params: 353 (1.38 KB)\n",
      "Non-trainable params: 0 (0.00 Byte)\n",
      "_________________________________________________________________\n"
     ]
    }
   ],
   "source": [
    "model2.summary()"
   ]
  },
  {
   "cell_type": "markdown",
   "id": "77c1701d",
   "metadata": {},
   "source": [
    "64nodes"
   ]
  },
  {
   "cell_type": "code",
   "execution_count": 22,
   "id": "2e1b21c9",
   "metadata": {},
   "outputs": [
    {
     "name": "stdout",
     "output_type": "stream",
     "text": [
      "Epoch 1/100\n",
      "1/1 [==============================] - 1s 869ms/step - loss: 0.4508 - accuracy: 0.5333\n",
      "Epoch 2/100\n",
      "1/1 [==============================] - 0s 18ms/step - loss: 0.4421 - accuracy: 0.5333\n",
      "Epoch 3/100\n",
      "1/1 [==============================] - 0s 16ms/step - loss: 0.4207 - accuracy: 0.5333\n",
      "Epoch 4/100\n",
      "1/1 [==============================] - 0s 14ms/step - loss: 0.3963 - accuracy: 0.5667\n",
      "Epoch 5/100\n",
      "1/1 [==============================] - 0s 14ms/step - loss: 0.3885 - accuracy: 0.5333\n",
      "Epoch 6/100\n",
      "1/1 [==============================] - 0s 14ms/step - loss: 0.3814 - accuracy: 0.5667\n",
      "Epoch 7/100\n",
      "1/1 [==============================] - 0s 48ms/step - loss: 0.3698 - accuracy: 0.5667\n",
      "Epoch 8/100\n",
      "1/1 [==============================] - 0s 32ms/step - loss: 0.3617 - accuracy: 0.6333\n",
      "Epoch 9/100\n",
      "1/1 [==============================] - 0s 13ms/step - loss: 0.3557 - accuracy: 0.6333\n",
      "Epoch 10/100\n",
      "1/1 [==============================] - 0s 12ms/step - loss: 0.3509 - accuracy: 0.6333\n",
      "Epoch 11/100\n",
      "1/1 [==============================] - 0s 11ms/step - loss: 0.3461 - accuracy: 0.6333\n",
      "Epoch 12/100\n",
      "1/1 [==============================] - 0s 14ms/step - loss: 0.3384 - accuracy: 0.6333\n",
      "Epoch 13/100\n",
      "1/1 [==============================] - 0s 9ms/step - loss: 0.3147 - accuracy: 0.6667\n",
      "Epoch 14/100\n",
      "1/1 [==============================] - 0s 12ms/step - loss: 0.3172 - accuracy: 0.6333\n",
      "Epoch 15/100\n",
      "1/1 [==============================] - 0s 11ms/step - loss: 0.3234 - accuracy: 0.6333\n",
      "Epoch 16/100\n",
      "1/1 [==============================] - 0s 13ms/step - loss: 0.2929 - accuracy: 0.7000\n",
      "Epoch 17/100\n",
      "1/1 [==============================] - 0s 12ms/step - loss: 0.2722 - accuracy: 0.7000\n",
      "Epoch 18/100\n",
      "1/1 [==============================] - 0s 13ms/step - loss: 0.3023 - accuracy: 0.6667\n",
      "Epoch 19/100\n",
      "1/1 [==============================] - 0s 19ms/step - loss: 0.2967 - accuracy: 0.7000\n",
      "Epoch 20/100\n",
      "1/1 [==============================] - 0s 15ms/step - loss: 0.2785 - accuracy: 0.7000\n",
      "1/1 [==============================] - 0s 234ms/step - loss: 0.4179 - accuracy: 0.6000\n"
     ]
    },
    {
     "data": {
      "text/plain": [
       "[0.41791781783103943, 0.6000000238418579]"
      ]
     },
     "execution_count": 22,
     "metadata": {},
     "output_type": "execute_result"
    }
   ],
   "source": [
    "model3 = layerandnodes(64,1)\n",
    "model3.fit(X_train,y_train,epochs=100,callbacks=[EarlyStopping(monitor='loss',patience=3)])\n",
    "model3.evaluate(X_test,y_test)"
   ]
  },
  {
   "cell_type": "code",
   "execution_count": 23,
   "id": "e407a3fd",
   "metadata": {},
   "outputs": [
    {
     "name": "stdout",
     "output_type": "stream",
     "text": [
      "Model: \"sequential_3\"\n",
      "_________________________________________________________________\n",
      " Layer (type)                Output Shape              Param #   \n",
      "=================================================================\n",
      " dense_6 (Dense)             (None, 64)                1344      \n",
      "                                                                 \n",
      " dense_7 (Dense)             (None, 1)                 65        \n",
      "                                                                 \n",
      "=================================================================\n",
      "Total params: 1409 (5.50 KB)\n",
      "Trainable params: 1409 (5.50 KB)\n",
      "Non-trainable params: 0 (0.00 Byte)\n",
      "_________________________________________________________________\n"
     ]
    }
   ],
   "source": [
    "model3.summary()"
   ]
  },
  {
   "cell_type": "markdown",
   "id": "3c1abbfe",
   "metadata": {},
   "source": [
    "128nodes"
   ]
  },
  {
   "cell_type": "code",
   "execution_count": 24,
   "id": "24e0a996",
   "metadata": {},
   "outputs": [
    {
     "name": "stdout",
     "output_type": "stream",
     "text": [
      "Epoch 1/100\n",
      "1/1 [==============================] - 1s 849ms/step - loss: 0.4656 - accuracy: 0.5000\n",
      "Epoch 2/100\n",
      "1/1 [==============================] - 0s 16ms/step - loss: 0.3500 - accuracy: 0.6000\n",
      "Epoch 3/100\n",
      "1/1 [==============================] - 0s 15ms/step - loss: 0.3350 - accuracy: 0.6333\n",
      "Epoch 4/100\n",
      "1/1 [==============================] - 0s 12ms/step - loss: 0.4064 - accuracy: 0.5000\n",
      "Epoch 5/100\n",
      "1/1 [==============================] - 0s 12ms/step - loss: 0.3213 - accuracy: 0.6333\n",
      "Epoch 6/100\n",
      "1/1 [==============================] - 0s 16ms/step - loss: 0.3374 - accuracy: 0.6000\n",
      "1/1 [==============================] - 0s 232ms/step - loss: 0.4127 - accuracy: 0.6000\n"
     ]
    },
    {
     "data": {
      "text/plain": [
       "[0.41268405318260193, 0.6000000238418579]"
      ]
     },
     "execution_count": 24,
     "metadata": {},
     "output_type": "execute_result"
    }
   ],
   "source": [
    "model4 = layerandnodes(128,1)\n",
    "model4.fit(X_train,y_train,epochs=100,callbacks=[EarlyStopping(monitor='accuracy',patience=3)])\n",
    "model4.evaluate(X_test,y_test)"
   ]
  },
  {
   "cell_type": "code",
   "execution_count": 25,
   "id": "d2fb0ccd",
   "metadata": {},
   "outputs": [
    {
     "name": "stdout",
     "output_type": "stream",
     "text": [
      "Model: \"sequential_4\"\n",
      "_________________________________________________________________\n",
      " Layer (type)                Output Shape              Param #   \n",
      "=================================================================\n",
      " dense_8 (Dense)             (None, 128)               2688      \n",
      "                                                                 \n",
      " dense_9 (Dense)             (None, 1)                 129       \n",
      "                                                                 \n",
      "=================================================================\n",
      "Total params: 2817 (11.00 KB)\n",
      "Trainable params: 2817 (11.00 KB)\n",
      "Non-trainable params: 0 (0.00 Byte)\n",
      "_________________________________________________________________\n"
     ]
    }
   ],
   "source": [
    "model4.summary()"
   ]
  },
  {
   "cell_type": "markdown",
   "id": "6f22454b",
   "metadata": {},
   "source": [
    "256nodes"
   ]
  },
  {
   "cell_type": "code",
   "execution_count": 18,
   "id": "6026cd69",
   "metadata": {
    "scrolled": true
   },
   "outputs": [
    {
     "name": "stdout",
     "output_type": "stream",
     "text": [
      "Epoch 1/100\n",
      "1/1 [==============================] - 1s 851ms/step - loss: 0.3824 - accuracy: 0.6000\n",
      "Epoch 2/100\n",
      "1/1 [==============================] - 0s 15ms/step - loss: 0.3589 - accuracy: 0.6000\n",
      "Epoch 3/100\n",
      "1/1 [==============================] - 0s 11ms/step - loss: 0.3685 - accuracy: 0.6000\n",
      "1/1 [==============================] - 0s 246ms/step - loss: 0.3797 - accuracy: 0.6000\n"
     ]
    },
    {
     "data": {
      "text/plain": [
       "[0.37968307733535767, 0.6000000238418579]"
      ]
     },
     "execution_count": 18,
     "metadata": {},
     "output_type": "execute_result"
    }
   ],
   "source": [
    "model5 = layerandnodes(256,1)\n",
    "model5.fit(X_train,y_train,epochs=100,callbacks=[early_stop])\n",
    "model5.evaluate(X_test,y_test)"
   ]
  },
  {
   "cell_type": "code",
   "execution_count": 27,
   "id": "eeb4bbdc",
   "metadata": {},
   "outputs": [
    {
     "name": "stdout",
     "output_type": "stream",
     "text": [
      "Model: \"sequential_5\"\n",
      "_________________________________________________________________\n",
      " Layer (type)                Output Shape              Param #   \n",
      "=================================================================\n",
      " dense_10 (Dense)            (None, 256)               5376      \n",
      "                                                                 \n",
      " dense_11 (Dense)            (None, 1)                 257       \n",
      "                                                                 \n",
      "=================================================================\n",
      "Total params: 5633 (22.00 KB)\n",
      "Trainable params: 5633 (22.00 KB)\n",
      "Non-trainable params: 0 (0.00 Byte)\n",
      "_________________________________________________________________\n"
     ]
    }
   ],
   "source": [
    "model5.summary()"
   ]
  },
  {
   "cell_type": "markdown",
   "id": "57d4433d",
   "metadata": {},
   "source": [
    "512nodes"
   ]
  },
  {
   "cell_type": "code",
   "execution_count": 16,
   "id": "448dcf0b",
   "metadata": {},
   "outputs": [
    {
     "name": "stdout",
     "output_type": "stream",
     "text": [
      "Epoch 1/100\n",
      "1/1 [==============================] - 1s 854ms/step - loss: 0.5380 - accuracy: 0.4667\n",
      "Epoch 2/100\n",
      "1/1 [==============================] - 0s 16ms/step - loss: 0.5335 - accuracy: 0.4667\n",
      "Epoch 3/100\n",
      "1/1 [==============================] - 0s 19ms/step - loss: 0.5335 - accuracy: 0.4667\n",
      "Epoch 4/100\n",
      "1/1 [==============================] - 0s 15ms/step - loss: 0.5334 - accuracy: 0.4667\n",
      "Epoch 5/100\n",
      "1/1 [==============================] - 0s 13ms/step - loss: 0.5334 - accuracy: 0.4667\n",
      "Epoch 6/100\n",
      "1/1 [==============================] - 0s 18ms/step - loss: 0.5334 - accuracy: 0.4667\n",
      "Epoch 7/100\n",
      "1/1 [==============================] - 0s 18ms/step - loss: 0.5334 - accuracy: 0.4667\n",
      "Epoch 8/100\n",
      "1/1 [==============================] - 0s 14ms/step - loss: 0.5334 - accuracy: 0.4667\n",
      "Epoch 9/100\n",
      "1/1 [==============================] - 0s 11ms/step - loss: 0.5334 - accuracy: 0.4667\n",
      "Epoch 10/100\n",
      "1/1 [==============================] - 0s 14ms/step - loss: 0.5334 - accuracy: 0.4667\n",
      "Epoch 11/100\n",
      "1/1 [==============================] - 0s 12ms/step - loss: 0.5334 - accuracy: 0.4667\n",
      "Epoch 12/100\n",
      "1/1 [==============================] - 0s 13ms/step - loss: 0.5334 - accuracy: 0.4667\n",
      "Epoch 13/100\n",
      "1/1 [==============================] - 0s 13ms/step - loss: 0.5334 - accuracy: 0.4667\n",
      "Epoch 14/100\n",
      "1/1 [==============================] - 0s 15ms/step - loss: 0.5334 - accuracy: 0.4667\n",
      "Epoch 15/100\n",
      "1/1 [==============================] - 0s 13ms/step - loss: 0.5334 - accuracy: 0.4667\n",
      "Epoch 16/100\n",
      "1/1 [==============================] - 0s 13ms/step - loss: 0.5334 - accuracy: 0.4667\n",
      "Epoch 17/100\n",
      "1/1 [==============================] - 0s 13ms/step - loss: 0.5334 - accuracy: 0.4667\n",
      "Epoch 18/100\n",
      "1/1 [==============================] - 0s 12ms/step - loss: 0.5334 - accuracy: 0.4667\n",
      "Epoch 19/100\n",
      "1/1 [==============================] - 0s 11ms/step - loss: 0.5334 - accuracy: 0.4667\n",
      "Epoch 20/100\n",
      "1/1 [==============================] - 0s 13ms/step - loss: 0.5334 - accuracy: 0.4667\n",
      "Epoch 21/100\n",
      "1/1 [==============================] - 0s 13ms/step - loss: 0.5334 - accuracy: 0.4667\n",
      "Epoch 22/100\n",
      "1/1 [==============================] - 0s 13ms/step - loss: 0.5334 - accuracy: 0.4667\n",
      "Epoch 23/100\n",
      "1/1 [==============================] - 0s 16ms/step - loss: 0.5334 - accuracy: 0.4667\n",
      "Epoch 24/100\n",
      "1/1 [==============================] - 0s 13ms/step - loss: 0.5334 - accuracy: 0.4667\n",
      "Epoch 25/100\n",
      "1/1 [==============================] - 0s 9ms/step - loss: 0.5334 - accuracy: 0.4667\n",
      "Epoch 26/100\n",
      "1/1 [==============================] - 0s 12ms/step - loss: 0.5334 - accuracy: 0.4667\n",
      "Epoch 27/100\n",
      "1/1 [==============================] - 0s 14ms/step - loss: 0.5334 - accuracy: 0.4667\n",
      "Epoch 28/100\n",
      "1/1 [==============================] - 0s 11ms/step - loss: 0.5334 - accuracy: 0.4667\n",
      "Epoch 29/100\n",
      "1/1 [==============================] - 0s 10ms/step - loss: 0.5334 - accuracy: 0.4667\n",
      "Epoch 30/100\n",
      "1/1 [==============================] - 0s 13ms/step - loss: 0.5334 - accuracy: 0.4667\n",
      "Epoch 31/100\n",
      "1/1 [==============================] - 0s 13ms/step - loss: 0.5333 - accuracy: 0.4667\n",
      "Epoch 32/100\n",
      "1/1 [==============================] - 0s 13ms/step - loss: 0.5333 - accuracy: 0.4667\n",
      "Epoch 33/100\n",
      "1/1 [==============================] - 0s 18ms/step - loss: 0.5333 - accuracy: 0.4667\n",
      "Epoch 34/100\n",
      "1/1 [==============================] - 0s 17ms/step - loss: 0.5333 - accuracy: 0.4667\n",
      "Epoch 35/100\n",
      "1/1 [==============================] - 0s 14ms/step - loss: 0.5333 - accuracy: 0.4667\n",
      "Epoch 36/100\n",
      "1/1 [==============================] - 0s 16ms/step - loss: 0.5333 - accuracy: 0.4667\n",
      "Epoch 37/100\n",
      "1/1 [==============================] - 0s 13ms/step - loss: 0.5333 - accuracy: 0.4667\n",
      "Epoch 38/100\n",
      "1/1 [==============================] - 0s 16ms/step - loss: 0.5333 - accuracy: 0.4667\n",
      "Epoch 39/100\n",
      "1/1 [==============================] - 0s 15ms/step - loss: 0.5333 - accuracy: 0.4667\n",
      "Epoch 40/100\n",
      "1/1 [==============================] - 0s 12ms/step - loss: 0.5333 - accuracy: 0.4667\n",
      "Epoch 41/100\n",
      "1/1 [==============================] - 0s 13ms/step - loss: 0.5333 - accuracy: 0.4667\n",
      "Epoch 42/100\n",
      "1/1 [==============================] - 0s 14ms/step - loss: 0.5333 - accuracy: 0.4667\n",
      "Epoch 43/100\n",
      "1/1 [==============================] - 0s 12ms/step - loss: 0.5333 - accuracy: 0.4667\n",
      "Epoch 44/100\n",
      "1/1 [==============================] - 0s 16ms/step - loss: 0.5333 - accuracy: 0.4667\n",
      "Epoch 45/100\n",
      "1/1 [==============================] - 0s 13ms/step - loss: 0.5333 - accuracy: 0.4667\n",
      "Epoch 46/100\n",
      "1/1 [==============================] - 0s 11ms/step - loss: 0.5333 - accuracy: 0.4667\n",
      "Epoch 47/100\n",
      "1/1 [==============================] - 0s 13ms/step - loss: 0.5333 - accuracy: 0.4667\n",
      "Epoch 48/100\n",
      "1/1 [==============================] - 0s 13ms/step - loss: 0.5333 - accuracy: 0.4667\n",
      "Epoch 49/100\n",
      "1/1 [==============================] - 0s 11ms/step - loss: 0.5333 - accuracy: 0.4667\n",
      "Epoch 50/100\n",
      "1/1 [==============================] - 0s 11ms/step - loss: 0.5333 - accuracy: 0.4667\n",
      "Epoch 51/100\n",
      "1/1 [==============================] - 0s 15ms/step - loss: 0.5333 - accuracy: 0.4667\n",
      "Epoch 52/100\n",
      "1/1 [==============================] - 0s 13ms/step - loss: 0.5333 - accuracy: 0.4667\n",
      "Epoch 53/100\n",
      "1/1 [==============================] - 0s 11ms/step - loss: 0.5333 - accuracy: 0.4667\n",
      "Epoch 54/100\n",
      "1/1 [==============================] - 0s 14ms/step - loss: 0.5333 - accuracy: 0.4667\n",
      "Epoch 55/100\n",
      "1/1 [==============================] - 0s 12ms/step - loss: 0.5333 - accuracy: 0.4667\n",
      "Epoch 56/100\n",
      "1/1 [==============================] - 0s 12ms/step - loss: 0.5333 - accuracy: 0.4667\n",
      "Epoch 57/100\n",
      "1/1 [==============================] - 0s 12ms/step - loss: 0.5333 - accuracy: 0.4667\n",
      "Epoch 58/100\n",
      "1/1 [==============================] - 0s 13ms/step - loss: 0.5333 - accuracy: 0.4667\n",
      "Epoch 59/100\n",
      "1/1 [==============================] - 0s 12ms/step - loss: 0.5333 - accuracy: 0.4667\n",
      "Epoch 60/100\n",
      "1/1 [==============================] - 0s 12ms/step - loss: 0.5333 - accuracy: 0.4667\n",
      "Epoch 61/100\n",
      "1/1 [==============================] - 0s 11ms/step - loss: 0.5333 - accuracy: 0.4667\n",
      "Epoch 62/100\n",
      "1/1 [==============================] - 0s 13ms/step - loss: 0.5333 - accuracy: 0.4667\n",
      "Epoch 63/100\n",
      "1/1 [==============================] - 0s 12ms/step - loss: 0.5333 - accuracy: 0.4667\n",
      "Epoch 64/100\n",
      "1/1 [==============================] - 0s 12ms/step - loss: 0.5333 - accuracy: 0.4667\n",
      "Epoch 65/100\n",
      "1/1 [==============================] - 0s 12ms/step - loss: 0.5333 - accuracy: 0.4667\n",
      "Epoch 66/100\n",
      "1/1 [==============================] - 0s 12ms/step - loss: 0.5333 - accuracy: 0.4667\n",
      "Epoch 67/100\n",
      "1/1 [==============================] - 0s 11ms/step - loss: 0.5333 - accuracy: 0.4667\n",
      "Epoch 68/100\n",
      "1/1 [==============================] - 0s 11ms/step - loss: 0.5333 - accuracy: 0.4667\n",
      "Epoch 69/100\n",
      "1/1 [==============================] - 0s 13ms/step - loss: 0.5333 - accuracy: 0.4667\n",
      "Epoch 70/100\n",
      "1/1 [==============================] - 0s 13ms/step - loss: 0.5333 - accuracy: 0.4667\n",
      "Epoch 71/100\n",
      "1/1 [==============================] - 0s 12ms/step - loss: 0.5333 - accuracy: 0.4667\n",
      "Epoch 72/100\n",
      "1/1 [==============================] - 0s 12ms/step - loss: 0.5333 - accuracy: 0.4667\n",
      "Epoch 73/100\n",
      "1/1 [==============================] - 0s 11ms/step - loss: 0.5333 - accuracy: 0.4667\n",
      "Epoch 74/100\n",
      "1/1 [==============================] - 0s 10ms/step - loss: 0.5333 - accuracy: 0.4667\n",
      "Epoch 75/100\n",
      "1/1 [==============================] - 0s 11ms/step - loss: 0.5333 - accuracy: 0.4667\n",
      "Epoch 76/100\n",
      "1/1 [==============================] - 0s 11ms/step - loss: 0.5333 - accuracy: 0.4667\n",
      "1/1 [==============================] - 0s 239ms/step - loss: 0.4000 - accuracy: 0.6000\n"
     ]
    },
    {
     "data": {
      "text/plain": [
       "[0.4000000059604645, 0.6000000238418579]"
      ]
     },
     "execution_count": 16,
     "metadata": {},
     "output_type": "execute_result"
    }
   ],
   "source": [
    "model6 = layerandnodes(512,1)\n",
    "model6.fit(X_train,y_train,epochs=100,callbacks=[early_stop])\n",
    "model6.evaluate(X_test,y_test)"
   ]
  },
  {
   "cell_type": "code",
   "execution_count": 29,
   "id": "6d8d03ef",
   "metadata": {},
   "outputs": [
    {
     "name": "stdout",
     "output_type": "stream",
     "text": [
      "Model: \"sequential_6\"\n",
      "_________________________________________________________________\n",
      " Layer (type)                Output Shape              Param #   \n",
      "=================================================================\n",
      " dense_12 (Dense)            (None, 512)               10752     \n",
      "                                                                 \n",
      " dense_13 (Dense)            (None, 1)                 513       \n",
      "                                                                 \n",
      "=================================================================\n",
      "Total params: 11265 (44.00 KB)\n",
      "Trainable params: 11265 (44.00 KB)\n",
      "Non-trainable params: 0 (0.00 Byte)\n",
      "_________________________________________________________________\n"
     ]
    }
   ],
   "source": [
    "model6.summary()"
   ]
  },
  {
   "cell_type": "markdown",
   "id": "c9892932",
   "metadata": {},
   "source": [
    "1028nodes"
   ]
  },
  {
   "cell_type": "code",
   "execution_count": 17,
   "id": "94418e01",
   "metadata": {},
   "outputs": [
    {
     "name": "stdout",
     "output_type": "stream",
     "text": [
      "Epoch 1/100\n",
      "1/1 [==============================] - 1s 874ms/step - loss: 0.3843 - accuracy: 0.5000\n",
      "Epoch 2/100\n",
      "1/1 [==============================] - 0s 12ms/step - loss: 0.5339 - accuracy: 0.4667\n",
      "1/1 [==============================] - 0s 245ms/step - loss: 0.4000 - accuracy: 0.6000\n"
     ]
    },
    {
     "data": {
      "text/plain": [
       "[0.4000000059604645, 0.6000000238418579]"
      ]
     },
     "execution_count": 17,
     "metadata": {},
     "output_type": "execute_result"
    }
   ],
   "source": [
    "model7 = layerandnodes(1028,1)\n",
    "model7.fit(X_train,y_train,epochs=100,callbacks=[early_stop])\n",
    "model7.evaluate(X_test,y_test)"
   ]
  },
  {
   "cell_type": "code",
   "execution_count": 31,
   "id": "983ad8f5",
   "metadata": {},
   "outputs": [
    {
     "name": "stdout",
     "output_type": "stream",
     "text": [
      "Model: \"sequential_7\"\n",
      "_________________________________________________________________\n",
      " Layer (type)                Output Shape              Param #   \n",
      "=================================================================\n",
      " dense_14 (Dense)            (None, 1028)              21588     \n",
      "                                                                 \n",
      " dense_15 (Dense)            (None, 1)                 1029      \n",
      "                                                                 \n",
      "=================================================================\n",
      "Total params: 22617 (88.35 KB)\n",
      "Trainable params: 22617 (88.35 KB)\n",
      "Non-trainable params: 0 (0.00 Byte)\n",
      "_________________________________________________________________\n"
     ]
    }
   ],
   "source": [
    "model7.summary()"
   ]
  },
  {
   "cell_type": "code",
   "execution_count": 32,
   "id": "2cfcb34f",
   "metadata": {},
   "outputs": [
    {
     "data": {
      "image/png": "[encoded data removed]",
      "text/plain": [
       "<Figure size 640x480 with 1 Axes>"
      ]
     },
     "metadata": {},
     "output_type": "display_data"
    }
   ],
   "source": [
    "import matplotlib.pyplot as plt\n",
    "# creating the barchart\n",
    "bar={'8_nodes':0.6000,'16_nodes':0.6999,'32_nodes':0.8000,'64_nodes':0.6000,'128_nodes':0.6000,'256_nodes':0.2000,'512_nodes':0.4000,'1028_nodes':0.2000}\n",
    "nodes = list(bar.keys())\n",
    "acc = list(bar.values())\n",
    "\n",
    "# creating the bar plot\n",
    "plt.bar(nodes, acc)\n",
    "\n",
    "plt.xlabel(\"Number of nodes\")\n",
    "plt.ylabel(\"Accuracy\")\n",
    "plt.title(\"Computing accuracy for different no. of nodes\")\n",
    "plt.show()"
   ]
  },
  {
   "cell_type": "markdown",
   "id": "0db2e3d4",
   "metadata": {},
   "source": [
    "### Step-5 Analysis part-b"
   ]
  },
  {
   "cell_type": "code",
   "execution_count": 33,
   "id": "31f46c50",
   "metadata": {
    "scrolled": true
   },
   "outputs": [
    {
     "name": "stdout",
     "output_type": "stream",
     "text": [
      "Epoch 1/100\n",
      "1/1 [==============================] - 1s 1s/step - loss: 0.4745 - accuracy: 0.5000\n",
      "Epoch 2/100\n",
      "1/1 [==============================] - 0s 21ms/step - loss: 0.4342 - accuracy: 0.5000\n",
      "Epoch 3/100\n",
      "1/1 [==============================] - 0s 16ms/step - loss: 0.3928 - accuracy: 0.5667\n",
      "Epoch 4/100\n",
      "1/1 [==============================] - 0s 14ms/step - loss: 0.3827 - accuracy: 0.6000\n",
      "Epoch 5/100\n",
      "1/1 [==============================] - 0s 15ms/step - loss: 0.3615 - accuracy: 0.6000\n",
      "Epoch 6/100\n",
      "1/1 [==============================] - 0s 13ms/step - loss: 0.3465 - accuracy: 0.6333\n",
      "Epoch 7/100\n",
      "1/1 [==============================] - 0s 14ms/step - loss: 0.2785 - accuracy: 0.7000\n",
      "Epoch 8/100\n",
      "1/1 [==============================] - 0s 13ms/step - loss: 0.2710 - accuracy: 0.7333\n",
      "Epoch 9/100\n",
      "1/1 [==============================] - 0s 15ms/step - loss: 0.2628 - accuracy: 0.7333\n",
      "Epoch 10/100\n",
      "1/1 [==============================] - 0s 14ms/step - loss: 0.2596 - accuracy: 0.7333\n",
      "Epoch 11/100\n",
      "1/1 [==============================] - 0s 12ms/step - loss: 0.2573 - accuracy: 0.7333\n",
      "Epoch 12/100\n",
      "1/1 [==============================] - 0s 14ms/step - loss: 0.2555 - accuracy: 0.7333\n",
      "Epoch 13/100\n",
      "1/1 [==============================] - 0s 15ms/step - loss: 0.2538 - accuracy: 0.7333\n",
      "Epoch 14/100\n",
      "1/1 [==============================] - 0s 12ms/step - loss: 0.2520 - accuracy: 0.7333\n",
      "Epoch 15/100\n",
      "1/1 [==============================] - 0s 16ms/step - loss: 0.2501 - accuracy: 0.7333\n",
      "Epoch 16/100\n",
      "1/1 [==============================] - 0s 12ms/step - loss: 0.2480 - accuracy: 0.7333\n",
      "Epoch 17/100\n",
      "1/1 [==============================] - 0s 13ms/step - loss: 0.2452 - accuracy: 0.7333\n",
      "Epoch 18/100\n",
      "1/1 [==============================] - 0s 14ms/step - loss: 0.2410 - accuracy: 0.7333\n",
      "Epoch 19/100\n",
      "1/1 [==============================] - 0s 12ms/step - loss: 0.2344 - accuracy: 0.7333\n",
      "Epoch 20/100\n",
      "1/1 [==============================] - 0s 15ms/step - loss: 0.2284 - accuracy: 0.7333\n",
      "Epoch 21/100\n",
      "1/1 [==============================] - 0s 14ms/step - loss: 0.2262 - accuracy: 0.7333\n",
      "Epoch 22/100\n",
      "1/1 [==============================] - 0s 14ms/step - loss: 0.2222 - accuracy: 0.7333\n",
      "Epoch 23/100\n",
      "1/1 [==============================] - 0s 13ms/step - loss: 0.2376 - accuracy: 0.7333\n",
      "1/1 [==============================] - 0s 252ms/step - loss: 0.4395 - accuracy: 0.5000\n"
     ]
    },
    {
     "data": {
      "text/plain": [
       "[0.4394885003566742, 0.5]"
      ]
     },
     "execution_count": 33,
     "metadata": {},
     "output_type": "execute_result"
    }
   ],
   "source": [
    "model9 = layerandnodes(32,2)\n",
    "model9.fit(X_train,y_train,epochs=100,callbacks=[early_stop])\n",
    "model9.evaluate(X_test,y_test)"
   ]
  },
  {
   "cell_type": "code",
   "execution_count": 34,
   "id": "59516b98",
   "metadata": {},
   "outputs": [
    {
     "name": "stdout",
     "output_type": "stream",
     "text": [
      "Model: \"sequential_8\"\n",
      "_________________________________________________________________\n",
      " Layer (type)                Output Shape              Param #   \n",
      "=================================================================\n",
      " dense_16 (Dense)            (None, 32)                672       \n",
      "                                                                 \n",
      " dense_17 (Dense)            (None, 32)                1056      \n",
      "                                                                 \n",
      " dense_18 (Dense)            (None, 1)                 33        \n",
      "                                                                 \n",
      "=================================================================\n",
      "Total params: 1761 (6.88 KB)\n",
      "Trainable params: 1761 (6.88 KB)\n",
      "Non-trainable params: 0 (0.00 Byte)\n",
      "_________________________________________________________________\n"
     ]
    }
   ],
   "source": [
    "model9.summary()"
   ]
  },
  {
   "cell_type": "code",
   "execution_count": 35,
   "id": "8660861c",
   "metadata": {
    "scrolled": true
   },
   "outputs": [
    {
     "name": "stdout",
     "output_type": "stream",
     "text": [
      "Epoch 1/100\n",
      "1/1 [==============================] - 1s 1s/step - loss: 0.2660 - accuracy: 0.7000\n",
      "Epoch 2/100\n",
      "1/1 [==============================] - 0s 16ms/step - loss: 0.3670 - accuracy: 0.6000\n",
      "1/1 [==============================] - 0s 259ms/step - loss: 0.6394 - accuracy: 0.3000\n"
     ]
    },
    {
     "data": {
      "text/plain": [
       "[0.6394017338752747, 0.30000001192092896]"
      ]
     },
     "execution_count": 35,
     "metadata": {},
     "output_type": "execute_result"
    }
   ],
   "source": [
    "model10 = layerandnodes(32,3)\n",
    "model10.fit(X_train,y_train,epochs=100,callbacks=[early_stop])\n",
    "model10.evaluate(X_test,y_test)"
   ]
  },
  {
   "cell_type": "code",
   "execution_count": 36,
   "id": "086dee24",
   "metadata": {},
   "outputs": [
    {
     "name": "stdout",
     "output_type": "stream",
     "text": [
      "Model: \"sequential_9\"\n",
      "_________________________________________________________________\n",
      " Layer (type)                Output Shape              Param #   \n",
      "=================================================================\n",
      " dense_19 (Dense)            (None, 32)                672       \n",
      "                                                                 \n",
      " dense_20 (Dense)            (None, 32)                1056      \n",
      "                                                                 \n",
      " dense_21 (Dense)            (None, 32)                1056      \n",
      "                                                                 \n",
      " dense_22 (Dense)            (None, 1)                 33        \n",
      "                                                                 \n",
      "=================================================================\n",
      "Total params: 2817 (11.00 KB)\n",
      "Trainable params: 2817 (11.00 KB)\n",
      "Non-trainable params: 0 (0.00 Byte)\n",
      "_________________________________________________________________\n"
     ]
    }
   ],
   "source": [
    "model10.summary()"
   ]
  },
  {
   "cell_type": "code",
   "execution_count": 37,
   "id": "bcd548e2",
   "metadata": {
    "scrolled": true
   },
   "outputs": [
    {
     "name": "stdout",
     "output_type": "stream",
     "text": [
      "Epoch 1/100\n",
      "1/1 [==============================] - 1s 1s/step - loss: 0.3966 - accuracy: 0.5333\n",
      "Epoch 2/100\n",
      "1/1 [==============================] - 0s 16ms/step - loss: 0.3481 - accuracy: 0.5333\n",
      "Epoch 3/100\n",
      "1/1 [==============================] - 0s 13ms/step - loss: 0.1988 - accuracy: 0.6667\n",
      "Epoch 4/100\n",
      "1/1 [==============================] - 0s 14ms/step - loss: 0.1947 - accuracy: 0.6333\n",
      "Epoch 5/100\n",
      "1/1 [==============================] - 0s 13ms/step - loss: 0.2503 - accuracy: 0.7000\n",
      "1/1 [==============================] - 0s 273ms/step - loss: 0.3578 - accuracy: 0.6000\n"
     ]
    },
    {
     "data": {
      "text/plain": [
       "[0.3578239381313324, 0.6000000238418579]"
      ]
     },
     "execution_count": 37,
     "metadata": {},
     "output_type": "execute_result"
    }
   ],
   "source": [
    "model11 = layerandnodes(32,4)\n",
    "model11.fit(X_train,y_train,epochs=100,callbacks=[early_stop])\n",
    "model11.evaluate(X_test,y_test)"
   ]
  },
  {
   "cell_type": "code",
   "execution_count": 38,
   "id": "498389f4",
   "metadata": {},
   "outputs": [
    {
     "name": "stdout",
     "output_type": "stream",
     "text": [
      "Model: \"sequential_10\"\n",
      "_________________________________________________________________\n",
      " Layer (type)                Output Shape              Param #   \n",
      "=================================================================\n",
      " dense_23 (Dense)            (None, 32)                672       \n",
      "                                                                 \n",
      " dense_24 (Dense)            (None, 32)                1056      \n",
      "                                                                 \n",
      " dense_25 (Dense)            (None, 32)                1056      \n",
      "                                                                 \n",
      " dense_26 (Dense)            (None, 32)                1056      \n",
      "                                                                 \n",
      " dense_27 (Dense)            (None, 1)                 33        \n",
      "                                                                 \n",
      "=================================================================\n",
      "Total params: 3873 (15.13 KB)\n",
      "Trainable params: 3873 (15.13 KB)\n",
      "Non-trainable params: 0 (0.00 Byte)\n",
      "_________________________________________________________________\n"
     ]
    }
   ],
   "source": [
    "model11.summary()"
   ]
  },
  {
   "cell_type": "code",
   "execution_count": 39,
   "id": "57ea7834",
   "metadata": {},
   "outputs": [
    {
     "name": "stdout",
     "output_type": "stream",
     "text": [
      "Epoch 1/100\n",
      "1/1 [==============================] - 2s 2s/step - loss: 0.3092 - accuracy: 0.5333\n",
      "Epoch 2/100\n",
      "1/1 [==============================] - 0s 16ms/step - loss: 0.2292 - accuracy: 0.6333\n",
      "Epoch 3/100\n",
      "1/1 [==============================] - 0s 13ms/step - loss: 0.1848 - accuracy: 0.6667\n",
      "Epoch 4/100\n",
      "1/1 [==============================] - 0s 15ms/step - loss: 0.1744 - accuracy: 0.6667\n",
      "Epoch 5/100\n",
      "1/1 [==============================] - 0s 16ms/step - loss: 0.1399 - accuracy: 0.7333\n",
      "Epoch 6/100\n",
      "1/1 [==============================] - 0s 16ms/step - loss: 0.1236 - accuracy: 0.8000\n",
      "Epoch 7/100\n",
      "1/1 [==============================] - 0s 13ms/step - loss: 0.1349 - accuracy: 0.6667\n",
      "1/1 [==============================] - 0s 288ms/step - loss: 0.4476 - accuracy: 0.4000\n"
     ]
    },
    {
     "data": {
      "text/plain": [
       "[0.4476081430912018, 0.4000000059604645]"
      ]
     },
     "execution_count": 39,
     "metadata": {},
     "output_type": "execute_result"
    }
   ],
   "source": [
    "model12 = layerandnodes(32,5)\n",
    "model12.fit(X_train,y_train,epochs=100,callbacks=[early_stop])\n",
    "model12.evaluate(X_test,y_test)"
   ]
  },
  {
   "cell_type": "code",
   "execution_count": 40,
   "id": "cd03ca42",
   "metadata": {},
   "outputs": [
    {
     "name": "stdout",
     "output_type": "stream",
     "text": [
      "Model: \"sequential_11\"\n",
      "_________________________________________________________________\n",
      " Layer (type)                Output Shape              Param #   \n",
      "=================================================================\n",
      " dense_28 (Dense)            (None, 32)                672       \n",
      "                                                                 \n",
      " dense_29 (Dense)            (None, 32)                1056      \n",
      "                                                                 \n",
      " dense_30 (Dense)            (None, 32)                1056      \n",
      "                                                                 \n",
      " dense_31 (Dense)            (None, 32)                1056      \n",
      "                                                                 \n",
      " dense_32 (Dense)            (None, 32)                1056      \n",
      "                                                                 \n",
      " dense_33 (Dense)            (None, 1)                 33        \n",
      "                                                                 \n",
      "=================================================================\n",
      "Total params: 4929 (19.25 KB)\n",
      "Trainable params: 4929 (19.25 KB)\n",
      "Non-trainable params: 0 (0.00 Byte)\n",
      "_________________________________________________________________\n"
     ]
    }
   ],
   "source": [
    "model12.summary()"
   ]
  },
  {
   "cell_type": "code",
   "execution_count": 41,
   "id": "dbc70ba0",
   "metadata": {},
   "outputs": [
    {
     "data": {
      "image/png": "[encoded data removed]",
      "text/plain": [
       "<Figure size 640x480 with 1 Axes>"
      ]
     },
     "metadata": {},
     "output_type": "display_data"
    }
   ],
   "source": [
    "layers={'layer_1':0.8000,'layer_2':0.5000,'layer_3':0.3000,'layer_4':0.6000,'layer_5':0.4000}\n",
    "nodes = list(layers.keys())\n",
    "acc = list(layers.values())\n",
    "plt.bar(nodes, acc)\n",
    "\n",
    "plt.xlabel(\"Number of layers\")\n",
    "plt.ylabel(\"Accuracy\")\n",
    "plt.title(\"Computing accuracy for different no. of layres\")\n",
    "plt.show()"
   ]
  },
  {
   "cell_type": "code",
   "execution_count": null,
   "id": "0ac9546d",
   "metadata": {},
   "outputs": [],
   "source": []
  }
 ],
 "metadata": {
  "kernelspec": {
   "display_name": "Python 3 (ipykernel)",
   "language": "python",
   "name": "python3"
  },
  "language_info": {
   "codemirror_mode": {
    "name": "ipython",
    "version": 3
   },
   "file_extension": ".py",
   "mimetype": "text/x-python",
   "name": "python",
   "nbconvert_exporter": "python",
   "pygments_lexer": "ipython3",
   "version": "3.11.3"
  }
 },
 "nbformat": 4,
 "nbformat_minor": 5
}
