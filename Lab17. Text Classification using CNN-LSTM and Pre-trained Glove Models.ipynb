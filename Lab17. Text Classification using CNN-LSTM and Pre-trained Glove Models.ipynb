{
 "cells": [
  {
   "cell_type": "markdown",
   "id": "a7e7208a",
   "metadata": {},
   "source": [
    "### PRAGADEESH M\n",
    "### 225229126"
   ]
  },
  {
   "cell_type": "code",
   "execution_count": 1,
   "id": "64c634ae",
   "metadata": {},
   "outputs": [],
   "source": [
    "import tensorflow as tf \n",
    "import numpy as np\n",
    "import pandas as pd \n",
    "import matplotlib.pyplot as plt\n",
    "import nltk\n",
    "import sklearn\n",
    "from sklearn.model_selection import train_test_split \n",
    "from tensorflow.keras.preprocessing.text import Tokenizer\n",
    "from tensorflow.keras.preprocessing.sequence import pad_sequences \n",
    "from tensorflow.keras.optimizers import RMSprop , Adam\n",
    "from keras.models import Sequential\n",
    "from keras.layers import *\n",
    "from nltk.corpus import stopwords "
   ]
  },
  {
   "cell_type": "code",
   "execution_count": 2,
   "id": "59509579",
   "metadata": {},
   "outputs": [
    {
     "data": {
      "text/html": [
       "<div>\n",
       "<style scoped>\n",
       "    .dataframe tbody tr th:only-of-type {\n",
       "        vertical-align: middle;\n",
       "    }\n",
       "\n",
       "    .dataframe tbody tr th {\n",
       "        vertical-align: top;\n",
       "    }\n",
       "\n",
       "    .dataframe thead th {\n",
       "        text-align: right;\n",
       "    }\n",
       "</style>\n",
       "<table border=\"1\" class=\"dataframe\">\n",
       "  <thead>\n",
       "    <tr style=\"text-align: right;\">\n",
       "      <th></th>\n",
       "      <th>category</th>\n",
       "      <th>text</th>\n",
       "    </tr>\n",
       "  </thead>\n",
       "  <tbody>\n",
       "    <tr>\n",
       "      <th>0</th>\n",
       "      <td>tech</td>\n",
       "      <td>tv future in the hands of viewers with home th...</td>\n",
       "    </tr>\n",
       "    <tr>\n",
       "      <th>1</th>\n",
       "      <td>business</td>\n",
       "      <td>worldcom boss  left books alone  former worldc...</td>\n",
       "    </tr>\n",
       "    <tr>\n",
       "      <th>2</th>\n",
       "      <td>sport</td>\n",
       "      <td>tigers wary of farrell  gamble  leicester say ...</td>\n",
       "    </tr>\n",
       "    <tr>\n",
       "      <th>3</th>\n",
       "      <td>sport</td>\n",
       "      <td>yeading face newcastle in fa cup premiership s...</td>\n",
       "    </tr>\n",
       "    <tr>\n",
       "      <th>4</th>\n",
       "      <td>entertainment</td>\n",
       "      <td>ocean s twelve raids box office ocean s twelve...</td>\n",
       "    </tr>\n",
       "  </tbody>\n",
       "</table>\n",
       "</div>"
      ],
      "text/plain": [
       "        category                                               text\n",
       "0           tech  tv future in the hands of viewers with home th...\n",
       "1       business  worldcom boss  left books alone  former worldc...\n",
       "2          sport  tigers wary of farrell  gamble  leicester say ...\n",
       "3          sport  yeading face newcastle in fa cup premiership s...\n",
       "4  entertainment  ocean s twelve raids box office ocean s twelve..."
      ]
     },
     "execution_count": 2,
     "metadata": {},
     "output_type": "execute_result"
    }
   ],
   "source": [
    "data = pd.read_csv(\"news20.csv\")\n",
    "data.head()"
   ]
  },
  {
   "cell_type": "code",
   "execution_count": 3,
   "id": "d0506bdb",
   "metadata": {},
   "outputs": [
    {
     "data": {
      "text/plain": [
       "(2225, 2)"
      ]
     },
     "execution_count": 3,
     "metadata": {},
     "output_type": "execute_result"
    }
   ],
   "source": [
    "data.shape"
   ]
  },
  {
   "cell_type": "code",
   "execution_count": 4,
   "id": "860d6286",
   "metadata": {},
   "outputs": [
    {
     "name": "stdout",
     "output_type": "stream",
     "text": [
      "<class 'pandas.core.frame.DataFrame'>\n",
      "RangeIndex: 2225 entries, 0 to 2224\n",
      "Data columns (total 2 columns):\n",
      " #   Column    Non-Null Count  Dtype \n",
      "---  ------    --------------  ----- \n",
      " 0   category  2225 non-null   object\n",
      " 1   text      2225 non-null   object\n",
      "dtypes: object(2)\n",
      "memory usage: 34.9+ KB\n"
     ]
    }
   ],
   "source": [
    "data.info()"
   ]
  },
  {
   "cell_type": "code",
   "execution_count": 5,
   "id": "f372651e",
   "metadata": {},
   "outputs": [],
   "source": [
    "english_stops = set(stopwords.words('english'))"
   ]
  },
  {
   "cell_type": "code",
   "execution_count": 6,
   "id": "c1c9a15a",
   "metadata": {},
   "outputs": [],
   "source": [
    "y =data['category'] \n",
    "X=[] \n",
    "for review in data['text']: \n",
    "    filtered_sentence = [w.lower() for w in review.split() if not w in english_stops ] \n",
    "    X.append(filtered_sentence)\n",
    "X = pd.Series(X) "
   ]
  },
  {
   "cell_type": "code",
   "execution_count": 7,
   "id": "3aa46b42",
   "metadata": {},
   "outputs": [
    {
     "data": {
      "text/plain": [
       "{'<oov>': 1,\n",
       " 'said': 2,\n",
       " '-': 3,\n",
       " 'mr': 4,\n",
       " 'would': 5,\n",
       " 'also': 6,\n",
       " 'people': 7,\n",
       " 'new': 8,\n",
       " 'us': 9,\n",
       " 'one': 10,\n",
       " 'could': 11,\n",
       " 'said.': 12,\n",
       " 'year': 13,\n",
       " 'last': 14,\n",
       " 'first': 15}"
      ]
     },
     "execution_count": 7,
     "metadata": {},
     "output_type": "execute_result"
    }
   ],
   "source": [
    "y_tokenizer = Tokenizer() \n",
    "y_tokenizer.fit_on_texts(y) \n",
    "y_seq = np.array(y_tokenizer.texts_to_sequences (y))\n",
    "X_token = Tokenizer(num_words=5000,oov_token='<oov>') \n",
    "X_token.fit_on_texts(X) \n",
    "word_index = X_token.word_index\n",
    "X_sequence = X_token.texts_to_sequences(X) \n",
    "dict(list(word_index.items())[0:15])"
   ]
  },
  {
   "cell_type": "code",
   "execution_count": 8,
   "id": "872c78bd",
   "metadata": {},
   "outputs": [
    {
     "name": "stdout",
     "output_type": "stream",
     "text": [
      "(2225, 1)\n",
      "(2225, 200)\n"
     ]
    }
   ],
   "source": [
    "X_padding= pad_sequences(X_sequence, maxlen=200, padding='post') \n",
    "print(y_seq.shape) \n",
    "print(X_padding.shape)"
   ]
  },
  {
   "cell_type": "code",
   "execution_count": 9,
   "id": "ea8436c6",
   "metadata": {},
   "outputs": [],
   "source": [
    "x_train, x_test, y_train, y_test = train_test_split(X_padding, y_seq, test_size = 0.2)"
   ]
  },
  {
   "cell_type": "code",
   "execution_count": 10,
   "id": "f0c67a43",
   "metadata": {},
   "outputs": [
    {
     "name": "stdout",
     "output_type": "stream",
     "text": [
      "Model: \"sequential\"\n",
      "_________________________________________________________________\n",
      " Layer (type)                Output Shape              Param #   \n",
      "=================================================================\n",
      " embedding (Embedding)       (None, None, 64)          320000    \n",
      "                                                                 \n",
      " lstm (LSTM)                 (None, 64)                33024     \n",
      "                                                                 \n",
      " dense (Dense)               (None, 64)                4160      \n",
      "                                                                 \n",
      " dense_1 (Dense)             (None, 6)                 390       \n",
      "                                                                 \n",
      "=================================================================\n",
      "Total params: 357574 (1.36 MB)\n",
      "Trainable params: 357574 (1.36 MB)\n",
      "Non-trainable params: 0 (0.00 Byte)\n",
      "_________________________________________________________________\n"
     ]
    }
   ],
   "source": [
    "vocab_size = 5000 \n",
    "embedding_dim = 64 \n",
    "max_length = 200\n",
    "model = Sequential() \n",
    "model.add(Embedding(vocab_size, embedding_dim)) \n",
    "model.add(LSTM(embedding_dim))\n",
    "model.add(Dense(embedding_dim, activation='tanh'))\n",
    "model.add(Dense(6,activation='softmax'))\n",
    "model. summary()"
   ]
  },
  {
   "cell_type": "code",
   "execution_count": 11,
   "id": "115ddc36",
   "metadata": {},
   "outputs": [
    {
     "name": "stdout",
     "output_type": "stream",
     "text": [
      "Epoch 1/20\n",
      "45/45 - 14s - loss: 1.6435 - accuracy: 0.2514 - val_loss: 1.5901 - val_accuracy: 0.2444 - 14s/epoch - 316ms/step\n",
      "Epoch 2/20\n",
      "45/45 - 7s - loss: 1.4629 - accuracy: 0.3581 - val_loss: 1.3056 - val_accuracy: 0.4270 - 7s/epoch - 159ms/step\n",
      "Epoch 3/20\n",
      "45/45 - 8s - loss: 1.2197 - accuracy: 0.4066 - val_loss: 2.1563 - val_accuracy: 0.3118 - 8s/epoch - 175ms/step\n",
      "Epoch 4/20\n",
      "45/45 - 10s - loss: 1.6528 - accuracy: 0.3329 - val_loss: 1.3889 - val_accuracy: 0.3371 - 10s/epoch - 230ms/step\n",
      "Epoch 5/20\n",
      "45/45 - 7s - loss: 1.2053 - accuracy: 0.4424 - val_loss: 1.6691 - val_accuracy: 0.3202 - 7s/epoch - 151ms/step\n",
      "Epoch 6/20\n",
      "45/45 - 7s - loss: 1.1893 - accuracy: 0.4698 - val_loss: 1.1787 - val_accuracy: 0.4298 - 7s/epoch - 153ms/step\n",
      "Epoch 7/20\n",
      "45/45 - 7s - loss: 1.0962 - accuracy: 0.5414 - val_loss: 1.2625 - val_accuracy: 0.4242 - 7s/epoch - 154ms/step\n",
      "Epoch 8/20\n",
      "45/45 - 7s - loss: 1.0884 - accuracy: 0.5485 - val_loss: 1.8789 - val_accuracy: 0.3006 - 7s/epoch - 152ms/step\n",
      "Epoch 9/20\n",
      "45/45 - 7s - loss: 1.0505 - accuracy: 0.5035 - val_loss: 1.1410 - val_accuracy: 0.4410 - 7s/epoch - 153ms/step\n",
      "Epoch 10/20\n",
      "45/45 - 7s - loss: 1.1096 - accuracy: 0.5049 - val_loss: 1.3858 - val_accuracy: 0.4045 - 7s/epoch - 151ms/step\n",
      "Epoch 11/20\n",
      "45/45 - 7s - loss: 0.9143 - accuracy: 0.5801 - val_loss: 1.1253 - val_accuracy: 0.4747 - 7s/epoch - 157ms/step\n",
      "Epoch 12/20\n",
      "45/45 - 7s - loss: 0.8332 - accuracy: 0.6138 - val_loss: 1.0587 - val_accuracy: 0.4888 - 7s/epoch - 150ms/step\n",
      "Epoch 13/20\n",
      "45/45 - 7s - loss: 0.7721 - accuracy: 0.6419 - val_loss: 1.0822 - val_accuracy: 0.4803 - 7s/epoch - 150ms/step\n",
      "Epoch 14/20\n",
      "45/45 - 7s - loss: 0.7011 - accuracy: 0.6931 - val_loss: 1.1689 - val_accuracy: 0.5056 - 7s/epoch - 153ms/step\n",
      "Epoch 15/20\n",
      "45/45 - 7s - loss: 0.7657 - accuracy: 0.6369 - val_loss: 1.0378 - val_accuracy: 0.5225 - 7s/epoch - 150ms/step\n",
      "Epoch 16/20\n",
      "45/45 - 7s - loss: 0.7298 - accuracy: 0.6798 - val_loss: 1.2224 - val_accuracy: 0.4860 - 7s/epoch - 150ms/step\n",
      "Epoch 17/20\n",
      "45/45 - 7s - loss: 0.8023 - accuracy: 0.6728 - val_loss: 0.8225 - val_accuracy: 0.7219 - 7s/epoch - 152ms/step\n",
      "Epoch 18/20\n",
      "45/45 - 7s - loss: 0.7452 - accuracy: 0.7240 - val_loss: 1.0383 - val_accuracy: 0.5758 - 7s/epoch - 150ms/step\n",
      "Epoch 19/20\n",
      "45/45 - 7s - loss: 0.6798 - accuracy: 0.7416 - val_loss: 0.8665 - val_accuracy: 0.6713 - 7s/epoch - 154ms/step\n",
      "Epoch 20/20\n",
      "45/45 - 7s - loss: 0.5761 - accuracy: 0.7704 - val_loss: 1.0178 - val_accuracy: 0.6461 - 7s/epoch - 152ms/step\n"
     ]
    }
   ],
   "source": [
    "model.compile(optimizer='adam',loss='sparse_categorical_crossentropy',metrics=['accuracy'])\n",
    "history = model.fit(x_train,y_train, epochs=20, verbose=2, validation_split=0.2)"
   ]
  },
  {
   "cell_type": "code",
   "execution_count": 12,
   "id": "30f8e82e",
   "metadata": {},
   "outputs": [
    {
     "name": "stdout",
     "output_type": "stream",
     "text": [
      "Model: \"sequential_1\"\n",
      "_________________________________________________________________\n",
      " Layer (type)                Output Shape              Param #   \n",
      "=================================================================\n",
      " embedding_1 (Embedding)     (None, None, 64)          320000    \n",
      "                                                                 \n",
      " conv1d (Conv1D)             (None, None, 32)          10272     \n",
      "                                                                 \n",
      " max_pooling1d (MaxPooling1  (None, None, 32)          0         \n",
      " D)                                                              \n",
      "                                                                 \n",
      " lstm_1 (LSTM)               (None, 64)                24832     \n",
      "                                                                 \n",
      " dense_2 (Dense)             (None, 128)               8320      \n",
      "                                                                 \n",
      " dense_3 (Dense)             (None, 6)                 774       \n",
      "                                                                 \n",
      "=================================================================\n",
      "Total params: 364198 (1.39 MB)\n",
      "Trainable params: 364198 (1.39 MB)\n",
      "Non-trainable params: 0 (0.00 Byte)\n",
      "_________________________________________________________________\n"
     ]
    }
   ],
   "source": [
    "model1 = Sequential() \n",
    "model1.add(Embedding(vocab_size, embedding_dim)) \n",
    "model1.add(Conv1D(filters=32, kernel_size=5, strides=1, activation='relu'))\n",
    "model1.add(MaxPooling1D((2))) \n",
    "model1.add(LSTM(embedding_dim)) \n",
    "model1.add(Dense(128, activation= 'relu'))\n",
    "model1.add(Dense(6, activation='softmax')) \n",
    "model1.summary()"
   ]
  },
  {
   "cell_type": "code",
   "execution_count": 13,
   "id": "2f213669",
   "metadata": {},
   "outputs": [
    {
     "name": "stdout",
     "output_type": "stream",
     "text": [
      "Epoch 1/20\n",
      "45/45 - 12s - loss: 1.6424 - accuracy: 0.2563 - val_loss: 1.5689 - val_accuracy: 0.3343 - 12s/epoch - 262ms/step\n",
      "Epoch 2/20\n",
      "45/45 - 4s - loss: 1.3598 - accuracy: 0.3617 - val_loss: 1.2377 - val_accuracy: 0.4017 - 4s/epoch - 91ms/step\n",
      "Epoch 3/20\n",
      "45/45 - 5s - loss: 1.1110 - accuracy: 0.4171 - val_loss: 1.2128 - val_accuracy: 0.3399 - 5s/epoch - 102ms/step\n",
      "Epoch 4/20\n",
      "45/45 - 4s - loss: 1.0370 - accuracy: 0.4803 - val_loss: 0.9303 - val_accuracy: 0.5506 - 4s/epoch - 94ms/step\n",
      "Epoch 5/20\n",
      "45/45 - 4s - loss: 0.8156 - accuracy: 0.5730 - val_loss: 0.8693 - val_accuracy: 0.5871 - 4s/epoch - 94ms/step\n",
      "Epoch 6/20\n",
      "45/45 - 4s - loss: 0.7669 - accuracy: 0.5878 - val_loss: 0.9167 - val_accuracy: 0.5337 - 4s/epoch - 94ms/step\n",
      "Epoch 7/20\n",
      "45/45 - 4s - loss: 0.7271 - accuracy: 0.6124 - val_loss: 0.8524 - val_accuracy: 0.5871 - 4s/epoch - 91ms/step\n",
      "Epoch 8/20\n",
      "45/45 - 4s - loss: 0.6842 - accuracy: 0.6390 - val_loss: 0.8838 - val_accuracy: 0.5899 - 4s/epoch - 90ms/step\n",
      "Epoch 9/20\n",
      "45/45 - 4s - loss: 0.6064 - accuracy: 0.7058 - val_loss: 0.7325 - val_accuracy: 0.7163 - 4s/epoch - 89ms/step\n",
      "Epoch 10/20\n",
      "45/45 - 4s - loss: 0.3846 - accuracy: 0.8694 - val_loss: 1.3970 - val_accuracy: 0.5646 - 4s/epoch - 89ms/step\n",
      "Epoch 11/20\n",
      "45/45 - 4s - loss: 0.5864 - accuracy: 0.7542 - val_loss: 0.7597 - val_accuracy: 0.6938 - 4s/epoch - 88ms/step\n",
      "Epoch 12/20\n",
      "45/45 - 4s - loss: 0.5965 - accuracy: 0.7423 - val_loss: 0.9662 - val_accuracy: 0.5955 - 4s/epoch - 89ms/step\n",
      "Epoch 13/20\n",
      "45/45 - 4s - loss: 0.4547 - accuracy: 0.7746 - val_loss: 1.2960 - val_accuracy: 0.6601 - 4s/epoch - 88ms/step\n",
      "Epoch 14/20\n",
      "45/45 - 4s - loss: 0.3195 - accuracy: 0.9024 - val_loss: 0.4736 - val_accuracy: 0.8764 - 4s/epoch - 89ms/step\n",
      "Epoch 15/20\n",
      "45/45 - 4s - loss: 0.1583 - accuracy: 0.9572 - val_loss: 0.4431 - val_accuracy: 0.8904 - 4s/epoch - 89ms/step\n",
      "Epoch 16/20\n",
      "45/45 - 4s - loss: 0.0906 - accuracy: 0.9761 - val_loss: 0.5063 - val_accuracy: 0.8848 - 4s/epoch - 88ms/step\n",
      "Epoch 17/20\n",
      "45/45 - 5s - loss: 0.0713 - accuracy: 0.9874 - val_loss: 0.5558 - val_accuracy: 0.8708 - 5s/epoch - 101ms/step\n",
      "Epoch 18/20\n",
      "45/45 - 4s - loss: 0.0695 - accuracy: 0.9853 - val_loss: 0.4693 - val_accuracy: 0.8961 - 4s/epoch - 97ms/step\n",
      "Epoch 19/20\n",
      "45/45 - 4s - loss: 0.1698 - accuracy: 0.9670 - val_loss: 0.4143 - val_accuracy: 0.9017 - 4s/epoch - 91ms/step\n",
      "Epoch 20/20\n",
      "45/45 - 4s - loss: 0.1892 - accuracy: 0.9487 - val_loss: 0.5028 - val_accuracy: 0.8680 - 4s/epoch - 89ms/step\n"
     ]
    }
   ],
   "source": [
    "model1.compile (optimizer='adam',loss='sparse_categorical_crossentropy', metrics=['accuracy'])\n",
    "history1 = model1.fit(x_train,y_train, epochs=20,validation_split=0.2, verbose=2) "
   ]
  },
  {
   "cell_type": "code",
   "execution_count": 21,
   "id": "1da9e77e",
   "metadata": {},
   "outputs": [],
   "source": [
    "from gensim.models import KeyedVectors\n",
    "from gensim.scripts.glove2word2vec import glove2word2vec"
   ]
  },
  {
   "cell_type": "code",
   "execution_count": 22,
   "id": "3ff9ffd2",
   "metadata": {},
   "outputs": [
    {
     "name": "stderr",
     "output_type": "stream",
     "text": [
      "C:\\Users\\8mpra\\AppData\\Local\\Temp\\ipykernel_5460\\889183730.py:3: DeprecationWarning: Call to deprecated `glove2word2vec` (KeyedVectors.load_word2vec_format(.., binary=False, no_header=True) loads GLoVE text vectors.).\n",
      "  glove2word2vec(glove_file, glove_word2vec_file)\n"
     ]
    }
   ],
   "source": [
    "glove_file = \"glove.6B.100d.txt\"\n",
    "glove_word2vec_file = \"glove.6B.100d.txt.word2vec\"\n",
    "glove2word2vec(glove_file, glove_word2vec_file)\n",
    "glove_embeddings = KeyedVectors.load_word2vec_format(glove_word2vec_file, binary=False)"
   ]
  },
  {
   "cell_type": "code",
   "execution_count": 26,
   "id": "859f4f10",
   "metadata": {},
   "outputs": [],
   "source": [
    "embedding_matrix = np.zeros((vocab_size, 300))\n",
    "for word, i in X_token.word_index.items():\n",
    "    try:\n",
    "        embedding_vector = glove_embeddings[word]\n",
    "        if embedding_vector is not None:\n",
    "            embedding_matrix[i] = embedding_vector \n",
    "    except:\n",
    "        pass"
   ]
  },
  {
   "cell_type": "code",
   "execution_count": null,
   "id": "bbb0827b",
   "metadata": {},
   "outputs": [],
   "source": [
    "model1 = Sequential() \n",
    "model1.add(Embedding(vocab_size, embedding_dim)) \n",
    "model1.add(Conv1D(filters=32, kernel_size=5, strides=1, activation='relu'))\n",
    "model1.add(MaxPooling1D((2))) \n",
    "model1.add(LSTM(embedding_dim)) \n",
    "model1.add(Dense(128, activation= 'relu'))\n",
    "model1.add(Dense(6, activation='softmax')) \n",
    "model1.summary()"
   ]
  },
  {
   "cell_type": "code",
   "execution_count": 27,
   "id": "f5d91d5f",
   "metadata": {},
   "outputs": [
    {
     "name": "stdout",
     "output_type": "stream",
     "text": [
      "Model: \"sequential_2\"\n",
      "_________________________________________________________________\n",
      " Layer (type)                Output Shape              Param #   \n",
      "=================================================================\n",
      " embedding_2 (Embedding)     (None, 200, 300)          1500000   \n",
      "                                                                 \n",
      " conv1d_1 (Conv1D)           (None, 196, 32)           48032     \n",
      "                                                                 \n",
      " max_pooling1d_1 (MaxPoolin  (None, 98, 32)            0         \n",
      " g1D)                                                            \n",
      "                                                                 \n",
      " lstm_2 (LSTM)               (None, 50)                16600     \n",
      "                                                                 \n",
      " dense_4 (Dense)             (None, 128)               6528      \n",
      "                                                                 \n",
      " dense_5 (Dense)             (None, 6)                 774       \n",
      "                                                                 \n",
      "=================================================================\n",
      "Total params: 1571934 (6.00 MB)\n",
      "Trainable params: 71934 (280.99 KB)\n",
      "Non-trainable params: 1500000 (5.72 MB)\n",
      "_________________________________________________________________\n"
     ]
    }
   ],
   "source": [
    "model2 = Sequential()\n",
    "model2.add(Embedding(vocab_size, 300, weights=[embedding_matrix], input_length=max_length, trainable=False))\n",
    "model2.add(Conv1D(filters=32, kernel_size=5, strides=1, activation='relu'))\n",
    "model2.add(MaxPooling1D((2))) \n",
    "model2.add(LSTM(embedding_dim)) \n",
    "model2.add(Dense(128, activation= 'relu'))\n",
    "model2.add(Dense(6, activation='softmax')) \n",
    "model2.summary()"
   ]
  },
  {
   "cell_type": "code",
   "execution_count": 30,
   "id": "9eaa526f",
   "metadata": {},
   "outputs": [
    {
     "name": "stdout",
     "output_type": "stream",
     "text": [
      "Epoch 1/5\n",
      "45/45 - 12s - loss: 1.6754 - accuracy: 0.2338 - val_loss: 1.6813 - val_accuracy: 0.2022 - 12s/epoch - 263ms/step\n",
      "Epoch 2/5\n",
      "45/45 - 5s - loss: 1.6716 - accuracy: 0.2338 - val_loss: 1.6780 - val_accuracy: 0.2022 - 5s/epoch - 116ms/step\n",
      "Epoch 3/5\n",
      "45/45 - 5s - loss: 1.6682 - accuracy: 0.2338 - val_loss: 1.6749 - val_accuracy: 0.2022 - 5s/epoch - 116ms/step\n",
      "Epoch 4/5\n",
      "45/45 - 5s - loss: 1.6650 - accuracy: 0.2338 - val_loss: 1.6721 - val_accuracy: 0.2022 - 5s/epoch - 115ms/step\n",
      "Epoch 5/5\n",
      "45/45 - 5s - loss: 1.6621 - accuracy: 0.2338 - val_loss: 1.6691 - val_accuracy: 0.2022 - 5s/epoch - 122ms/step\n"
     ]
    }
   ],
   "source": [
    "model2.compile(optimizer='adam', loss='sparse_categorical_crossentropy', metrics=['accuracy'])\n",
    "history2 = model2.fit(x_train,y_train, epochs=5, verbose=2, validation_split=0.2)"
   ]
  },
  {
   "cell_type": "code",
   "execution_count": null,
   "id": "c0faf62a",
   "metadata": {},
   "outputs": [],
   "source": []
  }
 ],
 "metadata": {
  "kernelspec": {
   "display_name": "Python 3 (ipykernel)",
   "language": "python",
   "name": "python3"
  },
  "language_info": {
   "codemirror_mode": {
    "name": "ipython",
    "version": 3
   },
   "file_extension": ".py",
   "mimetype": "text/x-python",
   "name": "python",
   "nbconvert_exporter": "python",
   "pygments_lexer": "ipython3",
   "version": "3.11.3"
  }
 },
 "nbformat": 4,
 "nbformat_minor": 5
}
