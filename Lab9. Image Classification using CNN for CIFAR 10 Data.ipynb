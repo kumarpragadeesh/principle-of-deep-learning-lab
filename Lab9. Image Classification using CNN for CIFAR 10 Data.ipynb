{
 "cells": [
  {
   "cell_type": "markdown",
   "id": "ff8f51b4",
   "metadata": {},
   "source": [
    "### PRAGADEESH M\n",
    "## 2252299126"
   ]
  },
  {
   "cell_type": "markdown",
   "id": "e3fd966a-0c4b-429d-8620-e0f848fdcc68",
   "metadata": {
    "id": "e3fd966a-0c4b-429d-8620-e0f848fdcc68"
   },
   "source": [
    "##### 1. Import Libraries\n"
   ]
  },
  {
   "cell_type": "code",
   "execution_count": 1,
   "id": "e96ed8f4-9a95-4807-82e5-cbe60f9a1629",
   "metadata": {
    "id": "e96ed8f4-9a95-4807-82e5-cbe60f9a1629"
   },
   "outputs": [],
   "source": [
    "from __future__ import print_function\n",
    "import keras\n",
    "from keras.datasets import cifar10\n",
    "from keras.preprocessing.image import ImageDataGenerator\n",
    "from keras.models import Sequential\n",
    "from keras.layers import Dense, Dropout, Activation, Flatten\n",
    "from keras.layers import Conv2D, MaxPooling2D\n",
    "import matplotlib.pyplot as plt\n",
    "%matplotlib inline"
   ]
  },
  {
   "cell_type": "markdown",
   "id": "5ab9bb2b-fa18-4039-9c95-e89e7231bb6b",
   "metadata": {
    "id": "5ab9bb2b-fa18-4039-9c95-e89e7231bb6b"
   },
   "source": [
    "##### 2. Load your data and print the space of training and test samples"
   ]
  },
  {
   "cell_type": "code",
   "execution_count": 2,
   "id": "866d1276-822c-47db-8410-58bbb5b26a6c",
   "metadata": {
    "colab": {
     "base_uri": "https://localhost:8080/"
    },
    "id": "866d1276-822c-47db-8410-58bbb5b26a6c",
    "outputId": "0a0a30a7-ba54-4b0d-f602-7e0286c10f9c"
   },
   "outputs": [
    {
     "name": "stdout",
     "output_type": "stream",
     "text": [
      "X_train: (50000, 32, 32, 3)\n",
      "50000 train samples\n",
      "10000 test samples\n"
     ]
    }
   ],
   "source": [
    "(x_train,y_train), (x_test, y_test)= cifar10.load_data()\n",
    "print('X_train:', x_train.shape)\n",
    "print(x_train.shape[0],'train samples')\n",
    "print(x_test.shape[0], 'test samples')"
   ]
  },
  {
   "cell_type": "markdown",
   "id": "dade894d-d329-4a2a-9158-19c16c6d9947",
   "metadata": {
    "id": "dade894d-d329-4a2a-9158-19c16c6d9947"
   },
   "source": [
    "##### 3. Print the shape of one image (is it 32* 32 * 3 numpy array ?)"
   ]
  },
  {
   "cell_type": "code",
   "execution_count": 3,
   "id": "342c4750-a4a4-4dd1-9fa8-719e32137afa",
   "metadata": {
    "colab": {
     "base_uri": "https://localhost:8080/"
    },
    "id": "342c4750-a4a4-4dd1-9fa8-719e32137afa",
    "outputId": "3fcaae7b-7202-4a64-d5db-ba2e05d681b5"
   },
   "outputs": [
    {
     "data": {
      "text/plain": [
       "(32, 32, 3)"
      ]
     },
     "execution_count": 3,
     "metadata": {},
     "output_type": "execute_result"
    }
   ],
   "source": [
    "x_train[444].shape"
   ]
  },
  {
   "cell_type": "markdown",
   "id": "67bcbbde-b6e5-41f9-bab7-54717082a6bd",
   "metadata": {
    "id": "67bcbbde-b6e5-41f9-bab7-54717082a6bd"
   },
   "source": [
    "##### 4. Display one image using imshow() function"
   ]
  },
  {
   "cell_type": "code",
   "execution_count": 4,
   "id": "11140b63-af4d-430b-a6cd-6a6a74a9a354",
   "metadata": {
    "colab": {
     "base_uri": "https://localhost:8080/",
     "height": 465
    },
    "id": "11140b63-af4d-430b-a6cd-6a6a74a9a354",
    "outputId": "0b1a043a-2f55-4a5a-93ec-d388d6e51318"
   },
   "outputs": [
    {
     "name": "stdout",
     "output_type": "stream",
     "text": [
      "[9]\n"
     ]
    },
    {
     "data": {
      "text/plain": [
       "<matplotlib.image.AxesImage at 0x288247e8ed0>"
      ]
     },
     "execution_count": 4,
     "metadata": {},
     "output_type": "execute_result"
    },
    {
     "data": {
      "image/png": "[encoded data removed]",
      "text/plain": [
       "<Figure size 640x480 with 1 Axes>"
      ]
     },
     "metadata": {},
     "output_type": "display_data"
    }
   ],
   "source": [
    "print(y_train[444])\n",
    "plt.imshow(x_train[444])"
   ]
  },
  {
   "cell_type": "markdown",
   "id": "de105e1b-9291-4df1-812c-79a6ea42a876",
   "metadata": {
    "id": "de105e1b-9291-4df1-812c-79a6ea42a876"
   },
   "source": [
    "##### 5. Convert y_train and y_test into categorical values\n"
   ]
  },
  {
   "cell_type": "code",
   "execution_count": 5,
   "id": "ec93676d-6d20-41c5-915a-ddeca2846142",
   "metadata": {
    "colab": {
     "base_uri": "https://localhost:8080/"
    },
    "id": "ec93676d-6d20-41c5-915a-ddeca2846142",
    "outputId": "4bb69fcd-8877-4c71-d4a7-50b10bd915e6"
   },
   "outputs": [
    {
     "data": {
      "text/plain": [
       "array([0., 0., 0., 0., 0., 0., 0., 0., 0., 1.], dtype=float32)"
      ]
     },
     "execution_count": 5,
     "metadata": {},
     "output_type": "execute_result"
    }
   ],
   "source": [
    "num_classes = 10\n",
    "y_train = keras.utils.to_categorical(y_train, num_classes)\n",
    "y_test = keras.utils.to_categorical(y_test, num_classes)\n",
    "\n",
    "# now instead of classes described by an integer between 0-9 we have a vector with a 1 in the (Pythonic) 9th position\n",
    "y_train[444]"
   ]
  },
  {
   "cell_type": "markdown",
   "id": "bb3ffd41-61f3-4f97-8235-8b9e4dd13d86",
   "metadata": {
    "id": "bb3ffd41-61f3-4f97-8235-8b9e4dd13d86"
   },
   "source": [
    "##### 6. Convert train data into float and scale"
   ]
  },
  {
   "cell_type": "code",
   "execution_count": 6,
   "id": "b3c637ca-fac0-45b9-b732-0648d5267dce",
   "metadata": {
    "id": "b3c637ca-fac0-45b9-b732-0648d5267dce"
   },
   "outputs": [],
   "source": [
    "x_train = x_train.astype('float32')\n",
    "x_test = x_test.astype('float32')\n",
    "x_train /= 255\n",
    "x_test /= 255"
   ]
  },
  {
   "cell_type": "markdown",
   "id": "35158192-f9a3-405a-8698-6740cb5f24c3",
   "metadata": {
    "id": "35158192-f9a3-405a-8698-6740cb5f24c3"
   },
   "source": [
    "##### 7. Build your first CNN"
   ]
  },
  {
   "cell_type": "code",
   "execution_count": 7,
   "id": "6a77412f-8e4e-4331-898e-4831178e2b68",
   "metadata": {
    "colab": {
     "base_uri": "https://localhost:8080/",
     "height": 390
    },
    "id": "6a77412f-8e4e-4331-898e-4831178e2b68",
    "outputId": "9624942c-b930-48de-b5a9-4e8867e31094"
   },
   "outputs": [],
   "source": [
    "model = Sequential()\n",
    "model.add(Conv2D(32, (5, 5), strides=(2, 2), activation='relu', padding='same', input_shape=(32, 32, 3)))\n",
    "model.add(Conv2D(32, (5, 5), strides=(3,3), activation='relu', padding='same'))\n",
    "model.add(MaxPooling2D(pool_size=(2, 2)))\n",
    "model.add(Dropout(0.25))\n",
    "model.add(Flatten())\n",
    "model.add(Dense(512, activation='relu'))\n",
    "model.add(Dropout(0.5))\n",
    "model.add(Dense(10, activation='softmax'))"
   ]
  },
  {
   "cell_type": "markdown",
   "id": "6742b489-c9f1-4d56-ab68-e99849f3b45f",
   "metadata": {
    "id": "6742b489-c9f1-4d56-ab68-e99849f3b45f"
   },
   "source": [
    "##### 8. Print summary and verify your configuration (total params:181,162)"
   ]
  },
  {
   "cell_type": "code",
   "execution_count": 8,
   "id": "1adfbe95-0e29-4324-aed2-ecb1f130c644",
   "metadata": {
    "colab": {
     "base_uri": "https://localhost:8080/",
     "height": 297
    },
    "id": "1adfbe95-0e29-4324-aed2-ecb1f130c644",
    "outputId": "077e73d9-e10c-465e-afd1-499b75035bf7"
   },
   "outputs": [
    {
     "name": "stdout",
     "output_type": "stream",
     "text": [
      "Model: \"sequential\"\n",
      "_________________________________________________________________\n",
      " Layer (type)                Output Shape              Param #   \n",
      "=================================================================\n",
      " conv2d (Conv2D)             (None, 16, 16, 32)        2432      \n",
      "                                                                 \n",
      " conv2d_1 (Conv2D)           (None, 6, 6, 32)          25632     \n",
      "                                                                 \n",
      " max_pooling2d (MaxPooling2  (None, 3, 3, 32)          0         \n",
      " D)                                                              \n",
      "                                                                 \n",
      " dropout (Dropout)           (None, 3, 3, 32)          0         \n",
      "                                                                 \n",
      " flatten (Flatten)           (None, 288)               0         \n",
      "                                                                 \n",
      " dense (Dense)               (None, 512)               147968    \n",
      "                                                                 \n",
      " dropout_1 (Dropout)         (None, 512)               0         \n",
      "                                                                 \n",
      " dense_1 (Dense)             (None, 10)                5130      \n",
      "                                                                 \n",
      "=================================================================\n",
      "Total params: 181162 (707.66 KB)\n",
      "Trainable params: 181162 (707.66 KB)\n",
      "Non-trainable params: 0 (0.00 Byte)\n",
      "_________________________________________________________________\n"
     ]
    }
   ],
   "source": [
    "model.summary()"
   ]
  },
  {
   "cell_type": "markdown",
   "id": "99c4575e-f372-4217-979b-8635c2a2cba7",
   "metadata": {
    "id": "99c4575e-f372-4217-979b-8635c2a2cba7"
   },
   "source": [
    "##### 9. Compile and fit and validate your model with the following parameters"
   ]
  },
  {
   "cell_type": "code",
   "execution_count": 10,
   "id": "tbtag9k4S0VX",
   "metadata": {
    "id": "tbtag9k4S0VX"
   },
   "outputs": [],
   "source": [
    "from tensorflow.keras.optimizers import RMSprop"
   ]
  },
  {
   "cell_type": "code",
   "execution_count": 10,
   "id": "0a0cc803",
   "metadata": {
    "colab": {
     "base_uri": "https://localhost:8080/"
    },
    "id": "30f8ac7d-7009-4175-8c1c-720224788246",
    "outputId": "0c4aecb5-379e-427d-8732-6450058ad6c4"
   },
   "outputs": [
    {
     "name": "stdout",
     "output_type": "stream",
     "text": [
      "Epoch 1/15\n",
      "1563/1563 [==============================] - 37s 22ms/step - loss: 1.7708 - accuracy: 0.3546\n",
      "Epoch 2/15\n",
      "1563/1563 [==============================] - 35s 22ms/step - loss: 1.4996 - accuracy: 0.4556\n",
      "Epoch 3/15\n",
      "1563/1563 [==============================] - 35s 22ms/step - loss: 1.4007 - accuracy: 0.4986\n",
      "Epoch 4/15\n",
      "1563/1563 [==============================] - 35s 22ms/step - loss: 1.3370 - accuracy: 0.5237\n",
      "Epoch 5/15\n",
      "1563/1563 [==============================] - 35s 22ms/step - loss: 1.2920 - accuracy: 0.5411\n",
      "Epoch 6/15\n",
      "1563/1563 [==============================] - 35s 22ms/step - loss: 1.2549 - accuracy: 0.5554\n",
      "Epoch 7/15\n",
      "1563/1563 [==============================] - 35s 22ms/step - loss: 1.2214 - accuracy: 0.5699\n",
      "Epoch 8/15\n",
      "1563/1563 [==============================] - 35s 22ms/step - loss: 1.1981 - accuracy: 0.5761\n",
      "Epoch 9/15\n",
      "1563/1563 [==============================] - 35s 22ms/step - loss: 1.1790 - accuracy: 0.5846\n",
      "Epoch 10/15\n",
      "1563/1563 [==============================] - 35s 22ms/step - loss: 1.1628 - accuracy: 0.5934\n",
      "Epoch 11/15\n",
      "1563/1563 [==============================] - 35s 22ms/step - loss: 1.1508 - accuracy: 0.5978\n",
      "Epoch 12/15\n",
      "1563/1563 [==============================] - 35s 22ms/step - loss: 1.1480 - accuracy: 0.6025\n",
      "Epoch 13/15\n",
      "1563/1563 [==============================] - 35s 22ms/step - loss: 1.1300 - accuracy: 0.6082\n",
      "Epoch 14/15\n",
      "1563/1563 [==============================] - 35s 22ms/step - loss: 1.1244 - accuracy: 0.6126\n",
      "Epoch 15/15\n",
      "1563/1563 [==============================] - 35s 22ms/step - loss: 1.1312 - accuracy: 0.6104\n"
     ]
    },
    {
     "data": {
      "text/plain": [
       "<keras.src.callbacks.History at 0x193d459f390>"
      ]
     },
     "execution_count": 10,
     "metadata": {},
     "output_type": "execute_result"
    }
   ],
   "source": [
    "model.compile(optimizer=RMSprop(learning_rate=0.0005,weight_decay=1e-6),loss='categorical_crossentropy',metrics=['accuracy'])\n",
    "model.fit(x_train,y_train,batch_size=32,epochs=15,shuffle=True)"
   ]
  },
  {
   "cell_type": "code",
   "execution_count": 11,
   "id": "433e14b9-54cf-449e-b3d1-ade031f094e1",
   "metadata": {
    "colab": {
     "base_uri": "https://localhost:8080/",
     "height": 321
    },
    "id": "433e14b9-54cf-449e-b3d1-ade031f094e1",
    "outputId": "2aba1b5d-552c-4895-eb64-d0ad59c13432"
   },
   "outputs": [
    {
     "name": "stdout",
     "output_type": "stream",
     "text": [
      "313/313 [==============================] - 3s 9ms/step - loss: 1.1265 - accuracy: 0.6035\n"
     ]
    },
    {
     "data": {
      "text/plain": [
       "[1.1264910697937012, 0.6035000085830688]"
      ]
     },
     "execution_count": 11,
     "metadata": {},
     "output_type": "execute_result"
    }
   ],
   "source": [
    "model.evaluate(x_test, y_test)"
   ]
  },
  {
   "cell_type": "markdown",
   "id": "39a49b32-fc1b-444a-981c-bc779762c24b",
   "metadata": {
    "id": "39a49b32-fc1b-444a-981c-bc779762c24b"
   },
   "source": [
    "#### Part-II Model Improvements"
   ]
  },
  {
   "cell_type": "markdown",
   "id": "79d26c71-117d-42a9-b8ea-c73bd5075108",
   "metadata": {
    "id": "79d26c71-117d-42a9-b8ea-c73bd5075108"
   },
   "source": [
    "##### 1. Build a more complicated model with the following pattern: Conv -> Conv-> MaxPool -> Conv-> Conv -> MaxPool -> (Flatten) -> Dense -> Final Classification"
   ]
  },
  {
   "cell_type": "markdown",
   "id": "b7d892ab-c38b-41ef-9ac5-4b32a01d97e7",
   "metadata": {
    "id": "b7d892ab-c38b-41ef-9ac5-4b32a01d97e7"
   },
   "source": [
    "##### 2. Use strides of 1 for all convolutional layers."
   ]
  },
  {
   "cell_type": "code",
   "execution_count": 19,
   "id": "77292b0c",
   "metadata": {},
   "outputs": [],
   "source": [
    "model1 = Sequential()\n",
    "model1.add(Conv2D(32, (5, 5), strides=(1,1), activation='relu', padding='same', input_shape=(32, 32, 3)))\n",
    "model1.add(Conv2D(32, (5, 5), strides=(1,1), activation='relu', padding='same'))\n",
    "model1.add(MaxPooling2D(pool_size=(2, 2)))\n",
    "model1.add(Dropout(0.25))\n",
    "model1.add(Flatten())\n",
    "model1.add(Dense(512, activation='relu'))\n",
    "model1.add(Dropout(0.5))\n",
    "model1.add(Dense(10, activation='softmax'))"
   ]
  },
  {
   "cell_type": "markdown",
   "id": "e79c9ed1-2d2a-45b0-9d4e-5220b85c0840",
   "metadata": {
    "id": "e79c9ed1-2d2a-45b0-9d4e-5220b85c0840"
   },
   "source": [
    "#####  3. How many parameters does your model have? How does that compare to the previous model?"
   ]
  },
  {
   "cell_type": "code",
   "execution_count": 20,
   "id": "d3073328-23bf-4af2-af4f-d939c5f8ce8c",
   "metadata": {
    "id": "d3073328-23bf-4af2-af4f-d939c5f8ce8c"
   },
   "outputs": [
    {
     "name": "stdout",
     "output_type": "stream",
     "text": [
      "Model: \"sequential_4\"\n",
      "_________________________________________________________________\n",
      " Layer (type)                Output Shape              Param #   \n",
      "=================================================================\n",
      " conv2d_8 (Conv2D)           (None, 32, 32, 32)        2432      \n",
      "                                                                 \n",
      " conv2d_9 (Conv2D)           (None, 32, 32, 32)        25632     \n",
      "                                                                 \n",
      " max_pooling2d_4 (MaxPoolin  (None, 16, 16, 32)        0         \n",
      " g2D)                                                            \n",
      "                                                                 \n",
      " dropout_8 (Dropout)         (None, 16, 16, 32)        0         \n",
      "                                                                 \n",
      " flatten_4 (Flatten)         (None, 8192)              0         \n",
      "                                                                 \n",
      " dense_8 (Dense)             (None, 512)               4194816   \n",
      "                                                                 \n",
      " dropout_9 (Dropout)         (None, 512)               0         \n",
      "                                                                 \n",
      " dense_9 (Dense)             (None, 10)                5130      \n",
      "                                                                 \n",
      "=================================================================\n",
      "Total params: 4228010 (16.13 MB)\n",
      "Trainable params: 4228010 (16.13 MB)\n",
      "Non-trainable params: 0 (0.00 Byte)\n",
      "_________________________________________________________________\n"
     ]
    }
   ],
   "source": [
    "model1.summary()"
   ]
  },
  {
   "cell_type": "markdown",
   "id": "a22bd693-8c08-4100-b3c5-8242d3621959",
   "metadata": {
    "id": "a22bd693-8c08-4100-b3c5-8242d3621959"
   },
   "source": [
    "##### 4. Train it for 5 epochs. What do you notice about the training time, loss and accuracy numbers (on both the training and validation sets)?"
   ]
  },
  {
   "cell_type": "code",
   "execution_count": null,
   "id": "25daf05d-6622-42e5-ac3a-f93f5f4f39c2",
   "metadata": {
    "id": "25daf05d-6622-42e5-ac3a-f93f5f4f39c2"
   },
   "outputs": [
    {
     "name": "stdout",
     "output_type": "stream",
     "text": [
      "Epoch 1/5\n",
      "157/157 [==============================] - ETA: 0s - loss: 1.0605 - accuracy: 0.6251"
     ]
    }
   ],
   "source": [
    "model1.compile(optimizer=RMSprop(learning_rate=0.0005,weight_decay=1e-6),loss='categorical_crossentropy',metrics=['accuracy'])\n",
    "model1.fit(x_train,y_train,batch_size=32,epochs=5,validation_split=0.9,shuffle=True)"
   ]
  },
  {
   "cell_type": "markdown",
   "id": "f11a6697",
   "metadata": {},
   "source": [
    "##### 5. try different structures "
   ]
  },
  {
   "cell_type": "code",
   "execution_count": 7,
   "id": "d5eee600-badb-4e43-a7d3-377f6cce444d",
   "metadata": {
    "id": "d5eee600-badb-4e43-a7d3-377f6cce444d"
   },
   "outputs": [],
   "source": [
    "model2 = Sequential()\n",
    "model2.add(Conv2D(filters=64, kernel_size=(5,5),strides=(1,1),activation='relu', padding='same', input_shape=(32,32,3)))\n",
    "model2.add(Conv2D(filters=32, kernel_size=(4,4),strides=(1,1),activation='relu', padding='same', input_shape=(32,32,3)))\n",
    "model2.add(MaxPooling2D(pool_size=(2,2)))\n",
    "model2.add(Conv2D(filters=64, kernel_size=(5,5),strides=(1,1),activation='relu', padding='same', input_shape=(32,32,3)))\n",
    "model2.add(Conv2D(filters=32, kernel_size=(4,4),strides=(1,1),activation='relu', padding='same', input_shape=(32,32,3)))\n",
    "model2.add(MaxPooling2D(pool_size=(2,2)))\n",
    "model2.add(Flatten())\n",
    "model2.add(Dense(512, activation='relu'))\n",
    "model2.add(Dense(256, activation='relu'))\n",
    "model2.add(Dense(10, activation='softmax'))"
   ]
  },
  {
   "cell_type": "code",
   "execution_count": 8,
   "id": "6df9b661",
   "metadata": {},
   "outputs": [
    {
     "name": "stdout",
     "output_type": "stream",
     "text": [
      "Model: \"sequential\"\n",
      "_________________________________________________________________\n",
      " Layer (type)                Output Shape              Param #   \n",
      "=================================================================\n",
      " conv2d (Conv2D)             (None, 32, 32, 64)        4864      \n",
      "                                                                 \n",
      " conv2d_1 (Conv2D)           (None, 32, 32, 32)        32800     \n",
      "                                                                 \n",
      " max_pooling2d (MaxPooling2  (None, 16, 16, 32)        0         \n",
      " D)                                                              \n",
      "                                                                 \n",
      " conv2d_2 (Conv2D)           (None, 16, 16, 64)        51264     \n",
      "                                                                 \n",
      " conv2d_3 (Conv2D)           (None, 16, 16, 32)        32800     \n",
      "                                                                 \n",
      " max_pooling2d_1 (MaxPoolin  (None, 8, 8, 32)          0         \n",
      " g2D)                                                            \n",
      "                                                                 \n",
      " flatten (Flatten)           (None, 2048)              0         \n",
      "                                                                 \n",
      " dense (Dense)               (None, 512)               1049088   \n",
      "                                                                 \n",
      " dense_1 (Dense)             (None, 256)               131328    \n",
      "                                                                 \n",
      " dense_2 (Dense)             (None, 10)                2570      \n",
      "                                                                 \n",
      "=================================================================\n",
      "Total params: 1304714 (4.98 MB)\n",
      "Trainable params: 1304714 (4.98 MB)\n",
      "Non-trainable params: 0 (0.00 Byte)\n",
      "_________________________________________________________________\n"
     ]
    }
   ],
   "source": [
    "model2.summary()"
   ]
  },
  {
   "cell_type": "code",
   "execution_count": null,
   "id": "62ae27fb",
   "metadata": {},
   "outputs": [
    {
     "name": "stdout",
     "output_type": "stream",
     "text": [
      "Epoch 1/5\n",
      "1563/1563 [==============================] - 617s 393ms/step - loss: 1.5218 - accuracy: 0.4480\n",
      "Epoch 2/5\n",
      "1563/1563 [==============================] - 1245s 797ms/step - loss: 0.9904 - accuracy: 0.6509\n",
      "Epoch 3/5\n",
      "  65/1563 [>.............................] - ETA: 10:30 - loss: 0.8259 - accuracy: 0.7139"
     ]
    }
   ],
   "source": [
    "model2.compile(optimizer=RMSprop(learning_rate=0.0005,weight_decay=1e-6),loss='categorical_crossentropy',metrics=['accuracy'])\n",
    "model2.fit(x_train,y_train,batch_size=32,epochs=5,shuffle=True)"
   ]
  },
  {
   "cell_type": "code",
   "execution_count": null,
   "id": "3e604ad0",
   "metadata": {},
   "outputs": [],
   "source": []
  }
 ],
 "metadata": {
  "accelerator": "GPU",
  "colab": {
   "gpuType": "T4",
   "provenance": []
  },
  "kernelspec": {
   "display_name": "Python 3 (ipykernel)",
   "language": "python",
   "name": "python3"
  },
  "language_info": {
   "codemirror_mode": {
    "name": "ipython",
    "version": 3
   },
   "file_extension": ".py",
   "mimetype": "text/x-python",
   "name": "python",
   "nbconvert_exporter": "python",
   "pygments_lexer": "ipython3",
   "version": "3.11.3"
  }
 },
 "nbformat": 4,
 "nbformat_minor": 5
}
