{
 "cells": [
  {
   "cell_type": "markdown",
   "id": "db1b9c81",
   "metadata": {},
   "source": [
    "### PRAGADEESH M\n",
    "## 225229126"
   ]
  },
  {
   "cell_type": "markdown",
   "id": "c8a73f01",
   "metadata": {},
   "source": [
    "### Steps\n",
    "### 1. Open"
   ]
  },
  {
   "cell_type": "code",
   "execution_count": 1,
   "id": "a1061ba2",
   "metadata": {},
   "outputs": [],
   "source": [
    "import tensorflow as tf\n",
    "import keras\n",
    "import pandas as pd\n",
    "import numpy as np\n",
    "import matplotlib.pyplot as plt\n",
    "from tensorflow.keras.models import Sequential\n",
    "from tensorflow.keras.layers import Dense,Flatten"
   ]
  },
  {
   "cell_type": "code",
   "execution_count": 2,
   "id": "76e62f15",
   "metadata": {},
   "outputs": [
    {
     "name": "stdout",
     "output_type": "stream",
     "text": [
      "Downloading data from https://storage.googleapis.com/tensorflow/tf-keras-datasets/train-labels-idx1-ubyte.gz\n",
      "29515/29515 [==============================] - 0s 1us/step\n",
      "Downloading data from https://storage.googleapis.com/tensorflow/tf-keras-datasets/train-images-idx3-ubyte.gz\n",
      "26421880/26421880 [==============================] - 9s 0us/step\n",
      "Downloading data from https://storage.googleapis.com/tensorflow/tf-keras-datasets/t10k-labels-idx1-ubyte.gz\n",
      "5148/5148 [==============================] - 0s 0s/step\n",
      "Downloading data from https://storage.googleapis.com/tensorflow/tf-keras-datasets/t10k-images-idx3-ubyte.gz\n",
      "4422102/4422102 [==============================] - 1s 0us/step\n"
     ]
    }
   ],
   "source": [
    "(x_train, y_train), (x_test, y_test) = tf.keras.datasets.fashion_mnist.load_data()"
   ]
  },
  {
   "cell_type": "markdown",
   "id": "ba2b3d52",
   "metadata": {},
   "source": [
    "### 2. Perform basic Exploratory Data Analysis(EDA)"
   ]
  },
  {
   "cell_type": "code",
   "execution_count": 3,
   "id": "0d1638ca",
   "metadata": {},
   "outputs": [
    {
     "name": "stdout",
     "output_type": "stream",
     "text": [
      "x_train size: 47040000\n",
      "y_train size: 60000\n",
      "x_test size: 7840000\n",
      "y_test size: 10000\n"
     ]
    }
   ],
   "source": [
    "print('x_train size:', x_train.size)\n",
    "print('y_train size:', y_train.size)\n",
    "print('x_test size:', x_test.size)\n",
    "print('y_test size:', y_test.size)"
   ]
  },
  {
   "cell_type": "code",
   "execution_count": 4,
   "id": "cddb4dd0",
   "metadata": {},
   "outputs": [
    {
     "name": "stdout",
     "output_type": "stream",
     "text": [
      "x_train shape: (60000, 28, 28)\n",
      "y_train shape: (60000,)\n",
      "x_test shape: (10000, 28, 28)\n",
      "y_test shape: (10000,)\n"
     ]
    }
   ],
   "source": [
    "print('x_train shape:', x_train.shape)\n",
    "print('y_train shape:', y_train.shape)\n",
    "print('x_test shape:', x_test.shape)\n",
    "print('y_test shape:', y_test.shape)"
   ]
  },
  {
   "cell_type": "code",
   "execution_count": 5,
   "id": "f4cba66d",
   "metadata": {},
   "outputs": [
    {
     "data": {
      "image/png": "[encoded data removed]",
      "text/plain": [
       "<Figure size 480x480 with 1 Axes>"
      ]
     },
     "metadata": {},
     "output_type": "display_data"
    }
   ],
   "source": [
    "plt.matshow(x_train[6])\n",
    "plt.show()"
   ]
  },
  {
   "cell_type": "markdown",
   "id": "94a019f3",
   "metadata": {},
   "source": [
    "### 3. Normalize"
   ]
  },
  {
   "cell_type": "code",
   "execution_count": 17,
   "id": "2909d5d5",
   "metadata": {},
   "outputs": [],
   "source": [
    "x_train_n = x_train/255\n",
    "x_test_n = x_test/255"
   ]
  },
  {
   "cell_type": "markdown",
   "id": "ffdaf190",
   "metadata": {},
   "source": [
    "### 4. Build a simple baseline model"
   ]
  },
  {
   "cell_type": "code",
   "execution_count": 7,
   "id": "efad9035",
   "metadata": {},
   "outputs": [],
   "source": [
    "model = Sequential()\n",
    "model.add(Flatten(input_shape=(28,28)))\n",
    "model.add(Dense(512,activation='relu'))\n",
    "model.add(Dense(10,activation='softmax'))"
   ]
  },
  {
   "cell_type": "code",
   "execution_count": 13,
   "id": "dacc7951",
   "metadata": {},
   "outputs": [],
   "source": [
    "model.compile(loss='mse',optimizer='adam',metrics='accuracy')"
   ]
  },
  {
   "cell_type": "code",
   "execution_count": 14,
   "id": "e784bd2c",
   "metadata": {
    "scrolled": true
   },
   "outputs": [
    {
     "name": "stdout",
     "output_type": "stream",
     "text": [
      "Epoch 1/10\n",
      "1875/1875 [==============================] - 20s 10ms/step - loss: 27.6102 - accuracy: 0.0959\n",
      "Epoch 2/10\n",
      "1875/1875 [==============================] - 19s 10ms/step - loss: 27.6101 - accuracy: 0.0951\n",
      "Epoch 3/10\n",
      "1875/1875 [==============================] - 18s 10ms/step - loss: 27.6101 - accuracy: 0.0962\n",
      "Epoch 4/10\n",
      "1875/1875 [==============================] - 18s 10ms/step - loss: 27.6101 - accuracy: 0.0997\n",
      "Epoch 5/10\n",
      "1875/1875 [==============================] - 19s 10ms/step - loss: 27.6101 - accuracy: 0.1000\n",
      "Epoch 6/10\n",
      "1875/1875 [==============================] - 20s 10ms/step - loss: 27.6101 - accuracy: 0.0991\n",
      "Epoch 7/10\n",
      "1875/1875 [==============================] - 19s 10ms/step - loss: 27.6101 - accuracy: 0.0992\n",
      "Epoch 8/10\n",
      "1875/1875 [==============================] - 19s 10ms/step - loss: 27.6101 - accuracy: 0.1009\n",
      "Epoch 9/10\n",
      "1875/1875 [==============================] - 19s 10ms/step - loss: 27.6101 - accuracy: 0.0988\n",
      "Epoch 10/10\n",
      "1875/1875 [==============================] - 19s 10ms/step - loss: 27.6101 - accuracy: 0.0993\n"
     ]
    },
    {
     "data": {
      "text/plain": [
       "<keras.src.callbacks.History at 0x2dce921fc90>"
      ]
     },
     "execution_count": 14,
     "metadata": {},
     "output_type": "execute_result"
    }
   ],
   "source": [
    "model.fit(x_train_n,y_train,epochs=10)"
   ]
  },
  {
   "cell_type": "code",
   "execution_count": 15,
   "id": "f5c425f6",
   "metadata": {},
   "outputs": [
    {
     "name": "stdout",
     "output_type": "stream",
     "text": [
      "Model: \"sequential\"\n",
      "_________________________________________________________________\n",
      " Layer (type)                Output Shape              Param #   \n",
      "=================================================================\n",
      " flatten (Flatten)           (None, 784)               0         \n",
      "                                                                 \n",
      " dense (Dense)               (None, 512)               401920    \n",
      "                                                                 \n",
      " dense_1 (Dense)             (None, 10)                5130      \n",
      "                                                                 \n",
      "=================================================================\n",
      "Total params: 407050 (1.55 MB)\n",
      "Trainable params: 407050 (1.55 MB)\n",
      "Non-trainable params: 0 (0.00 Byte)\n",
      "_________________________________________________________________\n"
     ]
    }
   ],
   "source": [
    "model.summary()"
   ]
  },
  {
   "cell_type": "markdown",
   "id": "a46ecd6e",
   "metadata": {},
   "source": [
    "### 5. Performance analysis"
   ]
  },
  {
   "cell_type": "code",
   "execution_count": 18,
   "id": "97795141",
   "metadata": {},
   "outputs": [],
   "source": [
    "def layerandnodes(n,l):\n",
    "    model = Sequential()\n",
    "    model.add(Flatten(input_shape=(28,28)))\n",
    "    for x in range(l):\n",
    "        model.add(Dense(n,activation='relu'))\n",
    "    model.add(Dense(1, activation='softmax'))\n",
    "    model.compile(loss='mean_squared_error',optimizer='adam',metrics='accuracy')\n",
    "    return model"
   ]
  },
  {
   "cell_type": "code",
   "execution_count": 19,
   "id": "3852858f",
   "metadata": {},
   "outputs": [
    {
     "name": "stdout",
     "output_type": "stream",
     "text": [
      "Epoch 1/10\n",
      "1875/1875 [==============================] - 9s 4ms/step - loss: 20.5000 - accuracy: 0.1000\n",
      "Epoch 2/10\n",
      "1875/1875 [==============================] - 7s 4ms/step - loss: 20.5000 - accuracy: 0.1000\n",
      "Epoch 3/10\n",
      "1875/1875 [==============================] - 10s 5ms/step - loss: 20.5000 - accuracy: 0.1000\n",
      "Epoch 4/10\n",
      "1875/1875 [==============================] - 8s 4ms/step - loss: 20.5000 - accuracy: 0.1000\n",
      "Epoch 5/10\n",
      "1875/1875 [==============================] - 7s 4ms/step - loss: 20.5000 - accuracy: 0.1000\n",
      "Epoch 6/10\n",
      "1875/1875 [==============================] - 8s 4ms/step - loss: 20.5000 - accuracy: 0.1000\n",
      "Epoch 7/10\n",
      "1875/1875 [==============================] - 8s 4ms/step - loss: 20.5000 - accuracy: 0.1000\n",
      "Epoch 8/10\n",
      "1875/1875 [==============================] - 8s 4ms/step - loss: 20.5000 - accuracy: 0.1000\n",
      "Epoch 9/10\n",
      "1875/1875 [==============================] - 8s 4ms/step - loss: 20.5000 - accuracy: 0.1000\n",
      "Epoch 10/10\n",
      "1875/1875 [==============================] - 8s 4ms/step - loss: 20.5000 - accuracy: 0.1000\n",
      "313/313 [==============================] - 1s 3ms/step - loss: 20.5000 - accuracy: 0.1000\n"
     ]
    },
    {
     "data": {
      "text/plain": [
       "[20.5, 0.10000000149011612]"
      ]
     },
     "execution_count": 19,
     "metadata": {},
     "output_type": "execute_result"
    }
   ],
   "source": [
    "model1 = layerandnodes(128,2)\n",
    "model1.fit(x_train_n,y_train,epochs=10)\n",
    "model1.evaluate(x_test_n,y_test)"
   ]
  },
  {
   "cell_type": "code",
   "execution_count": 20,
   "id": "9dccc79c",
   "metadata": {},
   "outputs": [
    {
     "name": "stdout",
     "output_type": "stream",
     "text": [
      "Model: \"sequential_2\"\n",
      "_________________________________________________________________\n",
      " Layer (type)                Output Shape              Param #   \n",
      "=================================================================\n",
      " flatten_2 (Flatten)         (None, 784)               0         \n",
      "                                                                 \n",
      " dense_5 (Dense)             (None, 128)               100480    \n",
      "                                                                 \n",
      " dense_6 (Dense)             (None, 128)               16512     \n",
      "                                                                 \n",
      " dense_7 (Dense)             (None, 1)                 129       \n",
      "                                                                 \n",
      "=================================================================\n",
      "Total params: 117121 (457.50 KB)\n",
      "Trainable params: 117121 (457.50 KB)\n",
      "Non-trainable params: 0 (0.00 Byte)\n",
      "_________________________________________________________________\n"
     ]
    }
   ],
   "source": [
    "model1.summary()"
   ]
  },
  {
   "cell_type": "code",
   "execution_count": 21,
   "id": "1119417c",
   "metadata": {
    "scrolled": true
   },
   "outputs": [
    {
     "name": "stdout",
     "output_type": "stream",
     "text": [
      "Epoch 1/10\n",
      "1875/1875 [==============================] - 12s 6ms/step - loss: 20.5000 - accuracy: 0.1000\n",
      "Epoch 2/10\n",
      "1875/1875 [==============================] - 13s 7ms/step - loss: 20.5000 - accuracy: 0.1000\n",
      "Epoch 3/10\n",
      "1875/1875 [==============================] - 10s 5ms/step - loss: 20.5000 - accuracy: 0.1000\n",
      "Epoch 4/10\n",
      "1875/1875 [==============================] - 11s 6ms/step - loss: 20.5000 - accuracy: 0.1000\n",
      "Epoch 5/10\n",
      "1875/1875 [==============================] - 10s 5ms/step - loss: 20.5000 - accuracy: 0.1000\n",
      "Epoch 6/10\n",
      "1875/1875 [==============================] - 12s 7ms/step - loss: 20.5000 - accuracy: 0.1000\n",
      "Epoch 7/10\n",
      "1875/1875 [==============================] - 10s 5ms/step - loss: 20.5000 - accuracy: 0.1000\n",
      "Epoch 8/10\n",
      "1875/1875 [==============================] - 12s 6ms/step - loss: 20.5000 - accuracy: 0.1000\n",
      "Epoch 9/10\n",
      "1875/1875 [==============================] - 11s 6ms/step - loss: 20.5000 - accuracy: 0.1000\n",
      "Epoch 10/10\n",
      "1875/1875 [==============================] - 9s 5ms/step - loss: 20.5000 - accuracy: 0.1000\n",
      "313/313 [==============================] - 1s 3ms/step - loss: 20.5000 - accuracy: 0.1000\n"
     ]
    },
    {
     "data": {
      "text/plain": [
       "[20.5, 0.10000000149011612]"
      ]
     },
     "execution_count": 21,
     "metadata": {},
     "output_type": "execute_result"
    }
   ],
   "source": [
    "model2 = layerandnodes(256,2)\n",
    "model2.fit(x_train_n,y_train,epochs=10)\n",
    "model2.evaluate(x_test_n,y_test)"
   ]
  },
  {
   "cell_type": "code",
   "execution_count": 22,
   "id": "349febf0",
   "metadata": {},
   "outputs": [
    {
     "name": "stdout",
     "output_type": "stream",
     "text": [
      "Model: \"sequential_3\"\n",
      "_________________________________________________________________\n",
      " Layer (type)                Output Shape              Param #   \n",
      "=================================================================\n",
      " flatten_3 (Flatten)         (None, 784)               0         \n",
      "                                                                 \n",
      " dense_8 (Dense)             (None, 256)               200960    \n",
      "                                                                 \n",
      " dense_9 (Dense)             (None, 256)               65792     \n",
      "                                                                 \n",
      " dense_10 (Dense)            (None, 1)                 257       \n",
      "                                                                 \n",
      "=================================================================\n",
      "Total params: 267009 (1.02 MB)\n",
      "Trainable params: 267009 (1.02 MB)\n",
      "Non-trainable params: 0 (0.00 Byte)\n",
      "_________________________________________________________________\n"
     ]
    }
   ],
   "source": [
    "model2.summary()"
   ]
  },
  {
   "cell_type": "code",
   "execution_count": 23,
   "id": "cc8c998a",
   "metadata": {},
   "outputs": [
    {
     "name": "stdout",
     "output_type": "stream",
     "text": [
      "Epoch 1/10\n",
      "1875/1875 [==============================] - 30s 15ms/step - loss: 20.5000 - accuracy: 0.1000\n",
      "Epoch 2/10\n",
      "1875/1875 [==============================] - 29s 16ms/step - loss: 20.5000 - accuracy: 0.1000\n",
      "Epoch 3/10\n",
      "1875/1875 [==============================] - 29s 16ms/step - loss: 20.5000 - accuracy: 0.1000\n",
      "Epoch 4/10\n",
      "1875/1875 [==============================] - 29s 15ms/step - loss: 20.5000 - accuracy: 0.1000\n",
      "Epoch 5/10\n",
      "1875/1875 [==============================] - 28s 15ms/step - loss: 20.5000 - accuracy: 0.1000\n",
      "Epoch 6/10\n",
      "1875/1875 [==============================] - 27s 14ms/step - loss: 20.5000 - accuracy: 0.1000\n",
      "Epoch 7/10\n",
      "1875/1875 [==============================] - 27s 15ms/step - loss: 20.5000 - accuracy: 0.1000\n",
      "Epoch 8/10\n",
      "1875/1875 [==============================] - 28s 15ms/step - loss: 20.5000 - accuracy: 0.1000\n",
      "Epoch 9/10\n",
      "1875/1875 [==============================] - 28s 15ms/step - loss: 20.5000 - accuracy: 0.1000\n",
      "Epoch 10/10\n",
      "1875/1875 [==============================] - 27s 15ms/step - loss: 20.5000 - accuracy: 0.1000\n",
      "313/313 [==============================] - 2s 5ms/step - loss: 20.5000 - accuracy: 0.1000\n"
     ]
    },
    {
     "data": {
      "text/plain": [
       "[20.5, 0.10000000149011612]"
      ]
     },
     "execution_count": 23,
     "metadata": {},
     "output_type": "execute_result"
    }
   ],
   "source": [
    "model3 = layerandnodes(512,2)\n",
    "model3.fit(x_train_n,y_train,epochs=10)\n",
    "model3.evaluate(x_test_n,y_test)"
   ]
  },
  {
   "cell_type": "code",
   "execution_count": 24,
   "id": "69c49d70",
   "metadata": {},
   "outputs": [
    {
     "name": "stdout",
     "output_type": "stream",
     "text": [
      "Model: \"sequential_4\"\n",
      "_________________________________________________________________\n",
      " Layer (type)                Output Shape              Param #   \n",
      "=================================================================\n",
      " flatten_4 (Flatten)         (None, 784)               0         \n",
      "                                                                 \n",
      " dense_11 (Dense)            (None, 512)               401920    \n",
      "                                                                 \n",
      " dense_12 (Dense)            (None, 512)               262656    \n",
      "                                                                 \n",
      " dense_13 (Dense)            (None, 1)                 513       \n",
      "                                                                 \n",
      "=================================================================\n",
      "Total params: 665089 (2.54 MB)\n",
      "Trainable params: 665089 (2.54 MB)\n",
      "Non-trainable params: 0 (0.00 Byte)\n",
      "_________________________________________________________________\n"
     ]
    }
   ],
   "source": [
    "model3.summary()"
   ]
  },
  {
   "cell_type": "code",
   "execution_count": 25,
   "id": "3c27df48",
   "metadata": {},
   "outputs": [
    {
     "name": "stdout",
     "output_type": "stream",
     "text": [
      "Epoch 1/10\n",
      "1875/1875 [==============================] - 10s 5ms/step - loss: 20.5000 - accuracy: 0.1000\n",
      "Epoch 2/10\n",
      "1875/1875 [==============================] - 8s 4ms/step - loss: 20.5000 - accuracy: 0.1000\n",
      "Epoch 3/10\n",
      "1875/1875 [==============================] - 8s 4ms/step - loss: 20.5000 - accuracy: 0.1000\n",
      "Epoch 4/10\n",
      "1875/1875 [==============================] - 8s 4ms/step - loss: 20.5000 - accuracy: 0.1000\n",
      "Epoch 5/10\n",
      "1875/1875 [==============================] - 8s 4ms/step - loss: 20.5000 - accuracy: 0.1000\n",
      "Epoch 6/10\n",
      "1875/1875 [==============================] - 10s 5ms/step - loss: 20.5000 - accuracy: 0.1000\n",
      "Epoch 7/10\n",
      "1875/1875 [==============================] - 8s 4ms/step - loss: 20.5000 - accuracy: 0.1000\n",
      "Epoch 8/10\n",
      "1875/1875 [==============================] - 8s 4ms/step - loss: 20.5000 - accuracy: 0.1000\n",
      "Epoch 9/10\n",
      "1875/1875 [==============================] - 8s 4ms/step - loss: 20.5000 - accuracy: 0.1000\n",
      "Epoch 10/10\n",
      "1875/1875 [==============================] - 8s 4ms/step - loss: 20.5000 - accuracy: 0.1000\n",
      "313/313 [==============================] - 1s 3ms/step - loss: 20.5000 - accuracy: 0.1000\n"
     ]
    },
    {
     "data": {
      "text/plain": [
       "[20.5, 0.10000000149011612]"
      ]
     },
     "execution_count": 25,
     "metadata": {},
     "output_type": "execute_result"
    }
   ],
   "source": [
    "model4 = layerandnodes(128,3)\n",
    "model4.fit(x_train_n,y_train,epochs=10)\n",
    "model4.evaluate(x_test_n,y_test)"
   ]
  },
  {
   "cell_type": "code",
   "execution_count": 26,
   "id": "13fe6210",
   "metadata": {},
   "outputs": [
    {
     "name": "stdout",
     "output_type": "stream",
     "text": [
      "Model: \"sequential_5\"\n",
      "_________________________________________________________________\n",
      " Layer (type)                Output Shape              Param #   \n",
      "=================================================================\n",
      " flatten_5 (Flatten)         (None, 784)               0         \n",
      "                                                                 \n",
      " dense_14 (Dense)            (None, 128)               100480    \n",
      "                                                                 \n",
      " dense_15 (Dense)            (None, 128)               16512     \n",
      "                                                                 \n",
      " dense_16 (Dense)            (None, 128)               16512     \n",
      "                                                                 \n",
      " dense_17 (Dense)            (None, 1)                 129       \n",
      "                                                                 \n",
      "=================================================================\n",
      "Total params: 133633 (522.00 KB)\n",
      "Trainable params: 133633 (522.00 KB)\n",
      "Non-trainable params: 0 (0.00 Byte)\n",
      "_________________________________________________________________\n"
     ]
    }
   ],
   "source": [
    "model4.summary()"
   ]
  },
  {
   "cell_type": "code",
   "execution_count": 27,
   "id": "6bfb0a58",
   "metadata": {},
   "outputs": [
    {
     "name": "stdout",
     "output_type": "stream",
     "text": [
      "Epoch 1/10\n",
      "1875/1875 [==============================] - 13s 6ms/step - loss: 20.5000 - accuracy: 0.1000\n",
      "Epoch 2/10\n",
      "1875/1875 [==============================] - 13s 7ms/step - loss: 20.5000 - accuracy: 0.1000\n",
      "Epoch 3/10\n",
      "1875/1875 [==============================] - 13s 7ms/step - loss: 20.5000 - accuracy: 0.1000\n",
      "Epoch 4/10\n",
      "1875/1875 [==============================] - 13s 7ms/step - loss: 20.5000 - accuracy: 0.1000\n",
      "Epoch 5/10\n",
      "1875/1875 [==============================] - 13s 7ms/step - loss: 20.5000 - accuracy: 0.1000\n",
      "Epoch 6/10\n",
      "1875/1875 [==============================] - 12s 6ms/step - loss: 20.5000 - accuracy: 0.1000\n",
      "Epoch 7/10\n",
      "1875/1875 [==============================] - 13s 7ms/step - loss: 20.5000 - accuracy: 0.1000\n",
      "Epoch 8/10\n",
      "1875/1875 [==============================] - 12s 6ms/step - loss: 20.5000 - accuracy: 0.1000\n",
      "Epoch 9/10\n",
      "1875/1875 [==============================] - 12s 6ms/step - loss: 20.5000 - accuracy: 0.1000\n",
      "Epoch 10/10\n",
      "1875/1875 [==============================] - 12s 7ms/step - loss: 20.5000 - accuracy: 0.1000\n",
      "313/313 [==============================] - 1s 3ms/step - loss: 20.5000 - accuracy: 0.1000\n"
     ]
    },
    {
     "data": {
      "text/plain": [
       "[20.5, 0.10000000149011612]"
      ]
     },
     "execution_count": 27,
     "metadata": {},
     "output_type": "execute_result"
    }
   ],
   "source": [
    "model5 = layerandnodes(256,3)\n",
    "model5.fit(x_train_n,y_train,epochs=10)\n",
    "model5.evaluate(x_test_n,y_test)"
   ]
  },
  {
   "cell_type": "code",
   "execution_count": 28,
   "id": "5105060f",
   "metadata": {},
   "outputs": [
    {
     "name": "stdout",
     "output_type": "stream",
     "text": [
      "Model: \"sequential_6\"\n",
      "_________________________________________________________________\n",
      " Layer (type)                Output Shape              Param #   \n",
      "=================================================================\n",
      " flatten_6 (Flatten)         (None, 784)               0         \n",
      "                                                                 \n",
      " dense_18 (Dense)            (None, 256)               200960    \n",
      "                                                                 \n",
      " dense_19 (Dense)            (None, 256)               65792     \n",
      "                                                                 \n",
      " dense_20 (Dense)            (None, 256)               65792     \n",
      "                                                                 \n",
      " dense_21 (Dense)            (None, 1)                 257       \n",
      "                                                                 \n",
      "=================================================================\n",
      "Total params: 332801 (1.27 MB)\n",
      "Trainable params: 332801 (1.27 MB)\n",
      "Non-trainable params: 0 (0.00 Byte)\n",
      "_________________________________________________________________\n"
     ]
    }
   ],
   "source": [
    "model5.summary()"
   ]
  },
  {
   "cell_type": "code",
   "execution_count": 29,
   "id": "c6b33eea",
   "metadata": {},
   "outputs": [
    {
     "name": "stdout",
     "output_type": "stream",
     "text": [
      "Epoch 1/10\n",
      "1875/1875 [==============================] - 40s 21ms/step - loss: 20.5000 - accuracy: 0.1000\n",
      "Epoch 2/10\n",
      "1875/1875 [==============================] - 37s 20ms/step - loss: 20.5000 - accuracy: 0.1000\n",
      "Epoch 3/10\n",
      "1875/1875 [==============================] - 37s 20ms/step - loss: 20.5000 - accuracy: 0.1000\n",
      "Epoch 4/10\n",
      "1875/1875 [==============================] - 37s 20ms/step - loss: 20.5000 - accuracy: 0.1000\n",
      "Epoch 5/10\n",
      "1875/1875 [==============================] - 39s 21ms/step - loss: 20.5000 - accuracy: 0.1000\n",
      "Epoch 6/10\n",
      "1875/1875 [==============================] - 38s 20ms/step - loss: 20.5000 - accuracy: 0.1000\n",
      "Epoch 7/10\n",
      "1875/1875 [==============================] - 38s 20ms/step - loss: 20.5000 - accuracy: 0.1000\n",
      "Epoch 8/10\n",
      "1875/1875 [==============================] - 38s 20ms/step - loss: 20.5000 - accuracy: 0.1000\n",
      "Epoch 9/10\n",
      "1875/1875 [==============================] - 38s 20ms/step - loss: 20.5000 - accuracy: 0.1000\n",
      "Epoch 10/10\n",
      "1875/1875 [==============================] - 37s 20ms/step - loss: 20.5000 - accuracy: 0.1000\n",
      "313/313 [==============================] - 2s 6ms/step - loss: 20.5000 - accuracy: 0.1000\n"
     ]
    },
    {
     "data": {
      "text/plain": [
       "[20.5, 0.10000000149011612]"
      ]
     },
     "execution_count": 29,
     "metadata": {},
     "output_type": "execute_result"
    }
   ],
   "source": [
    "model6 = layerandnodes(512,3)\n",
    "model6.fit(x_train_n,y_train,epochs=10)\n",
    "model6.evaluate(x_test_n,y_test)"
   ]
  },
  {
   "cell_type": "code",
   "execution_count": 30,
   "id": "b8bfdb35",
   "metadata": {},
   "outputs": [
    {
     "name": "stdout",
     "output_type": "stream",
     "text": [
      "Model: \"sequential_7\"\n",
      "_________________________________________________________________\n",
      " Layer (type)                Output Shape              Param #   \n",
      "=================================================================\n",
      " flatten_7 (Flatten)         (None, 784)               0         \n",
      "                                                                 \n",
      " dense_22 (Dense)            (None, 512)               401920    \n",
      "                                                                 \n",
      " dense_23 (Dense)            (None, 512)               262656    \n",
      "                                                                 \n",
      " dense_24 (Dense)            (None, 512)               262656    \n",
      "                                                                 \n",
      " dense_25 (Dense)            (None, 1)                 513       \n",
      "                                                                 \n",
      "=================================================================\n",
      "Total params: 927745 (3.54 MB)\n",
      "Trainable params: 927745 (3.54 MB)\n",
      "Non-trainable params: 0 (0.00 Byte)\n",
      "_________________________________________________________________\n"
     ]
    }
   ],
   "source": [
    "model6.summary()"
   ]
  },
  {
   "cell_type": "code",
   "execution_count": 31,
   "id": "7cd43245",
   "metadata": {},
   "outputs": [
    {
     "name": "stdout",
     "output_type": "stream",
     "text": [
      "Epoch 1/10\n",
      "1875/1875 [==============================] - 12s 5ms/step - loss: 20.5000 - accuracy: 0.1000\n",
      "Epoch 2/10\n",
      "1875/1875 [==============================] - 9s 5ms/step - loss: 20.5000 - accuracy: 0.1000\n",
      "Epoch 3/10\n",
      "1875/1875 [==============================] - 9s 5ms/step - loss: 20.5000 - accuracy: 0.1000\n",
      "Epoch 4/10\n",
      "1875/1875 [==============================] - 9s 5ms/step - loss: 20.5000 - accuracy: 0.1000\n",
      "Epoch 5/10\n",
      "1875/1875 [==============================] - 9s 5ms/step - loss: 20.5000 - accuracy: 0.1000\n",
      "Epoch 6/10\n",
      "1875/1875 [==============================] - 9s 5ms/step - loss: 20.5000 - accuracy: 0.1000\n",
      "Epoch 7/10\n",
      "1875/1875 [==============================] - 9s 5ms/step - loss: 20.5000 - accuracy: 0.1000\n",
      "Epoch 8/10\n",
      "1875/1875 [==============================] - 9s 5ms/step - loss: 20.5000 - accuracy: 0.1000\n",
      "Epoch 9/10\n",
      "1875/1875 [==============================] - 11s 6ms/step - loss: 20.5000 - accuracy: 0.1000\n",
      "Epoch 10/10\n",
      "1875/1875 [==============================] - 9s 5ms/step - loss: 20.5000 - accuracy: 0.1000\n",
      "313/313 [==============================] - 1s 3ms/step - loss: 20.5000 - accuracy: 0.1000\n"
     ]
    },
    {
     "data": {
      "text/plain": [
       "[20.5, 0.10000000149011612]"
      ]
     },
     "execution_count": 31,
     "metadata": {},
     "output_type": "execute_result"
    }
   ],
   "source": [
    "model7 = layerandnodes(128,4)\n",
    "model7.fit(x_train_n,y_train,epochs=10)\n",
    "model7.evaluate(x_test_n,y_test)"
   ]
  },
  {
   "cell_type": "code",
   "execution_count": 32,
   "id": "8ed09322",
   "metadata": {},
   "outputs": [
    {
     "name": "stdout",
     "output_type": "stream",
     "text": [
      "Model: \"sequential_8\"\n",
      "_________________________________________________________________\n",
      " Layer (type)                Output Shape              Param #   \n",
      "=================================================================\n",
      " flatten_8 (Flatten)         (None, 784)               0         \n",
      "                                                                 \n",
      " dense_26 (Dense)            (None, 128)               100480    \n",
      "                                                                 \n",
      " dense_27 (Dense)            (None, 128)               16512     \n",
      "                                                                 \n",
      " dense_28 (Dense)            (None, 128)               16512     \n",
      "                                                                 \n",
      " dense_29 (Dense)            (None, 128)               16512     \n",
      "                                                                 \n",
      " dense_30 (Dense)            (None, 1)                 129       \n",
      "                                                                 \n",
      "=================================================================\n",
      "Total params: 150145 (586.50 KB)\n",
      "Trainable params: 150145 (586.50 KB)\n",
      "Non-trainable params: 0 (0.00 Byte)\n",
      "_________________________________________________________________\n"
     ]
    }
   ],
   "source": [
    "model7.summary()"
   ]
  },
  {
   "cell_type": "code",
   "execution_count": 33,
   "id": "5fc57bb4",
   "metadata": {},
   "outputs": [
    {
     "name": "stdout",
     "output_type": "stream",
     "text": [
      "Epoch 1/10\n",
      "1875/1875 [==============================] - 15s 7ms/step - loss: 20.5000 - accuracy: 0.1000\n",
      "Epoch 2/10\n",
      "1875/1875 [==============================] - 14s 8ms/step - loss: 20.5000 - accuracy: 0.1000\n",
      "Epoch 3/10\n",
      "1875/1875 [==============================] - 14s 7ms/step - loss: 20.5000 - accuracy: 0.1000\n",
      "Epoch 4/10\n",
      "1875/1875 [==============================] - 14s 7ms/step - loss: 20.5000 - accuracy: 0.1000\n",
      "Epoch 5/10\n",
      "1875/1875 [==============================] - 13s 7ms/step - loss: 20.5000 - accuracy: 0.1000\n",
      "Epoch 6/10\n",
      "1875/1875 [==============================] - 14s 8ms/step - loss: 20.5000 - accuracy: 0.1000\n",
      "Epoch 7/10\n",
      "1875/1875 [==============================] - 14s 8ms/step - loss: 20.5000 - accuracy: 0.1000\n",
      "Epoch 8/10\n",
      "1875/1875 [==============================] - 14s 8ms/step - loss: 20.5000 - accuracy: 0.1000\n",
      "Epoch 9/10\n",
      "1875/1875 [==============================] - 13s 7ms/step - loss: 20.5000 - accuracy: 0.1000\n",
      "Epoch 10/10\n",
      "1875/1875 [==============================] - 13s 7ms/step - loss: 20.5000 - accuracy: 0.1000\n",
      "313/313 [==============================] - 2s 4ms/step - loss: 20.5000 - accuracy: 0.1000\n"
     ]
    },
    {
     "data": {
      "text/plain": [
       "[20.5, 0.10000000149011612]"
      ]
     },
     "execution_count": 33,
     "metadata": {},
     "output_type": "execute_result"
    }
   ],
   "source": [
    "model8 = layerandnodes(256,4)\n",
    "model8.fit(x_train_n,y_train,epochs=10)\n",
    "model8.evaluate(x_test_n,y_test)"
   ]
  },
  {
   "cell_type": "code",
   "execution_count": 34,
   "id": "31c3b620",
   "metadata": {},
   "outputs": [
    {
     "name": "stdout",
     "output_type": "stream",
     "text": [
      "Model: \"sequential_9\"\n",
      "_________________________________________________________________\n",
      " Layer (type)                Output Shape              Param #   \n",
      "=================================================================\n",
      " flatten_9 (Flatten)         (None, 784)               0         \n",
      "                                                                 \n",
      " dense_31 (Dense)            (None, 256)               200960    \n",
      "                                                                 \n",
      " dense_32 (Dense)            (None, 256)               65792     \n",
      "                                                                 \n",
      " dense_33 (Dense)            (None, 256)               65792     \n",
      "                                                                 \n",
      " dense_34 (Dense)            (None, 256)               65792     \n",
      "                                                                 \n",
      " dense_35 (Dense)            (None, 1)                 257       \n",
      "                                                                 \n",
      "=================================================================\n",
      "Total params: 398593 (1.52 MB)\n",
      "Trainable params: 398593 (1.52 MB)\n",
      "Non-trainable params: 0 (0.00 Byte)\n",
      "_________________________________________________________________\n"
     ]
    }
   ],
   "source": [
    "model8.summary()"
   ]
  },
  {
   "cell_type": "code",
   "execution_count": 35,
   "id": "037afbd2",
   "metadata": {},
   "outputs": [
    {
     "name": "stdout",
     "output_type": "stream",
     "text": [
      "Epoch 1/10\n",
      "1875/1875 [==============================] - 50s 25ms/step - loss: 20.5000 - accuracy: 0.1000\n",
      "Epoch 2/10\n",
      "1875/1875 [==============================] - 48s 26ms/step - loss: 20.5000 - accuracy: 0.1000\n",
      "Epoch 3/10\n",
      "1875/1875 [==============================] - 48s 25ms/step - loss: 20.5000 - accuracy: 0.1000\n",
      "Epoch 4/10\n",
      "1875/1875 [==============================] - 50s 26ms/step - loss: 20.5000 - accuracy: 0.1000\n",
      "Epoch 5/10\n",
      "1875/1875 [==============================] - 49s 26ms/step - loss: 20.5000 - accuracy: 0.1000\n",
      "Epoch 6/10\n",
      "1875/1875 [==============================] - 50s 27ms/step - loss: 20.5000 - accuracy: 0.1000\n",
      "Epoch 7/10\n",
      "1875/1875 [==============================] - 49s 26ms/step - loss: 20.5000 - accuracy: 0.1000\n",
      "Epoch 8/10\n",
      "1875/1875 [==============================] - 49s 26ms/step - loss: 20.5000 - accuracy: 0.1000\n",
      "Epoch 9/10\n",
      "1875/1875 [==============================] - 49s 26ms/step - loss: 20.5000 - accuracy: 0.1000\n",
      "Epoch 10/10\n",
      "1875/1875 [==============================] - 49s 26ms/step - loss: 20.5000 - accuracy: 0.1000\n",
      "313/313 [==============================] - 3s 8ms/step - loss: 20.5000 - accuracy: 0.1000\n"
     ]
    },
    {
     "data": {
      "text/plain": [
       "[20.5, 0.10000000149011612]"
      ]
     },
     "execution_count": 35,
     "metadata": {},
     "output_type": "execute_result"
    }
   ],
   "source": [
    "model9 = layerandnodes(512,4)\n",
    "model9.fit(x_train_n,y_train,epochs=10)\n",
    "model9.evaluate(x_test_n,y_test)"
   ]
  },
  {
   "cell_type": "code",
   "execution_count": 36,
   "id": "bbf82978",
   "metadata": {},
   "outputs": [
    {
     "name": "stdout",
     "output_type": "stream",
     "text": [
      "Model: \"sequential_10\"\n",
      "_________________________________________________________________\n",
      " Layer (type)                Output Shape              Param #   \n",
      "=================================================================\n",
      " flatten_10 (Flatten)        (None, 784)               0         \n",
      "                                                                 \n",
      " dense_36 (Dense)            (None, 512)               401920    \n",
      "                                                                 \n",
      " dense_37 (Dense)            (None, 512)               262656    \n",
      "                                                                 \n",
      " dense_38 (Dense)            (None, 512)               262656    \n",
      "                                                                 \n",
      " dense_39 (Dense)            (None, 512)               262656    \n",
      "                                                                 \n",
      " dense_40 (Dense)            (None, 1)                 513       \n",
      "                                                                 \n",
      "=================================================================\n",
      "Total params: 1190401 (4.54 MB)\n",
      "Trainable params: 1190401 (4.54 MB)\n",
      "Non-trainable params: 0 (0.00 Byte)\n",
      "_________________________________________________________________\n"
     ]
    }
   ],
   "source": [
    "model9.summary()"
   ]
  },
  {
   "cell_type": "code",
   "execution_count": 37,
   "id": "150ad735",
   "metadata": {},
   "outputs": [
    {
     "name": "stdout",
     "output_type": "stream",
     "text": [
      "Epoch 1/10\n",
      "1875/1875 [==============================] - 12s 5ms/step - loss: 20.5000 - accuracy: 0.1000\n",
      "Epoch 2/10\n",
      "1875/1875 [==============================] - 10s 5ms/step - loss: 20.5000 - accuracy: 0.1000\n",
      "Epoch 3/10\n",
      "1875/1875 [==============================] - 9s 5ms/step - loss: 20.5000 - accuracy: 0.1000\n",
      "Epoch 4/10\n",
      "1875/1875 [==============================] - 10s 5ms/step - loss: 20.5000 - accuracy: 0.1000\n",
      "Epoch 5/10\n",
      "1875/1875 [==============================] - 9s 5ms/step - loss: 20.5000 - accuracy: 0.1000\n",
      "Epoch 6/10\n",
      "1875/1875 [==============================] - 10s 5ms/step - loss: 20.5000 - accuracy: 0.1000\n",
      "Epoch 7/10\n",
      "1875/1875 [==============================] - 11s 6ms/step - loss: 20.5000 - accuracy: 0.1000\n",
      "Epoch 8/10\n",
      "1875/1875 [==============================] - 9s 5ms/step - loss: 20.5000 - accuracy: 0.1000\n",
      "Epoch 9/10\n",
      "1875/1875 [==============================] - 9s 5ms/step - loss: 20.5000 - accuracy: 0.1000\n",
      "Epoch 10/10\n",
      "1875/1875 [==============================] - 9s 5ms/step - loss: 20.5000 - accuracy: 0.1000\n",
      "313/313 [==============================] - 1s 3ms/step - loss: 20.5000 - accuracy: 0.1000\n"
     ]
    },
    {
     "data": {
      "text/plain": [
       "[20.5, 0.10000000149011612]"
      ]
     },
     "execution_count": 37,
     "metadata": {},
     "output_type": "execute_result"
    }
   ],
   "source": [
    "model10 = layerandnodes(128,5)\n",
    "model10.fit(x_train_n,y_train,epochs=10)\n",
    "model10.evaluate(x_test_n,y_test)"
   ]
  },
  {
   "cell_type": "code",
   "execution_count": 38,
   "id": "b9e3e6fb",
   "metadata": {},
   "outputs": [
    {
     "name": "stdout",
     "output_type": "stream",
     "text": [
      "Model: \"sequential_11\"\n",
      "_________________________________________________________________\n",
      " Layer (type)                Output Shape              Param #   \n",
      "=================================================================\n",
      " flatten_11 (Flatten)        (None, 784)               0         \n",
      "                                                                 \n",
      " dense_41 (Dense)            (None, 128)               100480    \n",
      "                                                                 \n",
      " dense_42 (Dense)            (None, 128)               16512     \n",
      "                                                                 \n",
      " dense_43 (Dense)            (None, 128)               16512     \n",
      "                                                                 \n",
      " dense_44 (Dense)            (None, 128)               16512     \n",
      "                                                                 \n",
      " dense_45 (Dense)            (None, 128)               16512     \n",
      "                                                                 \n",
      " dense_46 (Dense)            (None, 1)                 129       \n",
      "                                                                 \n",
      "=================================================================\n",
      "Total params: 166657 (651.00 KB)\n",
      "Trainable params: 166657 (651.00 KB)\n",
      "Non-trainable params: 0 (0.00 Byte)\n",
      "_________________________________________________________________\n"
     ]
    }
   ],
   "source": [
    "model10.summary()"
   ]
  },
  {
   "cell_type": "code",
   "execution_count": 39,
   "id": "e7d8b8c6",
   "metadata": {},
   "outputs": [
    {
     "name": "stdout",
     "output_type": "stream",
     "text": [
      "Epoch 1/10\n",
      "1875/1875 [==============================] - 17s 8ms/step - loss: 20.5000 - accuracy: 0.1000\n",
      "Epoch 2/10\n",
      "1875/1875 [==============================] - 14s 8ms/step - loss: 20.5000 - accuracy: 0.1000\n",
      "Epoch 3/10\n",
      "1875/1875 [==============================] - 15s 8ms/step - loss: 20.5000 - accuracy: 0.1000\n",
      "Epoch 4/10\n",
      "1875/1875 [==============================] - 15s 8ms/step - loss: 20.5000 - accuracy: 0.1000\n",
      "Epoch 5/10\n",
      "1875/1875 [==============================] - 14s 8ms/step - loss: 20.5000 - accuracy: 0.1000\n",
      "Epoch 6/10\n",
      "1875/1875 [==============================] - 14s 8ms/step - loss: 20.5000 - accuracy: 0.1000\n",
      "Epoch 7/10\n",
      "1875/1875 [==============================] - 14s 7ms/step - loss: 20.5000 - accuracy: 0.1000\n",
      "Epoch 8/10\n",
      "1875/1875 [==============================] - 14s 8ms/step - loss: 20.5000 - accuracy: 0.1000\n",
      "Epoch 9/10\n",
      "1875/1875 [==============================] - 14s 8ms/step - loss: 20.5000 - accuracy: 0.1000\n",
      "Epoch 10/10\n",
      "1875/1875 [==============================] - 14s 8ms/step - loss: 20.5000 - accuracy: 0.1000\n",
      "313/313 [==============================] - 2s 5ms/step - loss: 20.5000 - accuracy: 0.1000\n"
     ]
    },
    {
     "data": {
      "text/plain": [
       "[20.5, 0.10000000149011612]"
      ]
     },
     "execution_count": 39,
     "metadata": {},
     "output_type": "execute_result"
    }
   ],
   "source": [
    "model11 = layerandnodes(256,5)\n",
    "model11.fit(x_train_n,y_train,epochs=10)\n",
    "model11.evaluate(x_test_n,y_test)"
   ]
  },
  {
   "cell_type": "code",
   "execution_count": 40,
   "id": "2f0138d7",
   "metadata": {},
   "outputs": [
    {
     "name": "stdout",
     "output_type": "stream",
     "text": [
      "Model: \"sequential_12\"\n",
      "_________________________________________________________________\n",
      " Layer (type)                Output Shape              Param #   \n",
      "=================================================================\n",
      " flatten_12 (Flatten)        (None, 784)               0         \n",
      "                                                                 \n",
      " dense_47 (Dense)            (None, 256)               200960    \n",
      "                                                                 \n",
      " dense_48 (Dense)            (None, 256)               65792     \n",
      "                                                                 \n",
      " dense_49 (Dense)            (None, 256)               65792     \n",
      "                                                                 \n",
      " dense_50 (Dense)            (None, 256)               65792     \n",
      "                                                                 \n",
      " dense_51 (Dense)            (None, 256)               65792     \n",
      "                                                                 \n",
      " dense_52 (Dense)            (None, 1)                 257       \n",
      "                                                                 \n",
      "=================================================================\n",
      "Total params: 464385 (1.77 MB)\n",
      "Trainable params: 464385 (1.77 MB)\n",
      "Non-trainable params: 0 (0.00 Byte)\n",
      "_________________________________________________________________\n"
     ]
    }
   ],
   "source": [
    "model11.summary()"
   ]
  },
  {
   "cell_type": "code",
   "execution_count": 41,
   "id": "8d61a97f",
   "metadata": {},
   "outputs": [
    {
     "name": "stdout",
     "output_type": "stream",
     "text": [
      "Epoch 1/10\n",
      "1875/1875 [==============================] - 62s 32ms/step - loss: 20.5000 - accuracy: 0.1000\n",
      "Epoch 2/10\n",
      "1875/1875 [==============================] - 61s 33ms/step - loss: 20.5000 - accuracy: 0.1000\n",
      "Epoch 3/10\n",
      "1875/1875 [==============================] - 58s 31ms/step - loss: 20.5000 - accuracy: 0.1000\n",
      "Epoch 4/10\n",
      "1875/1875 [==============================] - 57s 31ms/step - loss: 20.5000 - accuracy: 0.1000\n",
      "Epoch 5/10\n",
      "1875/1875 [==============================] - 60s 32ms/step - loss: 20.5000 - accuracy: 0.1000\n",
      "Epoch 6/10\n",
      "1875/1875 [==============================] - 61s 33ms/step - loss: 20.5000 - accuracy: 0.1000\n",
      "Epoch 7/10\n",
      "1875/1875 [==============================] - 58s 31ms/step - loss: 20.5000 - accuracy: 0.1000\n",
      "Epoch 8/10\n",
      "1875/1875 [==============================] - 58s 31ms/step - loss: 20.5000 - accuracy: 0.1000\n",
      "Epoch 9/10\n",
      "1875/1875 [==============================] - 59s 32ms/step - loss: 20.5000 - accuracy: 0.1000\n",
      "Epoch 10/10\n",
      "1875/1875 [==============================] - 58s 31ms/step - loss: 20.5000 - accuracy: 0.1000\n",
      "313/313 [==============================] - 3s 10ms/step - loss: 20.5000 - accuracy: 0.1000\n"
     ]
    },
    {
     "data": {
      "text/plain": [
       "[20.5, 0.10000000149011612]"
      ]
     },
     "execution_count": 41,
     "metadata": {},
     "output_type": "execute_result"
    }
   ],
   "source": [
    "model12 = layerandnodes(512,5)\n",
    "model12.fit(x_train_n,y_train,epochs=10)\n",
    "model12.evaluate(x_test_n,y_test)"
   ]
  },
  {
   "cell_type": "code",
   "execution_count": 42,
   "id": "d534859e",
   "metadata": {},
   "outputs": [
    {
     "name": "stdout",
     "output_type": "stream",
     "text": [
      "Model: \"sequential_13\"\n",
      "_________________________________________________________________\n",
      " Layer (type)                Output Shape              Param #   \n",
      "=================================================================\n",
      " flatten_13 (Flatten)        (None, 784)               0         \n",
      "                                                                 \n",
      " dense_53 (Dense)            (None, 512)               401920    \n",
      "                                                                 \n",
      " dense_54 (Dense)            (None, 512)               262656    \n",
      "                                                                 \n",
      " dense_55 (Dense)            (None, 512)               262656    \n",
      "                                                                 \n",
      " dense_56 (Dense)            (None, 512)               262656    \n",
      "                                                                 \n",
      " dense_57 (Dense)            (None, 512)               262656    \n",
      "                                                                 \n",
      " dense_58 (Dense)            (None, 1)                 513       \n",
      "                                                                 \n",
      "=================================================================\n",
      "Total params: 1453057 (5.54 MB)\n",
      "Trainable params: 1453057 (5.54 MB)\n",
      "Non-trainable params: 0 (0.00 Byte)\n",
      "_________________________________________________________________\n"
     ]
    }
   ],
   "source": [
    "model12.summary()"
   ]
  }
 ],
 "metadata": {
  "kernelspec": {
   "display_name": "Python 3 (ipykernel)",
   "language": "python",
   "name": "python3"
  },
  "language_info": {
   "codemirror_mode": {
    "name": "ipython",
    "version": 3
   },
   "file_extension": ".py",
   "mimetype": "text/x-python",
   "name": "python",
   "nbconvert_exporter": "python",
   "pygments_lexer": "ipython3",
   "version": "3.11.3"
  }
 },
 "nbformat": 4,
 "nbformat_minor": 5
}
