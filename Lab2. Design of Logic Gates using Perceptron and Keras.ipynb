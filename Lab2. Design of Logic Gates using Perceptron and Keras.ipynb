{
 "cells": [
  {
   "cell_type": "markdown",
   "metadata": {},
   "source": [
    "### Lab2. Design of Logic Gates using Perceptron and Keras\n",
    "\n",
    "    Learning Outcomes\n",
    "    After completing this lab session, you will be able to Design neural networks for implementing the functions of logic gates such as AND, OR, NOR and NAND using single Neuron (called Perceptron)\n",
    "     Design XOR gate using Multi-Layer Perceptron\n",
    "     Design logic gates using Keras Deep Learning library\n",
    "### Part-I: Design OR gate using the concept of Perceptron\n",
    "#### Step1: Define helper functions\n",
    "    You can implement gate operations by identifying the appropriate weights for w1 and w2 and bias b for the single neuron."
   ]
  },
  {
   "cell_type": "code",
   "execution_count": 4,
   "metadata": {},
   "outputs": [],
   "source": [
    "import numpy as np"
   ]
  },
  {
   "cell_type": "code",
   "execution_count": 5,
   "metadata": {},
   "outputs": [],
   "source": [
    "def sigmoid(x):\n",
    "    return 1/(1+np.exp(-x))"
   ]
  },
  {
   "cell_type": "code",
   "execution_count": 6,
   "metadata": {},
   "outputs": [],
   "source": [
    "def logic_gate(w1, w2, b):\n",
    "# Helper to create logic gate functions\n",
    "# Plug in values for weight_a, weight_b, and bias\n",
    "    return lambda x1, x2: sigmoid(w1 * x1 + w2 * x2 + b)"
   ]
  },
  {
   "cell_type": "code",
   "execution_count": 7,
   "metadata": {},
   "outputs": [],
   "source": [
    "def test(gate):\n",
    "# Helper function to test out our weight functions.\n",
    "    for a, b in (0, 0), (0, 1), (1, 0), (1, 1):\n",
    "        print(\"{}, {}: {}\".format(a, b, np.round(gate(a,b))))"
   ]
  },
  {
   "cell_type": "markdown",
   "metadata": {},
   "source": [
    "#### Step2: Identify values for weights, w1 and w2 and bias, b, for OR gate.\n",
    "    Then, call logic_gate() function first with the values of weights and bias and test the outputs. For example, do the following steps and verify OR gate operations."
   ]
  },
  {
   "cell_type": "code",
   "execution_count": 8,
   "metadata": {},
   "outputs": [
    {
     "name": "stdout",
     "output_type": "stream",
     "text": [
      "0, 0: 0.0\n",
      "0, 1: 1.0\n",
      "1, 0: 1.0\n",
      "1, 1: 1.0\n"
     ]
    }
   ],
   "source": [
    "or_gate = logic_gate(20, 20,-10)\n",
    "test(or_gate)"
   ]
  },
  {
   "cell_type": "markdown",
   "metadata": {},
   "source": [
    "### Part-II: Implement the operations of AND, NOR and NAND gates\n",
    "    Step1: Identify values for weights, w1 and w2 and bias, b, for AND gate. Then, call logic_gate() function first with the values of weights and bias andtest the outputs. Draw manually using pen the diagram of OR gate."
   ]
  },
  {
   "cell_type": "code",
   "execution_count": 9,
   "metadata": {},
   "outputs": [
    {
     "name": "stdout",
     "output_type": "stream",
     "text": [
      "0, 0: 0.0\n",
      "0, 1: 0.0\n",
      "1, 0: 0.0\n",
      "1, 1: 1.0\n"
     ]
    }
   ],
   "source": [
    "and_gate = logic_gate(20,20,-30)\n",
    "test(and_gate)"
   ]
  },
  {
   "cell_type": "markdown",
   "metadata": {},
   "source": [
    "    Step2: Identify values for weights, w1 and w2 and bias, b, for NOR gate. Then, call logic_gate() function first with the values of weights and bias and test the outputs. Draw manually using pen the diagram of NOR gate."
   ]
  },
  {
   "cell_type": "code",
   "execution_count": 10,
   "metadata": {},
   "outputs": [
    {
     "name": "stdout",
     "output_type": "stream",
     "text": [
      "0, 0: 1.0\n",
      "0, 1: 0.0\n",
      "1, 0: 0.0\n",
      "1, 1: 0.0\n"
     ]
    }
   ],
   "source": [
    "nor_gate = logic_gate(-20,-20,10)\n",
    "test(nor_gate)"
   ]
  },
  {
   "cell_type": "markdown",
   "metadata": {},
   "source": [
    "    Step3: Identify values for weights, w1 and w2 and bias, b, for NAND gate. Then, call logic_gate() function first with the values of weights and bias and test the outputs. Draw manually using pen the diagram of NAND gate."
   ]
  },
  {
   "cell_type": "code",
   "execution_count": 11,
   "metadata": {},
   "outputs": [
    {
     "name": "stdout",
     "output_type": "stream",
     "text": [
      "0, 0: 1.0\n",
      "0, 1: 1.0\n",
      "1, 0: 1.0\n",
      "1, 1: 0.0\n"
     ]
    }
   ],
   "source": [
    "nand_gate = logic_gate(-20,-20,30)\n",
    "test(nand_gate)"
   ]
  },
  {
   "cell_type": "markdown",
   "metadata": {},
   "source": [
    "### Part-III: Limitations of single neuron for XOR operation\n",
    "    Can you identify a set of weights such that a single neuron can output the values for XOR gate?. Single neurons can't correlate inputs, so it's just confused. So individual neurons are out. Can we still use neurons to somehow form an XOR gate?."
   ]
  },
  {
   "cell_type": "code",
   "execution_count": 15,
   "metadata": {},
   "outputs": [],
   "source": [
    "def test1(gate): \n",
    " # Helper function to test out our weight functions.\n",
    " for a, b in (1, 0), (0, 0), (0, 0), (0, 1): \n",
    "         print(\"{}, {}: {}\".format(a, b, np.round(gate(a,  b)))) "
   ]
  },
  {
   "cell_type": "code",
   "execution_count": 17,
   "metadata": {},
   "outputs": [
    {
     "name": "stdout",
     "output_type": "stream",
     "text": [
      "1, 0: 0.0\n",
      "0, 0: 1.0\n",
      "0, 0: 1.0\n",
      "0, 1: 0.0\n"
     ]
    }
   ],
   "source": [
    "xor_gate = logic_gate(-20,-20,1) \n",
    "test1(xor_gate)"
   ]
  },
  {
   "cell_type": "code",
   "execution_count": 18,
   "metadata": {},
   "outputs": [
    {
     "name": "stdout",
     "output_type": "stream",
     "text": [
      "1, 0: 1.0\n",
      "0, 0: 0.0\n",
      "0, 0: 0.0\n",
      "0, 1: 1.0\n"
     ]
    }
   ],
   "source": [
    "xor_gate = logic_gate(20,20,-1) \n",
    "test1(xor_gate)"
   ]
  },
  {
   "cell_type": "markdown",
   "metadata": {},
   "source": [
    "    Here, we've got the inputs going to two separate gates: the top neuron is an OR gate, and the bottom is a NAND gate. The output of these gates then get passed to another neuron, which is an AND gate. If you work out the outputs at each combination of input values, you'll see that this is an XOR \"gate!."
   ]
  },
  {
   "cell_type": "markdown",
   "metadata": {},
   "source": [
    "### Part-IV: Logic Gates using Keras library\n",
    "    In this part of the lab, you will create and implement the operations of logic gates such as AND, OR, NOT, NAND, NOR and XOR in Keras.\n",
    "Steps: For each logic gate operations\n",
    "1. Create a tensor using Numpy array for input values and output\n",
    "values\n",
    "2. Create a neural network with one hidden layer with 16 nodes, input\n",
    "dimensions to be 2 and “relu” activation function. The output layer\n",
    "should have one node with sigmoid activation function.\n",
    "3. Compile the model with “adam” optimizer, 'mean_squared_error' loss\n",
    "function and 'binary_accuracy' as performance or metric.\n",
    "4. Run the model with 100 epoch and predict the output values."
   ]
  },
  {
   "cell_type": "code",
   "execution_count": 14,
   "metadata": {},
   "outputs": [],
   "source": [
    "from keras.models import Sequential\n",
    "from keras.layers.core import Dense"
   ]
  },
  {
   "cell_type": "code",
   "execution_count": 19,
   "metadata": {},
   "outputs": [],
   "source": [
    "training_data = np.array([[0,0],[0,1],[1,0],[1,1]], \"float32\")\n",
    "target_data = np.array([[0],[0],[0],[1]], \"float32\")"
   ]
  },
  {
   "cell_type": "code",
   "execution_count": 20,
   "metadata": {
    "collapsed": true
   },
   "outputs": [
    {
     "ename": "TypeError",
     "evalue": "The added layer must be an instance of class Layer. Received: layer=<keras.layers.core.Dense object at 0x0000014EF37DAE90> of type <class 'keras.layers.core.Dense'>.",
     "output_type": "error",
     "traceback": [
      "\u001b[1;31m---------------------------------------------------------------------------\u001b[0m",
      "\u001b[1;31mTypeError\u001b[0m                                 Traceback (most recent call last)",
      "Cell \u001b[1;32mIn[20], line 2\u001b[0m\n\u001b[0;32m      1\u001b[0m model \u001b[38;5;241m=\u001b[39m Sequential()\n\u001b[1;32m----> 2\u001b[0m \u001b[43mmodel\u001b[49m\u001b[38;5;241;43m.\u001b[39;49m\u001b[43madd\u001b[49m\u001b[43m(\u001b[49m\u001b[43mDense\u001b[49m\u001b[43m(\u001b[49m\u001b[38;5;241;43m16\u001b[39;49m\u001b[43m,\u001b[49m\u001b[43m \u001b[49m\u001b[43minput_dim\u001b[49m\u001b[38;5;241;43m=\u001b[39;49m\u001b[38;5;241;43m2\u001b[39;49m\u001b[43m,\u001b[49m\u001b[43m \u001b[49m\u001b[43mactivation\u001b[49m\u001b[38;5;241;43m=\u001b[39;49m\u001b[38;5;124;43m'\u001b[39;49m\u001b[38;5;124;43mrelu\u001b[39;49m\u001b[38;5;124;43m'\u001b[39;49m\u001b[43m)\u001b[49m\u001b[43m)\u001b[49m\n\u001b[0;32m      3\u001b[0m model\u001b[38;5;241m.\u001b[39madd(Dense(\u001b[38;5;241m1\u001b[39m, activation\u001b[38;5;241m=\u001b[39m\u001b[38;5;124m'\u001b[39m\u001b[38;5;124msigmoid\u001b[39m\u001b[38;5;124m'\u001b[39m))\n",
      "File \u001b[1;32m~\\AppData\\Roaming\\Python\\Python310\\site-packages\\tensorflow\\python\\trackable\\base.py:204\u001b[0m, in \u001b[0;36mno_automatic_dependency_tracking.<locals>._method_wrapper\u001b[1;34m(self, *args, **kwargs)\u001b[0m\n\u001b[0;32m    202\u001b[0m \u001b[38;5;28mself\u001b[39m\u001b[38;5;241m.\u001b[39m_self_setattr_tracking \u001b[38;5;241m=\u001b[39m \u001b[38;5;28;01mFalse\u001b[39;00m  \u001b[38;5;66;03m# pylint: disable=protected-access\u001b[39;00m\n\u001b[0;32m    203\u001b[0m \u001b[38;5;28;01mtry\u001b[39;00m:\n\u001b[1;32m--> 204\u001b[0m   result \u001b[38;5;241m=\u001b[39m method(\u001b[38;5;28mself\u001b[39m, \u001b[38;5;241m*\u001b[39margs, \u001b[38;5;241m*\u001b[39m\u001b[38;5;241m*\u001b[39mkwargs)\n\u001b[0;32m    205\u001b[0m \u001b[38;5;28;01mfinally\u001b[39;00m:\n\u001b[0;32m    206\u001b[0m   \u001b[38;5;28mself\u001b[39m\u001b[38;5;241m.\u001b[39m_self_setattr_tracking \u001b[38;5;241m=\u001b[39m previous_value  \u001b[38;5;66;03m# pylint: disable=protected-access\u001b[39;00m\n",
      "File \u001b[1;32m~\\AppData\\Roaming\\Python\\Python310\\site-packages\\keras\\src\\utils\\traceback_utils.py:70\u001b[0m, in \u001b[0;36mfilter_traceback.<locals>.error_handler\u001b[1;34m(*args, **kwargs)\u001b[0m\n\u001b[0;32m     67\u001b[0m     filtered_tb \u001b[38;5;241m=\u001b[39m _process_traceback_frames(e\u001b[38;5;241m.\u001b[39m__traceback__)\n\u001b[0;32m     68\u001b[0m     \u001b[38;5;66;03m# To get the full stack trace, call:\u001b[39;00m\n\u001b[0;32m     69\u001b[0m     \u001b[38;5;66;03m# `tf.debugging.disable_traceback_filtering()`\u001b[39;00m\n\u001b[1;32m---> 70\u001b[0m     \u001b[38;5;28;01mraise\u001b[39;00m e\u001b[38;5;241m.\u001b[39mwith_traceback(filtered_tb) \u001b[38;5;28;01mfrom\u001b[39;00m \u001b[38;5;28mNone\u001b[39m\n\u001b[0;32m     71\u001b[0m \u001b[38;5;28;01mfinally\u001b[39;00m:\n\u001b[0;32m     72\u001b[0m     \u001b[38;5;28;01mdel\u001b[39;00m filtered_tb\n",
      "File \u001b[1;32m~\\AppData\\Roaming\\Python\\Python310\\site-packages\\keras\\src\\engine\\sequential.py:185\u001b[0m, in \u001b[0;36mSequential.add\u001b[1;34m(self, layer)\u001b[0m\n\u001b[0;32m    183\u001b[0m         layer \u001b[38;5;241m=\u001b[39m functional\u001b[38;5;241m.\u001b[39mModuleWrapper(layer)\n\u001b[0;32m    184\u001b[0m \u001b[38;5;28;01melse\u001b[39;00m:\n\u001b[1;32m--> 185\u001b[0m     \u001b[38;5;28;01mraise\u001b[39;00m \u001b[38;5;167;01mTypeError\u001b[39;00m(\n\u001b[0;32m    186\u001b[0m         \u001b[38;5;124m\"\u001b[39m\u001b[38;5;124mThe added layer must be an instance of class Layer. \u001b[39m\u001b[38;5;124m\"\u001b[39m\n\u001b[0;32m    187\u001b[0m         \u001b[38;5;124mf\u001b[39m\u001b[38;5;124m\"\u001b[39m\u001b[38;5;124mReceived: layer=\u001b[39m\u001b[38;5;132;01m{\u001b[39;00mlayer\u001b[38;5;132;01m}\u001b[39;00m\u001b[38;5;124m of type \u001b[39m\u001b[38;5;132;01m{\u001b[39;00m\u001b[38;5;28mtype\u001b[39m(layer)\u001b[38;5;132;01m}\u001b[39;00m\u001b[38;5;124m.\u001b[39m\u001b[38;5;124m\"\u001b[39m\n\u001b[0;32m    188\u001b[0m     )\n\u001b[0;32m    190\u001b[0m tf_utils\u001b[38;5;241m.\u001b[39massert_no_legacy_layers([layer])\n\u001b[0;32m    191\u001b[0m \u001b[38;5;28;01mif\u001b[39;00m \u001b[38;5;129;01mnot\u001b[39;00m \u001b[38;5;28mself\u001b[39m\u001b[38;5;241m.\u001b[39m_is_layer_name_unique(layer):\n",
      "\u001b[1;31mTypeError\u001b[0m: The added layer must be an instance of class Layer. Received: layer=<keras.layers.core.Dense object at 0x0000014EF37DAE90> of type <class 'keras.layers.core.Dense'>."
     ]
    }
   ],
   "source": [
    "model = Sequential()\n",
    "model.add(Dense(16, input_dim=2, activation='relu'))\n",
    "model.add(Dense(1, activation='sigmoid'))"
   ]
  },
  {
   "cell_type": "code",
   "execution_count": 21,
   "metadata": {},
   "outputs": [],
   "source": [
    "model.compile(loss='mean_squared_error',\n",
    "              optimizer='adam',\n",
    "              metrics=['binary_accuracy'])"
   ]
  },
  {
   "cell_type": "code",
   "execution_count": 22,
   "metadata": {},
   "outputs": [
    {
     "name": "stdout",
     "output_type": "stream",
     "text": [
      "Epoch 1/100\n",
      "1/1 - 0s - loss: 0.2500 - binary_accuracy: 0.7500 - 415ms/epoch - 415ms/step\n",
      "Epoch 2/100\n",
      "1/1 - 0s - loss: 0.2500 - binary_accuracy: 0.7500 - 14ms/epoch - 14ms/step\n",
      "Epoch 3/100\n",
      "1/1 - 0s - loss: 0.2500 - binary_accuracy: 0.7500 - 12ms/epoch - 12ms/step\n",
      "Epoch 4/100\n",
      "1/1 - 0s - loss: 0.2500 - binary_accuracy: 0.7500 - 11ms/epoch - 11ms/step\n",
      "Epoch 5/100\n",
      "1/1 - 0s - loss: 0.2500 - binary_accuracy: 0.7500 - 8ms/epoch - 8ms/step\n",
      "Epoch 6/100\n",
      "1/1 - 0s - loss: 0.2500 - binary_accuracy: 0.7500 - 11ms/epoch - 11ms/step\n",
      "Epoch 7/100\n",
      "1/1 - 0s - loss: 0.2500 - binary_accuracy: 0.7500 - 9ms/epoch - 9ms/step\n",
      "Epoch 8/100\n",
      "1/1 - 0s - loss: 0.2500 - binary_accuracy: 0.7500 - 11ms/epoch - 11ms/step\n",
      "Epoch 9/100\n",
      "1/1 - 0s - loss: 0.2500 - binary_accuracy: 0.7500 - 14ms/epoch - 14ms/step\n",
      "Epoch 10/100\n",
      "1/1 - 0s - loss: 0.2500 - binary_accuracy: 0.7500 - 12ms/epoch - 12ms/step\n",
      "Epoch 11/100\n",
      "1/1 - 0s - loss: 0.2500 - binary_accuracy: 0.7500 - 11ms/epoch - 11ms/step\n",
      "Epoch 12/100\n",
      "1/1 - 0s - loss: 0.2500 - binary_accuracy: 0.7500 - 10ms/epoch - 10ms/step\n",
      "Epoch 13/100\n",
      "1/1 - 0s - loss: 0.2500 - binary_accuracy: 0.7500 - 7ms/epoch - 7ms/step\n",
      "Epoch 14/100\n",
      "1/1 - 0s - loss: 0.2500 - binary_accuracy: 0.7500 - 8ms/epoch - 8ms/step\n",
      "Epoch 15/100\n",
      "1/1 - 0s - loss: 0.2500 - binary_accuracy: 0.7500 - 7ms/epoch - 7ms/step\n",
      "Epoch 16/100\n",
      "1/1 - 0s - loss: 0.2500 - binary_accuracy: 0.7500 - 11ms/epoch - 11ms/step\n",
      "Epoch 17/100\n",
      "1/1 - 0s - loss: 0.2500 - binary_accuracy: 0.7500 - 13ms/epoch - 13ms/step\n",
      "Epoch 18/100\n",
      "1/1 - 0s - loss: 0.2500 - binary_accuracy: 0.7500 - 10ms/epoch - 10ms/step\n",
      "Epoch 19/100\n",
      "1/1 - 0s - loss: 0.2500 - binary_accuracy: 0.7500 - 10ms/epoch - 10ms/step\n",
      "Epoch 20/100\n",
      "1/1 - 0s - loss: 0.2500 - binary_accuracy: 0.7500 - 9ms/epoch - 9ms/step\n",
      "Epoch 21/100\n",
      "1/1 - 0s - loss: 0.2500 - binary_accuracy: 0.7500 - 9ms/epoch - 9ms/step\n",
      "Epoch 22/100\n",
      "1/1 - 0s - loss: 0.2500 - binary_accuracy: 0.7500 - 8ms/epoch - 8ms/step\n",
      "Epoch 23/100\n",
      "1/1 - 0s - loss: 0.2500 - binary_accuracy: 0.7500 - 7ms/epoch - 7ms/step\n",
      "Epoch 24/100\n",
      "1/1 - 0s - loss: 0.2500 - binary_accuracy: 0.7500 - 6ms/epoch - 6ms/step\n",
      "Epoch 25/100\n",
      "1/1 - 0s - loss: 0.2500 - binary_accuracy: 0.7500 - 8ms/epoch - 8ms/step\n",
      "Epoch 26/100\n",
      "1/1 - 0s - loss: 0.2500 - binary_accuracy: 0.7500 - 10ms/epoch - 10ms/step\n",
      "Epoch 27/100\n",
      "1/1 - 0s - loss: 0.2500 - binary_accuracy: 0.7500 - 11ms/epoch - 11ms/step\n",
      "Epoch 28/100\n",
      "1/1 - 0s - loss: 0.2500 - binary_accuracy: 0.7500 - 7ms/epoch - 7ms/step\n",
      "Epoch 29/100\n",
      "1/1 - 0s - loss: 0.2500 - binary_accuracy: 0.7500 - 12ms/epoch - 12ms/step\n",
      "Epoch 30/100\n",
      "1/1 - 0s - loss: 0.2500 - binary_accuracy: 0.7500 - 8ms/epoch - 8ms/step\n",
      "Epoch 31/100\n",
      "1/1 - 0s - loss: 0.2500 - binary_accuracy: 0.7500 - 7ms/epoch - 7ms/step\n",
      "Epoch 32/100\n",
      "1/1 - 0s - loss: 0.2500 - binary_accuracy: 0.7500 - 12ms/epoch - 12ms/step\n",
      "Epoch 33/100\n",
      "1/1 - 0s - loss: 0.2500 - binary_accuracy: 0.7500 - 8ms/epoch - 8ms/step\n",
      "Epoch 34/100\n",
      "1/1 - 0s - loss: 0.2500 - binary_accuracy: 0.7500 - 11ms/epoch - 11ms/step\n",
      "Epoch 35/100\n",
      "1/1 - 0s - loss: 0.2500 - binary_accuracy: 0.7500 - 15ms/epoch - 15ms/step\n",
      "Epoch 36/100\n",
      "1/1 - 0s - loss: 0.2500 - binary_accuracy: 0.7500 - 11ms/epoch - 11ms/step\n",
      "Epoch 37/100\n",
      "1/1 - 0s - loss: 0.2500 - binary_accuracy: 0.7500 - 20ms/epoch - 20ms/step\n",
      "Epoch 38/100\n",
      "1/1 - 0s - loss: 0.2500 - binary_accuracy: 0.7500 - 9ms/epoch - 9ms/step\n",
      "Epoch 39/100\n",
      "1/1 - 0s - loss: 0.2500 - binary_accuracy: 0.7500 - 9ms/epoch - 9ms/step\n",
      "Epoch 40/100\n",
      "1/1 - 0s - loss: 0.2500 - binary_accuracy: 0.7500 - 9ms/epoch - 9ms/step\n",
      "Epoch 41/100\n",
      "1/1 - 0s - loss: 0.2500 - binary_accuracy: 0.7500 - 10ms/epoch - 10ms/step\n",
      "Epoch 42/100\n",
      "1/1 - 0s - loss: 0.2500 - binary_accuracy: 0.7500 - 10ms/epoch - 10ms/step\n",
      "Epoch 43/100\n",
      "1/1 - 0s - loss: 0.2500 - binary_accuracy: 0.7500 - 10ms/epoch - 10ms/step\n",
      "Epoch 44/100\n",
      "1/1 - 0s - loss: 0.2500 - binary_accuracy: 0.7500 - 9ms/epoch - 9ms/step\n",
      "Epoch 45/100\n",
      "1/1 - 0s - loss: 0.2500 - binary_accuracy: 0.7500 - 9ms/epoch - 9ms/step\n",
      "Epoch 46/100\n",
      "1/1 - 0s - loss: 0.2500 - binary_accuracy: 0.7500 - 15ms/epoch - 15ms/step\n",
      "Epoch 47/100\n",
      "1/1 - 0s - loss: 0.2500 - binary_accuracy: 0.7500 - 12ms/epoch - 12ms/step\n",
      "Epoch 48/100\n",
      "1/1 - 0s - loss: 0.2500 - binary_accuracy: 0.7500 - 11ms/epoch - 11ms/step\n",
      "Epoch 49/100\n",
      "1/1 - 0s - loss: 0.2500 - binary_accuracy: 0.7500 - 12ms/epoch - 12ms/step\n",
      "Epoch 50/100\n",
      "1/1 - 0s - loss: 0.2500 - binary_accuracy: 0.7500 - 10ms/epoch - 10ms/step\n",
      "Epoch 51/100\n",
      "1/1 - 0s - loss: 0.2500 - binary_accuracy: 0.7500 - 10ms/epoch - 10ms/step\n",
      "Epoch 52/100\n",
      "1/1 - 0s - loss: 0.2500 - binary_accuracy: 0.7500 - 11ms/epoch - 11ms/step\n",
      "Epoch 53/100\n",
      "1/1 - 0s - loss: 0.2500 - binary_accuracy: 0.7500 - 10ms/epoch - 10ms/step\n",
      "Epoch 54/100\n",
      "1/1 - 0s - loss: 0.2500 - binary_accuracy: 0.7500 - 8ms/epoch - 8ms/step\n",
      "Epoch 55/100\n",
      "1/1 - 0s - loss: 0.2500 - binary_accuracy: 0.7500 - 9ms/epoch - 9ms/step\n",
      "Epoch 56/100\n",
      "1/1 - 0s - loss: 0.2500 - binary_accuracy: 0.7500 - 8ms/epoch - 8ms/step\n",
      "Epoch 57/100\n",
      "1/1 - 0s - loss: 0.2500 - binary_accuracy: 0.7500 - 8ms/epoch - 8ms/step\n",
      "Epoch 58/100\n",
      "1/1 - 0s - loss: 0.2500 - binary_accuracy: 0.7500 - 8ms/epoch - 8ms/step\n",
      "Epoch 59/100\n",
      "1/1 - 0s - loss: 0.2500 - binary_accuracy: 0.7500 - 8ms/epoch - 8ms/step\n",
      "Epoch 60/100\n",
      "1/1 - 0s - loss: 0.2500 - binary_accuracy: 0.7500 - 9ms/epoch - 9ms/step\n",
      "Epoch 61/100\n",
      "1/1 - 0s - loss: 0.2500 - binary_accuracy: 0.7500 - 10ms/epoch - 10ms/step\n",
      "Epoch 62/100\n",
      "1/1 - 0s - loss: 0.2500 - binary_accuracy: 0.7500 - 11ms/epoch - 11ms/step\n",
      "Epoch 63/100\n",
      "1/1 - 0s - loss: 0.2500 - binary_accuracy: 0.7500 - 10ms/epoch - 10ms/step\n",
      "Epoch 64/100\n",
      "1/1 - 0s - loss: 0.2500 - binary_accuracy: 0.7500 - 10ms/epoch - 10ms/step\n",
      "Epoch 65/100\n",
      "1/1 - 0s - loss: 0.2500 - binary_accuracy: 0.7500 - 8ms/epoch - 8ms/step\n",
      "Epoch 66/100\n",
      "1/1 - 0s - loss: 0.2500 - binary_accuracy: 0.7500 - 9ms/epoch - 9ms/step\n",
      "Epoch 67/100\n",
      "1/1 - 0s - loss: 0.2500 - binary_accuracy: 0.7500 - 10ms/epoch - 10ms/step\n",
      "Epoch 68/100\n",
      "1/1 - 0s - loss: 0.2500 - binary_accuracy: 0.7500 - 9ms/epoch - 9ms/step\n",
      "Epoch 69/100\n",
      "1/1 - 0s - loss: 0.2500 - binary_accuracy: 0.7500 - 9ms/epoch - 9ms/step\n",
      "Epoch 70/100\n",
      "1/1 - 0s - loss: 0.2500 - binary_accuracy: 0.7500 - 11ms/epoch - 11ms/step\n",
      "Epoch 71/100\n",
      "1/1 - 0s - loss: 0.2500 - binary_accuracy: 0.7500 - 8ms/epoch - 8ms/step\n",
      "Epoch 72/100\n",
      "1/1 - 0s - loss: 0.2500 - binary_accuracy: 0.7500 - 8ms/epoch - 8ms/step\n",
      "Epoch 73/100\n",
      "1/1 - 0s - loss: 0.2500 - binary_accuracy: 0.7500 - 6ms/epoch - 6ms/step\n",
      "Epoch 74/100\n",
      "1/1 - 0s - loss: 0.2500 - binary_accuracy: 0.7500 - 8ms/epoch - 8ms/step\n",
      "Epoch 75/100\n",
      "1/1 - 0s - loss: 0.2500 - binary_accuracy: 0.7500 - 9ms/epoch - 9ms/step\n",
      "Epoch 76/100\n",
      "1/1 - 0s - loss: 0.2500 - binary_accuracy: 0.7500 - 10ms/epoch - 10ms/step\n",
      "Epoch 77/100\n",
      "1/1 - 0s - loss: 0.2500 - binary_accuracy: 0.7500 - 10ms/epoch - 10ms/step\n",
      "Epoch 78/100\n",
      "1/1 - 0s - loss: 0.2500 - binary_accuracy: 0.7500 - 8ms/epoch - 8ms/step\n",
      "Epoch 79/100\n",
      "1/1 - 0s - loss: 0.2500 - binary_accuracy: 0.7500 - 8ms/epoch - 8ms/step\n",
      "Epoch 80/100\n",
      "1/1 - 0s - loss: 0.2500 - binary_accuracy: 0.7500 - 9ms/epoch - 9ms/step\n",
      "Epoch 81/100\n",
      "1/1 - 0s - loss: 0.2500 - binary_accuracy: 0.7500 - 11ms/epoch - 11ms/step\n",
      "Epoch 82/100\n",
      "1/1 - 0s - loss: 0.2500 - binary_accuracy: 0.7500 - 8ms/epoch - 8ms/step\n",
      "Epoch 83/100\n",
      "1/1 - 0s - loss: 0.2500 - binary_accuracy: 0.7500 - 7ms/epoch - 7ms/step\n",
      "Epoch 84/100\n",
      "1/1 - 0s - loss: 0.2500 - binary_accuracy: 0.7500 - 8ms/epoch - 8ms/step\n",
      "Epoch 85/100\n",
      "1/1 - 0s - loss: 0.2500 - binary_accuracy: 0.7500 - 9ms/epoch - 9ms/step\n",
      "Epoch 86/100\n",
      "1/1 - 0s - loss: 0.2500 - binary_accuracy: 0.7500 - 10ms/epoch - 10ms/step\n",
      "Epoch 87/100\n",
      "1/1 - 0s - loss: 0.2500 - binary_accuracy: 0.7500 - 9ms/epoch - 9ms/step\n",
      "Epoch 88/100\n",
      "1/1 - 0s - loss: 0.2500 - binary_accuracy: 0.7500 - 8ms/epoch - 8ms/step\n",
      "Epoch 89/100\n",
      "1/1 - 0s - loss: 0.2500 - binary_accuracy: 0.7500 - 6ms/epoch - 6ms/step\n",
      "Epoch 90/100\n",
      "1/1 - 0s - loss: 0.2500 - binary_accuracy: 0.7500 - 7ms/epoch - 7ms/step\n",
      "Epoch 91/100\n",
      "1/1 - 0s - loss: 0.2500 - binary_accuracy: 0.7500 - 9ms/epoch - 9ms/step\n",
      "Epoch 92/100\n",
      "1/1 - 0s - loss: 0.2500 - binary_accuracy: 0.7500 - 6ms/epoch - 6ms/step\n",
      "Epoch 93/100\n",
      "1/1 - 0s - loss: 0.2500 - binary_accuracy: 0.7500 - 6ms/epoch - 6ms/step\n",
      "Epoch 94/100\n",
      "1/1 - 0s - loss: 0.2500 - binary_accuracy: 0.7500 - 7ms/epoch - 7ms/step\n",
      "Epoch 95/100\n",
      "1/1 - 0s - loss: 0.2500 - binary_accuracy: 0.7500 - 8ms/epoch - 8ms/step\n"
     ]
    },
    {
     "name": "stdout",
     "output_type": "stream",
     "text": [
      "Epoch 96/100\n",
      "1/1 - 0s - loss: 0.2500 - binary_accuracy: 0.7500 - 9ms/epoch - 9ms/step\n",
      "Epoch 97/100\n",
      "1/1 - 0s - loss: 0.2500 - binary_accuracy: 0.7500 - 11ms/epoch - 11ms/step\n",
      "Epoch 98/100\n",
      "1/1 - 0s - loss: 0.2500 - binary_accuracy: 0.7500 - 9ms/epoch - 9ms/step\n",
      "Epoch 99/100\n",
      "1/1 - 0s - loss: 0.2500 - binary_accuracy: 0.7500 - 9ms/epoch - 9ms/step\n",
      "Epoch 100/100\n",
      "1/1 - 0s - loss: 0.2500 - binary_accuracy: 0.7500 - 8ms/epoch - 8ms/step\n",
      "1/1 [==============================] - 0s 192ms/step\n",
      "[[0. 0.]\n",
      " [0. 1.]\n",
      " [1. 0.]\n",
      " [1. 1.]]\n"
     ]
    }
   ],
   "source": [
    "model.fit(training_data, target_data, epochs=100, verbose=2)\n",
    "print(model.predict(training_data).round())"
   ]
  },
  {
   "cell_type": "code",
   "execution_count": null,
   "metadata": {},
   "outputs": [],
   "source": []
  }
 ],
 "metadata": {
  "kernelspec": {
   "display_name": "Python 3 (ipykernel)",
   "language": "python",
   "name": "python3"
  },
  "language_info": {
   "codemirror_mode": {
    "name": "ipython",
    "version": 3
   },
   "file_extension": ".py",
   "mimetype": "text/x-python",
   "name": "python",
   "nbconvert_exporter": "python",
   "pygments_lexer": "ipython3",
   "version": "3.10.9"
  }
 },
 "nbformat": 4,
 "nbformat_minor": 2
}
